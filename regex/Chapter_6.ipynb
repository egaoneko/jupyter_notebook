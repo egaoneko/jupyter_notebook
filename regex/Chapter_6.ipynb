{
 "cells": [
  {
   "cell_type": "markdown",
   "metadata": {},
   "source": [
    "# 위치 찾기"
   ]
  },
  {
   "cell_type": "markdown",
   "metadata": {},
   "source": [
    "## 경계 지정하기"
   ]
  },
  {
   "cell_type": "code",
   "execution_count": 1,
   "metadata": {},
   "outputs": [
    {
     "data": {
      "text/plain": [
       "[Array] [\"cat\",\"cat\"]"
      ]
     },
     "execution_count": 1,
     "metadata": {},
     "output_type": "execute_result"
    }
   ],
   "source": [
    "str = \"The cat scattered his food all over the room.\";\n",
    "\n",
    "str.match(/cat/g)"
   ]
  },
  {
   "cell_type": "markdown",
   "metadata": {},
   "source": [
    "### 단어 경계 지정하기"
   ]
  },
  {
   "cell_type": "code",
   "execution_count": 2,
   "metadata": {},
   "outputs": [
    {
     "data": {
      "text/plain": [
       "[Array] [\"cat\"]"
      ]
     },
     "execution_count": 2,
     "metadata": {},
     "output_type": "execute_result"
    }
   ],
   "source": [
    "str = \"The cat scattered his food all over the room.\";\n",
    "\n",
    "str.match(/\\bcat\\b/g)"
   ]
  },
  {
   "cell_type": "code",
   "execution_count": 3,
   "metadata": {},
   "outputs": [
    {
     "data": {
      "text/plain": [
       "[Array] [\"cap\",\"cap\",\"cap\",\"cap\"]"
      ]
     },
     "execution_count": 3,
     "metadata": {},
     "output_type": "execute_result"
    }
   ],
   "source": [
    "str = \"The captain wore this cap and cape produly as\\n\" + \n",
    "    \"he sat listening to the recap of how his\\n\" +\n",
    "    \"crew saved the men from a capsized vessel.\";\n",
    "\n",
    "str.match(/\\bcap/g)"
   ]
  },
  {
   "cell_type": "code",
   "execution_count": 4,
   "metadata": {},
   "outputs": [
    {
     "data": {
      "text/plain": [
       "[Array] [\"cap\",\"cap\"]"
      ]
     },
     "execution_count": 4,
     "metadata": {},
     "output_type": "execute_result"
    }
   ],
   "source": [
    "str = \"The captain wore this cap and cape produly as\\n\" + \n",
    "    \"he sat listening to the recap of how his\\n\" +\n",
    "    \"crew saved the men from a capsized vessel.\";\n",
    "\n",
    "str.match(/cap\\b/g)"
   ]
  },
  {
   "cell_type": "code",
   "execution_count": 5,
   "metadata": {},
   "outputs": [
    {
     "data": {
      "text/plain": [
       "[Array] [\"cap\"]"
      ]
     },
     "execution_count": 5,
     "metadata": {},
     "output_type": "execute_result"
    }
   ],
   "source": [
    "str = \"The captain wore this cap and cape produly as\\n\" + \n",
    "    \"he sat listening to the recap of how his\\n\" +\n",
    "    \"crew saved the men from a capsized vessel.\";\n",
    "\n",
    "str.match(/\\bcap\\b/g)"
   ]
  },
  {
   "cell_type": "code",
   "execution_count": 6,
   "metadata": {},
   "outputs": [
    {
     "data": {
      "text/plain": [
       "[Array] [\"cat\"]"
      ]
     },
     "execution_count": 6,
     "metadata": {},
     "output_type": "execute_result"
    }
   ],
   "source": [
    "str = \"The cat scattered his food all over the room.\";\n",
    "\n",
    "str.match(/\\Bcat\\B/g) // scattered"
   ]
  },
  {
   "cell_type": "markdown",
   "metadata": {},
   "source": [
    "* `\\b` 실제로 문자와 일치하지 않기 때문에 길이는 3(c,a,t)이다.(5가 아님)"
   ]
  },
  {
   "cell_type": "code",
   "execution_count": 7,
   "metadata": {},
   "outputs": [
    {
     "data": {
      "text/plain": [
       "[Array] [\"-\",\"-\"]"
      ]
     },
     "execution_count": 7,
     "metadata": {},
     "output_type": "execute_result"
    }
   ],
   "source": [
    "str = \"Please enter the nine-digit id as it\\n\" +\n",
    "    \"appears on your color - coded pass-key.\";\n",
    "\n",
    "str.match(/\\b-\\b/g)"
   ]
  },
  {
   "cell_type": "code",
   "execution_count": 8,
   "metadata": {},
   "outputs": [
    {
     "data": {
      "text/plain": [
       "[Array] [\"-\"]"
      ]
     },
     "execution_count": 8,
     "metadata": {},
     "output_type": "execute_result"
    }
   ],
   "source": [
    "str = \"Please enter the nine-digit id as it\\n\" +\n",
    "    \"appears on your color - coded pass-key.\";\n",
    "\n",
    "str.match(/\\B-\\B/g)"
   ]
  },
  {
   "cell_type": "markdown",
   "metadata": {},
   "source": [
    "* `-`가 문자가 아니다. 문자가 아닌걸 찾아준다."
   ]
  },
  {
   "cell_type": "code",
   "execution_count": 9,
   "metadata": {},
   "outputs": [
    {
     "data": {
      "text/plain": [
       "[Array] [\".\"]"
      ]
     },
     "execution_count": 9,
     "metadata": {},
     "output_type": "execute_result"
    }
   ],
   "source": [
    "str = \"The captain wore this cap and cape produly as\\n\" + \n",
    "    \"he sat listening to the recap of how his\\n\" +\n",
    "    \"crew saved the men from a capsized vessel .\";\n",
    "\n",
    "str.match(/\\B\\.\\B/g)"
   ]
  },
  {
   "cell_type": "markdown",
   "metadata": {},
   "source": [
    "### 문자열 경계 정의하기"
   ]
  },
  {
   "cell_type": "code",
   "execution_count": 10,
   "metadata": {},
   "outputs": [
    {
     "data": {
      "text/plain": [
       "[Array] [\"<?xml version=\\\"1.0\\\" encoding=\\\"UTF-8\\\" ?>\"]"
      ]
     },
     "execution_count": 10,
     "metadata": {},
     "output_type": "execute_result"
    }
   ],
   "source": [
    "str = '\"<?xml version=\"1.0\" encoding=\"UTF-8\" ?>\\n' +\n",
    "    '<wsdl:definitions targetNamespace=\"http://tips.cf\"\\n' +\n",
    "    'xmlns:impl=\"http://tips.cf\" xmlns:intf=\"http://tips.cf\\n' +\n",
    "    'xmlns:apachesoap=\"http://xml.apache.org/xml-soap\"';\n",
    "\n",
    "str.match(/<\\?xml.*\\?>/g)"
   ]
  },
  {
   "cell_type": "code",
   "execution_count": 11,
   "metadata": {},
   "outputs": [
    {
     "data": {
      "text/plain": [
       "[Array] [\"<?xml version=\\\"1.0\\\" encoding=\\\"UTF-8\\\" ?>\"]"
      ]
     },
     "execution_count": 11,
     "metadata": {},
     "output_type": "execute_result"
    }
   ],
   "source": [
    "str = 'This is bad, real bad!\\n' + \n",
    "    '\"<?xml version=\"1.0\" encoding=\"UTF-8\" ?>\\n' +\n",
    "    '<wsdl:definitions targetNamespace=\"http://tips.cf\"\\n' +\n",
    "    'xmlns:impl=\"http://tips.cf\" xmlns:intf=\"http://tips.cf\\n' +\n",
    "    'xmlns:apachesoap=\"http://xml.apache.org/xml-soap\"';\n",
    "\n",
    "str.match(/<\\?xml.*\\?>/g)"
   ]
  },
  {
   "cell_type": "code",
   "execution_count": 12,
   "metadata": {},
   "outputs": [
    {
     "data": {
      "text/plain": [
       "null"
      ]
     },
     "execution_count": 12,
     "metadata": {},
     "output_type": "execute_result"
    }
   ],
   "source": [
    "str = 'This is bad, real bad!\\n' + \n",
    "    '\"<?xml version=\"1.0\" encoding=\"UTF-8\" ?>\\n' +\n",
    "    '<wsdl:definitions targetNamespace=\"http://tips.cf\"\\n' +\n",
    "    'xmlns:impl=\"http://tips.cf\" xmlns:intf=\"http://tips.cf\\n' +\n",
    "    'xmlns:apachesoap=\"http://xml.apache.org/xml-soap\"';\n",
    "\n",
    "str.match(/^\\s*<\\?xml.*\\?>/g)"
   ]
  },
  {
   "cell_type": "code",
   "execution_count": 13,
   "metadata": {},
   "outputs": [
    {
     "data": {
      "text/plain": [
       "null"
      ]
     },
     "execution_count": 13,
     "metadata": {},
     "output_type": "execute_result"
    }
   ],
   "source": [
    "str = '\"     <?xml version=\"1.0\" encoding=\"UTF-8\" ?>\\n' +\n",
    "    '<wsdl:definitions targetNamespace=\"http://tips.cf\"\\n' +\n",
    "    'xmlns:impl=\"http://tips.cf\" xmlns:intf=\"http://tips.cf\\n' +\n",
    "    'xmlns:apachesoap=\"http://xml.apache.org/xml-soap\"';\n",
    "\n",
    "str.match(/^\\s*<\\?xml.*\\?>/g)"
   ]
  },
  {
   "cell_type": "code",
   "execution_count": 14,
   "metadata": {},
   "outputs": [
    {
     "data": {
      "text/plain": [
       "[Array] [\"</html>\"]"
      ]
     },
     "execution_count": 14,
     "metadata": {},
     "output_type": "execute_result"
    }
   ],
   "source": [
    "str = '</html>';\n",
    "\n",
    "str.match(/<\\/[Hh][Tt][Mm][Ll]>\\s*$/g)"
   ]
  },
  {
   "cell_type": "code",
   "execution_count": 15,
   "metadata": {},
   "outputs": [
    {
     "data": {
      "text/plain": [
       "null"
      ]
     },
     "execution_count": 15,
     "metadata": {},
     "output_type": "execute_result"
    }
   ],
   "source": [
    "str = '</html>test';\n",
    "\n",
    "str.match(/<\\/[Hh][Tt][Mm][Ll]>\\s*$/g)"
   ]
  },
  {
   "cell_type": "markdown",
   "metadata": {},
   "source": [
    "### 다중행 모드 사용하기"
   ]
  },
  {
   "cell_type": "code",
   "execution_count": 16,
   "metadata": {},
   "outputs": [
    {
     "data": {
      "text/plain": [
       "[Array] [\"  // Make sure not empty\",\"  // Init\",\"  //Done\"]"
      ]
     },
     "execution_count": 16,
     "metadata": {},
     "output_type": "execute_result"
    }
   ],
   "source": [
    "str = '<SCRIPT>\\n' +\n",
    "    'function doSpellCheck(form, field) {\\n' +\n",
    "    '  // Make sure not empty\\n' +\n",
    "    '  if (field.value == \"\") {\\n' +\n",
    "    '    return false;\\n' +\n",
    "    '  }\\n' +\n",
    "    '  // Init\\n' +\n",
    "    '  var windowName=\"spellWindow\";\\n' +\n",
    "    '  var spellCheckURL = \"spell.cfm>formname=comment&fieldname=\"+field.name;\\n' +\n",
    "    '  ...\\n' +\n",
    "    '  //Done\\n' +\n",
    "    '  return false;\\n' +\n",
    "    '}\\n' +\n",
    "    '</SCRIPT>';\n",
    "\n",
    "// str.match(/(?m)^\\s*\\/\\/.*$/g)\n",
    "str.match(/^\\s*\\/\\/.*$/gm)"
   ]
  },
  {
   "cell_type": "markdown",
   "metadata": {},
   "source": [
    "* JavaScript에서는 `(?m)`이 동작하지 않는다. 대신 마지막에 `m`을 붙여주자."
   ]
  }
 ],
 "metadata": {
  "kernelspec": {
   "display_name": "NodeJS",
   "language": "javascript",
   "name": "nodejs"
  },
  "language_info": {
   "codemirror_mode": "javascript",
   "file_extension": ".js",
   "mimetype": "text/javascript",
   "name": "nodejs",
   "pygments_lexer": "javascript",
   "version": "0.10"
  }
 },
 "nbformat": 4,
 "nbformat_minor": 2
}
