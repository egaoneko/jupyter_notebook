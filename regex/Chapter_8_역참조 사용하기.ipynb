{
 "cells": [
  {
   "cell_type": "markdown",
   "metadata": {},
   "source": [
    "# 역참조 사용하기"
   ]
  },
  {
   "cell_type": "markdown",
   "metadata": {},
   "source": [
    "## 역참조 이해하기"
   ]
  },
  {
   "cell_type": "code",
   "execution_count": 1,
   "metadata": {},
   "outputs": [
    {
     "data": {
      "text/plain": [
       "[Array] [\"<h1>Welcome to my Homepage</h1>\"]"
      ]
     },
     "execution_count": 1,
     "metadata": {},
     "output_type": "execute_result"
    }
   ],
   "source": [
    "str = \"<body>\\n\" +\n",
    "    \"<h1>Welcome to my Homepage</h1>\\n\" +\n",
    "    \"Content is divided into two sections:<br>\\n\" +\n",
    "    \"<h2>ColdFunstion</h2>\\n\" +\n",
    "    \"Information about Macromedia ColdFusion.\\n\" +\n",
    "    \"<h2>Wireless</h2>\\n\" +\n",
    "    \"Information about Bluetooth, 802.11, and more.\\n\" +\n",
    "    \"</body>\";\n",
    "\n",
    "str.match(/<[hH]1>.*<\\/[hH]1>/g)"
   ]
  },
  {
   "cell_type": "code",
   "execution_count": 2,
   "metadata": {},
   "outputs": [
    {
     "data": {
      "text/plain": [
       "[Array] [\"<h1>Welcome to my Homepage</h1>Content is divided into two sections:<br><h2>ColdFunstion</h2>Information about Macromedia ColdFusion<h2>Wireless</h2>\"]"
      ]
     },
     "execution_count": 2,
     "metadata": {},
     "output_type": "execute_result"
    }
   ],
   "source": [
    "str = \"<body>\" +\n",
    "    \"<h1>Welcome to my Homepage</h1>\" +\n",
    "    \"Content is divided into two sections:<br>\" +\n",
    "    \"<h2>ColdFunstion</h2>\" +\n",
    "    \"Information about Macromedia ColdFusion\" +\n",
    "    \"<h2>Wireless</h2>\" +\n",
    "    \"Information about Bluetooth, 802.11, and more\" +\n",
    "    \"</body>\";\n",
    "\n",
    "str.match(/<[hH][1-6]>.*<\\/[hH][1-6]>/g)"
   ]
  },
  {
   "cell_type": "code",
   "execution_count": 3,
   "metadata": {},
   "outputs": [
    {
     "data": {
      "text/plain": [
       "[Array] [\"<h1>Welcome to my Homepage</h1>\",\"<h2>ColdFunstion</h2>\",\"<h2>Wireless</h2>\"]"
      ]
     },
     "execution_count": 3,
     "metadata": {},
     "output_type": "execute_result"
    }
   ],
   "source": [
    "str = \"<body>\\n\" +\n",
    "    \"<h1>Welcome to my Homepage</h1>\\n\" +\n",
    "    \"Content is divided into two sections:<br>\\n\" +\n",
    "    \"<h2>ColdFunstion</h2>\\n\" +\n",
    "    \"Information about Macromedia ColdFusion.\\n\" +\n",
    "    \"<h2>Wireless</h2>\\n\" +\n",
    "    \"Information about Bluetooth, 802.11, and more.\\n\" +\n",
    "    \"</body>\";\n",
    "\n",
    "str.match(/<[hH][1-6]>.*?<\\/[hH][1-6]>/g)"
   ]
  },
  {
   "cell_type": "code",
   "execution_count": 4,
   "metadata": {},
   "outputs": [
    {
     "data": {
      "text/plain": [
       "[Array] [\"<h1>Welcome to my Homepage</h1>\",\"<h2>ColdFunstion</h2>\",\"<h2>Wireless</h2>\",\"<h2>This is not valid HTML</h3>\"]"
      ]
     },
     "execution_count": 4,
     "metadata": {},
     "output_type": "execute_result"
    }
   ],
   "source": [
    "str = \"<body>\\n\" +\n",
    "    \"<h1>Welcome to my Homepage</h1>\\n\" +\n",
    "    \"Content is divided into two sections:<br>\\n\" +\n",
    "    \"<h2>ColdFunstion</h2>\\n\" +\n",
    "    \"Information about Macromedia ColdFusion.\\n\" +\n",
    "    \"<h2>Wireless</h2>\\n\" +\n",
    "    \"Information about Bluetooth, 802.11, and more.\\n\" +\n",
    "    \"<h2>This is not valid HTML</h3>\" +\n",
    "    \"</body>\";\n",
    "\n",
    "str.match(/<[hH][1-6]>.*?<\\/[hH][1-6]>/g)"
   ]
  },
  {
   "cell_type": "markdown",
   "metadata": {},
   "source": [
    "## 역참조로 찾기"
   ]
  },
  {
   "cell_type": "code",
   "execution_count": 5,
   "metadata": {},
   "outputs": [
    {
     "data": {
      "text/plain": [
       "[Array] [\" of of\",\" are are\",\" and and\"]"
      ]
     },
     "execution_count": 5,
     "metadata": {},
     "output_type": "execute_result"
    }
   ],
   "source": [
    "str = \"This is a block of of text,\\n\" +\n",
    "    \"several words here are are\\n\" +\n",
    "    \"repeated, and and they\\n\" +\n",
    "    \"should not be.\";\n",
    "\n",
    "str.match(/[ ]+(\\w+)[ ]+\\1/g)"
   ]
  },
  {
   "cell_type": "code",
   "execution_count": 6,
   "metadata": {},
   "outputs": [
    {
     "data": {
      "text/plain": [
       "[Array] [\"<h1>Welcome to my Homepage</h1>\",\"<h2>ColdFunstion</h2>\",\"<h2>Wireless</h2>\"]"
      ]
     },
     "execution_count": 6,
     "metadata": {},
     "output_type": "execute_result"
    }
   ],
   "source": [
    "str = \"<body>\\n\" +\n",
    "    \"<h1>Welcome to my Homepage</h1>\\n\" +\n",
    "    \"Content is divided into two sections:<br>\\n\" +\n",
    "    \"<h2>ColdFunstion</h2>\\n\" +\n",
    "    \"Information about Macromedia ColdFusion.\\n\" +\n",
    "    \"<h2>Wireless</h2>\\n\" +\n",
    "    \"Information about Bluetooth, 802.11, and more.\\n\" +\n",
    "    \"<h2>This is not valid HTML</h3>\" +\n",
    "    \"</body>\";\n",
    "\n",
    "str.match(/<[hH]([1-6])>.*?<\\/[hH]\\1>/g)"
   ]
  },
  {
   "cell_type": "markdown",
   "metadata": {},
   "source": [
    "## 치환 작업 수행하기"
   ]
  },
  {
   "cell_type": "code",
   "execution_count": 7,
   "metadata": {},
   "outputs": [
    {
     "data": {
      "text/plain": [
       "[Array] [\"ben@forta.com\"]"
      ]
     },
     "execution_count": 7,
     "metadata": {},
     "output_type": "execute_result"
    }
   ],
   "source": [
    "str = \"Hello, ben@forta.com is my email address.\";\n",
    "\n",
    "str.match(/\\w+[\\w\\.]*@[\\w\\.]+\\.\\w+/g)"
   ]
  },
  {
   "cell_type": "code",
   "execution_count": 8,
   "metadata": {},
   "outputs": [
    {
     "data": {
      "text/plain": [
       "\"Hello, <a href=\\\"matilto:ben@forta.com\\\">ben@forta.com</a> is my email address.\""
      ]
     },
     "execution_count": 8,
     "metadata": {},
     "output_type": "execute_result"
    }
   ],
   "source": [
    "str = \"Hello, ben@forta.com is my email address.\";\n",
    "\n",
    "str.replace(/(\\w+[\\w\\.]*@[\\w\\.]+\\.\\w+)/g, \"<a href=\\\"matilto:$1\\\">$1<\\/a>\")"
   ]
  },
  {
   "cell_type": "code",
   "execution_count": 9,
   "metadata": {},
   "outputs": [
    {
     "data": {
      "text/plain": [
       "\"(313) 555-1234\\n(248) 555-9999\\n(810) 555-9000\""
      ]
     },
     "execution_count": 9,
     "metadata": {},
     "output_type": "execute_result"
    }
   ],
   "source": [
    "str = \"313-555-1234\\n\"+\n",
    "    \"248-555-9999\\n\" +\n",
    "    \"810-555-9000\";\n",
    "\n",
    "str.replace(/(\\d{3})(-)(\\d{3})(-)(\\d{4})/g, \"($1) $3-$5\")"
   ]
  },
  {
   "cell_type": "code",
   "execution_count": 10,
   "metadata": {},
   "outputs": [
    {
     "data": {
      "text/plain": [
       "\"<body>\\n<h1>UWelcome to my HomepageE</h1>\\nContent is divided into two sections:<br>\\n<h2>ColdFunstion</h2>\\nInformation about Macromedia ColdFusion.\\n<h2>Wireless</h2>\\nInformation about Bluetooth, 802.11, and more.\\n<h2>This is not valid HTML</h3></body>\""
      ]
     },
     "execution_count": 10,
     "metadata": {},
     "output_type": "execute_result"
    }
   ],
   "source": [
    "str = \"<body>\\n\" +\n",
    "    \"<h1>Welcome to my Homepage</h1>\\n\" +\n",
    "    \"Content is divided into two sections:<br>\\n\" +\n",
    "    \"<h2>ColdFunstion</h2>\\n\" +\n",
    "    \"Information about Macromedia ColdFusion.\\n\" +\n",
    "    \"<h2>Wireless</h2>\\n\" +\n",
    "    \"Information about Bluetooth, 802.11, and more.\\n\" +\n",
    "    \"<h2>This is not valid HTML</h3>\" +\n",
    "    \"</body>\";\n",
    "\n",
    "str.replace(/(<[hH]1>)(.*?)(<\\/[hH]1>)/g, \"$1\\U$2\\E$3\")"
   ]
  }
 ],
 "metadata": {
  "kernelspec": {
   "display_name": "NodeJS",
   "language": "javascript",
   "name": "nodejs"
  },
  "language_info": {
   "codemirror_mode": "javascript",
   "file_extension": ".js",
   "mimetype": "text/javascript",
   "name": "nodejs",
   "pygments_lexer": "javascript",
   "version": "0.10"
  }
 },
 "nbformat": 4,
 "nbformat_minor": 2
}
