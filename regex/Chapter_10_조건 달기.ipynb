{
 "cells": [
  {
   "cell_type": "markdown",
   "metadata": {},
   "source": [
    "# 조건 달기"
   ]
  },
  {
   "cell_type": "markdown",
   "metadata": {},
   "source": [
    "## 왜 조건을 다는가?"
   ]
  },
  {
   "cell_type": "code",
   "execution_count": 1,
   "metadata": {},
   "outputs": [
    {
     "data": {
      "text/plain": [
       "[Array] [\"123-456-7890\",\"(123)456-7890\",\"(123)-456-7890\",\"(123-456-7890\"]"
      ]
     },
     "execution_count": 1,
     "metadata": {},
     "output_type": "execute_result"
    }
   ],
   "source": [
    "str = \"123-456-7890\\n\" +\n",
    "    \"(123)456-7890\\n\" +\n",
    "    \"(123)-456-7890\\n\" +\n",
    "    \"(123-456-7890\\n\" +\n",
    "    \"1234567890\\n\" +\n",
    "    \"123 456 7890\";\n",
    "\n",
    "str.match(/\\(?\\d{3}\\)?-?\\d{3}-\\d{4}/g)"
   ]
  },
  {
   "cell_type": "markdown",
   "metadata": {},
   "source": [
    "## 조건 사용하기"
   ]
  },
  {
   "cell_type": "markdown",
   "metadata": {},
   "source": [
    "### 역참조 조건"
   ]
  },
  {
   "cell_type": "code",
   "execution_count": 2,
   "metadata": {},
   "outputs": [
    {
     "data": {
      "text/plain": [
       "\"<!-- Nav bar -->\\n<td>\\n<a href=\\\"home\\\"><img src=\\\"/images/home.gif\\\"></a>\\n<img src=\\\"/images/spacer.gif\\\"></a>\\n<a href=\\\"search\\\"><img src=\\\"/images/search.gif\\\"></a>\\n<img src=\\\"/images/spacer.gif\\\"></a>\\n</td>\""
      ]
     },
     "execution_count": 2,
     "metadata": {},
     "output_type": "execute_result"
    }
   ],
   "source": [
    "str = \"<!-- Nav bar -->\\n\" +\n",
    "    \"<td>\\n\" +\n",
    "    \"<a href=\\\"home\\\"><img src=\\\"/images/home.gif\\\"></a>\\n\" +\n",
    "    \"<img src=\\\"/images/spacer.gif\\\"></a>\\n\" +\n",
    "    \"<a href=\\\"search\\\"><img src=\\\"/images/search.gif\\\"></a>\\n\" +\n",
    "    \"<img src=\\\"/images/spacer.gif\\\"></a>\\n\" +\n",
    "    \"</td>\";\n",
    "\n",
    "// str.match(/(<[Aa]\\s+[^>]+>\\s*)?<[Ii][Mm][Gg]\\s+[^>]+>(?(1)\\s*<\\/[Aa]>)/g)\n",
    "// <a href=\\\"home\\\"><img src=\\\"/images/home.gif\\\"></a>\n",
    "// <img src=\\\"/images/spacer.gif\\\"></a>\n",
    "// <a href=\\\"search\\\"><img src=\\\"/images/search.gif\\\"></a>\n",
    "// <img src=\\\"/images/spacer.gif\\\"></a>"
   ]
  },
  {
   "cell_type": "code",
   "execution_count": 3,
   "metadata": {},
   "outputs": [
    {
     "data": {
      "text/plain": [
       "\"123-456-7890\\n(123)456-7890\\n(123)-456-7890\\n(123-456-7890\\n1234567890\\n123 456 7890\""
      ]
     },
     "execution_count": 3,
     "metadata": {},
     "output_type": "execute_result"
    }
   ],
   "source": [
    "str = \"123-456-7890\\n\" +\n",
    "    \"(123)456-7890\\n\" +\n",
    "    \"(123)-456-7890\\n\" +\n",
    "    \"(123-456-7890\\n\" +\n",
    "    \"1234567890\\n\" +\n",
    "    \"123 456 7890\";\n",
    "\n",
    "// str.match(/(\\()?\\d{3}(?(1)\\)|-)\\d{3}-\\d{4}/g)\n",
    "// 123-456-7890\n",
    "// (123)456-7890"
   ]
  },
  {
   "cell_type": "markdown",
   "metadata": {},
   "source": [
    "### 전후방탐색 조건"
   ]
  },
  {
   "cell_type": "code",
   "execution_count": 4,
   "metadata": {},
   "outputs": [
    {
     "data": {
      "text/plain": [
       "[Array] [\"11111\",\"22222\",\"33333\",\"44444-4444\"]"
      ]
     },
     "execution_count": 4,
     "metadata": {},
     "output_type": "execute_result"
    }
   ],
   "source": [
    "str = \"11111\\n\" +\n",
    "    \"22222\\n\" +\n",
    "    \"33333-\\n\" +\n",
    "    \"44444-4444\";\n",
    "\n",
    "str.match(/\\d{5}(-\\d{4})?/g)"
   ]
  },
  {
   "cell_type": "code",
   "execution_count": 5,
   "metadata": {},
   "outputs": [
    {
     "data": {
      "text/plain": [
       "\"11111\\n22222\\n33333-\\n44444-4444\""
      ]
     },
     "execution_count": 5,
     "metadata": {},
     "output_type": "execute_result"
    }
   ],
   "source": [
    "str = \"11111\\n\" +\n",
    "    \"22222\\n\" +\n",
    "    \"33333-\\n\" +\n",
    "    \"44444-4444\";\n",
    "\n",
    "// str.match(/\\d{5}(?(?=-)\\d{4})?/g)\n",
    "// 11111\n",
    "// 22222\n",
    "// 44444-4444"
   ]
  }
 ],
 "metadata": {
  "kernelspec": {
   "display_name": "NodeJS",
   "language": "javascript",
   "name": "nodejs"
  },
  "language_info": {
   "codemirror_mode": "javascript",
   "file_extension": ".js",
   "mimetype": "text/javascript",
   "name": "nodejs",
   "pygments_lexer": "javascript",
   "version": "0.10"
  }
 },
 "nbformat": 4,
 "nbformat_minor": 2
}
