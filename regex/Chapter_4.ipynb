{
 "cells": [
  {
   "cell_type": "markdown",
   "metadata": {},
   "source": [
    "# 메타 문자 사용하기"
   ]
  },
  {
   "cell_type": "markdown",
   "metadata": {},
   "source": [
    "## 이스케이프 다시 살펴보기"
   ]
  },
  {
   "cell_type": "code",
   "execution_count": 1,
   "metadata": {
    "collapsed": false
   },
   "outputs": [
    {
     "data": {
      "text/plain": [
       "null"
      ]
     },
     "execution_count": 1,
     "metadata": {},
     "output_type": "execute_result"
    }
   ],
   "source": [
    "str = \"var myArray = new Array()\\n\" + \n",
    "    \"...\\n\" + \n",
    "    \"if (myArray[0] == 0) {\\n\" +\n",
    "    \"...\\n\" +\n",
    "    \"}\";\n",
    "\n",
    "str.match(/myArray[0]/)"
   ]
  },
  {
   "cell_type": "code",
   "execution_count": 2,
   "metadata": {
    "collapsed": false
   },
   "outputs": [
    {
     "data": {
      "text/plain": [
       "[Array] [\"myArray[0]\"]"
      ]
     },
     "execution_count": 2,
     "metadata": {},
     "output_type": "execute_result"
    }
   ],
   "source": [
    "str = \"var myArray = new Array()\\n\" + \n",
    "    \"...\\n\" + \n",
    "    \"if (myArray[0] == 0) {\\n\" +\n",
    "    \"...\\n\" +\n",
    "    \"}\";\n",
    "\n",
    "str.match(/myArray\\[0\\]/)"
   ]
  },
  {
   "cell_type": "code",
   "execution_count": 3,
   "metadata": {
    "collapsed": false
   },
   "outputs": [
    {
     "data": {
      "text/plain": [
       "[Array] [\"myArray[2]\"]"
      ]
     },
     "execution_count": 3,
     "metadata": {},
     "output_type": "execute_result"
    }
   ],
   "source": [
    "str = \"var myArray = new Array()\\n\" + \n",
    "    \"...\\n\" + \n",
    "    \"if (myArray[2] == 0) {\\n\" +\n",
    "    \"...\\n\" +\n",
    "    \"}\";\n",
    "\n",
    "str.match(/myArray\\[[0-9]\\]/)"
   ]
  },
  {
   "cell_type": "code",
   "execution_count": 4,
   "metadata": {
    "collapsed": false
   },
   "outputs": [
    {
     "data": {
      "text/plain": [
       "[Array] [\"\\\\\",\"\\\\\",\"\\\\\"]"
      ]
     },
     "execution_count": 4,
     "metadata": {},
     "output_type": "execute_result"
    }
   ],
   "source": [
    "str = \"\\\\home\\\\ben\\\\sales\";\n",
    "\n",
    "str.match(/\\\\/g)"
   ]
  },
  {
   "cell_type": "code",
   "execution_count": 5,
   "metadata": {
    "collapsed": false
   },
   "outputs": [
    {
     "data": {
      "text/plain": [
       "[Array] [\"\\n\\n\"]"
      ]
     },
     "execution_count": 5,
     "metadata": {},
     "output_type": "execute_result"
    }
   ],
   "source": [
    "str = '\"101\",\"Ben\",\"Forta\\n\"' +\n",
    "    '\"102\",\"Jim\",\"James\"\\n' +\n",
    "    '\\n' +\n",
    "    '\"103\",\"Roberta\",\"Robertson\\n\"' +\n",
    "    '\"104\",\"Bob\",\"Bobson\"';\n",
    "\n",
    "// str.match(/\\r\\n\\r\\n/g)\n",
    "str.match(/\\n\\n/g)"
   ]
  },
  {
   "cell_type": "markdown",
   "metadata": {},
   "source": [
    "## 특정한 문자 형태와 일치시키기"
   ]
  },
  {
   "cell_type": "markdown",
   "metadata": {},
   "source": [
    "### 숫자와 숫자가 아닌 문자 찾기"
   ]
  },
  {
   "cell_type": "code",
   "execution_count": 6,
   "metadata": {
    "collapsed": false
   },
   "outputs": [
    {
     "data": {
      "text/plain": [
       "[Array] [\"myArray[0]\"]"
      ]
     },
     "execution_count": 6,
     "metadata": {},
     "output_type": "execute_result"
    }
   ],
   "source": [
    "str = \"var myArray = new Array()\\n\" + \n",
    "    \"...\\n\" + \n",
    "    \"if (myArray[0] == 0) {\\n\" +\n",
    "    \"...\\n\" +\n",
    "    \"}\";\n",
    "\n",
    "str.match(/myArray\\[\\d\\]/)"
   ]
  },
  {
   "cell_type": "markdown",
   "metadata": {},
   "source": [
    "### 영숫자 문자와 영숫자가 아닌 문자 찾기"
   ]
  },
  {
   "cell_type": "code",
   "execution_count": 7,
   "metadata": {
    "collapsed": false
   },
   "outputs": [
    {
     "data": {
      "text/plain": [
       "[Array] [\"A1C2E3\",\"M1B4F2\",\"H1H2H2\"]"
      ]
     },
     "execution_count": 7,
     "metadata": {},
     "output_type": "execute_result"
    }
   ],
   "source": [
    "str = \"11213\\n\" +\n",
    "    \"A1C2E3\\n\" +\n",
    "    \"48705\\n\" +\n",
    "    \"48237\\n\" +\n",
    "    \"M1B4F2\\n\" +\n",
    "    \"90046\\n\" +\n",
    "    \"H1H2H2\";\n",
    "\n",
    "str.match(/\\w\\d\\w\\d\\w\\d/g)"
   ]
  },
  {
   "cell_type": "markdown",
   "metadata": {},
   "source": [
    "### 공백 문자와 공백이 아닌 문자 찾기"
   ]
  },
  {
   "cell_type": "code",
   "execution_count": 8,
   "metadata": {
    "collapsed": false
   },
   "outputs": [
    {
     "data": {
      "text/plain": [
       "[Array] [\"\\n\",\"\\n\",\"\\n\",\"\\n\"]"
      ]
     },
     "execution_count": 8,
     "metadata": {},
     "output_type": "execute_result"
    }
   ],
   "source": [
    "str = '\"101\",\"Ben\",\"Forta\\n\"' +\n",
    "    '\"102\",\"Jim\",\"James\"\\n' +\n",
    "    '\\n' +\n",
    "    '\"103\",\"Roberta\",\"Robertson\\n\"' +\n",
    "    '\"104\",\"Bob\",\"Bobson\"';\n",
    "\n",
    "str.match(/\\s/g)"
   ]
  },
  {
   "cell_type": "markdown",
   "metadata": {},
   "source": [
    "### 16진수나 8진수 표현하기"
   ]
  },
  {
   "cell_type": "code",
   "execution_count": 9,
   "metadata": {
    "collapsed": false
   },
   "outputs": [
    {
     "data": {
      "text/plain": [
       "[Array] [\"\\n\",\"\\n\",\"\\n\",\"\\n\"]"
      ]
     },
     "execution_count": 9,
     "metadata": {},
     "output_type": "execute_result"
    }
   ],
   "source": [
    "str = '\"101\",\"Ben\",\"Forta\\n\"' +\n",
    "    '\"102\",\"Jim\",\"James\"\\n' +\n",
    "    '\\n' +\n",
    "    '\"103\",\"Roberta\",\"Robertson\\n\"' +\n",
    "    '\"104\",\"Bob\",\"Bobson\"';\n",
    "\n",
    "str.match(/\\x0A/g)"
   ]
  },
  {
   "cell_type": "code",
   "execution_count": 10,
   "metadata": {
    "collapsed": false
   },
   "outputs": [
    {
     "data": {
      "text/plain": [
       "[Array] [\"\\n\",\"\\n\",\"\\n\",\"\\n\"]"
      ]
     },
     "execution_count": 10,
     "metadata": {},
     "output_type": "execute_result"
    }
   ],
   "source": [
    "str = '\"101\",\"Ben\",\"Forta\\n\"' +\n",
    "    '\"102\",\"Jim\",\"James\"\\n' +\n",
    "    '\\n' +\n",
    "    '\"103\",\"Roberta\",\"Robertson\\n\"' +\n",
    "    '\"104\",\"Bob\",\"Bobson\"';\n",
    "\n",
    "str.match(/\\012/g)"
   ]
  }
 ],
 "metadata": {
  "kernelspec": {
   "display_name": "NodeJS",
   "language": "javascript",
   "name": "nodejs"
  },
  "language_info": {
   "codemirror_mode": "javascript",
   "file_extension": ".js",
   "mimetype": "text/javascript",
   "name": "nodejs",
   "pygments_lexer": "javascript",
   "version": "0.10"
  }
 },
 "nbformat": 4,
 "nbformat_minor": 2
}
