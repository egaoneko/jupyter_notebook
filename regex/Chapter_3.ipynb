{
 "cells": [
  {
   "cell_type": "markdown",
   "metadata": {
    "collapsed": true,
    "deletable": true,
    "editable": true
   },
   "source": [
    "# 문자 집합으로 찾기"
   ]
  },
  {
   "cell_type": "markdown",
   "metadata": {},
   "source": [
    "## 여러 문자 중 하나와 일치시키기"
   ]
  },
  {
   "cell_type": "code",
   "execution_count": 1,
   "metadata": {
    "collapsed": false
   },
   "outputs": [
    {
     "data": {
      "text/plain": [
       "[Array] [\"na1.xls\",\"na2.xls\",\"sa1.xls\"]"
      ]
     },
     "execution_count": 1,
     "metadata": {},
     "output_type": "execute_result"
    }
   ],
   "source": [
    "str = \"sales.xls\\n\" + \n",
    "    \"sales1.xls\\n\" +\n",
    "    \"orders.xls\\n\" +\n",
    "    \"sales2.xls\\n\" +\n",
    "    \"sales3.xls\\n\" +\n",
    "    \"spac1.xls\\n\" +\n",
    "    \"europe2.xls\\n\" +\n",
    "    \"na1.xls\\n\" +\n",
    "    \"na2.xls\\n\" +\n",
    "    \"sa1.xls\\n\";\n",
    "\n",
    "str.match(/[ns]a.\\.xls/g)"
   ]
  },
  {
   "cell_type": "code",
   "execution_count": 2,
   "metadata": {
    "collapsed": false
   },
   "outputs": [
    {
     "data": {
      "text/plain": [
       "[Array] [\"sa1.xls\",\"na1.xls\",\"na2.xls\",\"sa1.xls\"]"
      ]
     },
     "execution_count": 2,
     "metadata": {},
     "output_type": "execute_result"
    }
   ],
   "source": [
    "str = \"sales.xls\\n\" + \n",
    "    \"sales1.xls\\n\" +\n",
    "    \"orders.xls\\n\" +\n",
    "    \"sales2.xls\\n\" +\n",
    "    \"sales3.xls\\n\" +\n",
    "    \"spac1.xls\\n\" +\n",
    "    \"europe2.xls\\n\" +\n",
    "    \"usa1.xls\\n\" +\n",
    "    \"na1.xls\\n\" +\n",
    "    \"na2.xls\\n\" +\n",
    "    \"sa1.xls\\n\";\n",
    "\n",
    "str.match(/[ns]a.\\.xls/g)"
   ]
  },
  {
   "cell_type": "code",
   "execution_count": 3,
   "metadata": {
    "collapsed": false
   },
   "outputs": [
    {
     "data": {
      "text/plain": [
       "[Array] [\"RegEx\",\"regex\"]"
      ]
     },
     "execution_count": 3,
     "metadata": {},
     "output_type": "execute_result"
    }
   ],
   "source": [
    "str = 'The phrase \"regular expression\" is often abbreviated as RegEx or regex.'\n",
    "\n",
    "str.match(/[Rr]eg[Ee]x/g)"
   ]
  },
  {
   "cell_type": "code",
   "execution_count": 4,
   "metadata": {
    "collapsed": false
   },
   "outputs": [
    {
     "data": {
      "text/plain": [
       "[Array] [\"sam.xls\",\"na1.xls\",\"na2.xls\",\"sa1.xls\"]"
      ]
     },
     "execution_count": 4,
     "metadata": {},
     "output_type": "execute_result"
    }
   ],
   "source": [
    "str = \"sales.xls\\n\" + \n",
    "    \"sales1.xls\\n\" +\n",
    "    \"orders.xls\\n\" +\n",
    "    \"sales2.xls\\n\" +\n",
    "    \"sales3.xls\\n\" +\n",
    "    \"spac1.xls\\n\" +\n",
    "    \"europe2.xls\\n\" +\n",
    "    \"sam.xls\\n\" +\n",
    "    \"na1.xls\\n\" +\n",
    "    \"na2.xls\\n\" +\n",
    "    \"sa1.xls\\n\";\n",
    "\n",
    "str.match(/[ns]a.\\.xls/g)"
   ]
  },
  {
   "cell_type": "markdown",
   "metadata": {},
   "source": [
    "## 문자 집합 범위 사용하기"
   ]
  },
  {
   "cell_type": "code",
   "execution_count": 5,
   "metadata": {
    "collapsed": false
   },
   "outputs": [
    {
     "data": {
      "text/plain": [
       "[Array] [\"na1.xls\",\"na2.xls\",\"sa1.xls\"]"
      ]
     },
     "execution_count": 5,
     "metadata": {},
     "output_type": "execute_result"
    }
   ],
   "source": [
    "str = \"sales.xls\\n\" + \n",
    "    \"sales1.xls\\n\" +\n",
    "    \"orders.xls\\n\" +\n",
    "    \"sales2.xls\\n\" +\n",
    "    \"sales3.xls\\n\" +\n",
    "    \"spac1.xls\\n\" +\n",
    "    \"europe2.xls\\n\" +\n",
    "    \"sam.xls\\n\" +\n",
    "    \"na1.xls\\n\" +\n",
    "    \"na2.xls\\n\" +\n",
    "    \"sa1.xls\\n\";\n",
    "\n",
    "str.match(/[ns]a[0123456789]\\.xls/g)"
   ]
  },
  {
   "cell_type": "code",
   "execution_count": 6,
   "metadata": {
    "collapsed": false
   },
   "outputs": [
    {
     "data": {
      "text/plain": [
       "[Array] [\"na1.xls\",\"na2.xls\",\"sa1.xls\"]"
      ]
     },
     "execution_count": 6,
     "metadata": {},
     "output_type": "execute_result"
    }
   ],
   "source": [
    "str = \"sales.xls\\n\" + \n",
    "    \"sales1.xls\\n\" +\n",
    "    \"orders.xls\\n\" +\n",
    "    \"sales2.xls\\n\" +\n",
    "    \"sales3.xls\\n\" +\n",
    "    \"spac1.xls\\n\" +\n",
    "    \"europe2.xls\\n\" +\n",
    "    \"sam.xls\\n\" +\n",
    "    \"na1.xls\\n\" +\n",
    "    \"na2.xls\\n\" +\n",
    "    \"sa1.xls\\n\";\n",
    "\n",
    "str.match(/[ns]a[0-9]\\.xls/g)"
   ]
  },
  {
   "cell_type": "markdown",
   "metadata": {},
   "source": [
    "## 제외하고 찾기"
   ]
  },
  {
   "cell_type": "code",
   "execution_count": 7,
   "metadata": {
    "collapsed": false
   },
   "outputs": [
    {
     "data": {
      "text/plain": [
       "[Array] [\"sam.xls\"]"
      ]
     },
     "execution_count": 7,
     "metadata": {},
     "output_type": "execute_result"
    }
   ],
   "source": [
    "str = \"sales.xls\\n\" + \n",
    "    \"sales1.xls\\n\" +\n",
    "    \"orders.xls\\n\" +\n",
    "    \"sales2.xls\\n\" +\n",
    "    \"sales3.xls\\n\" +\n",
    "    \"spac1.xls\\n\" +\n",
    "    \"europe2.xls\\n\" +\n",
    "    \"sam.xls\\n\" +\n",
    "    \"na1.xls\\n\" +\n",
    "    \"na2.xls\\n\" +\n",
    "    \"sa1.xls\\n\";\n",
    "\n",
    "str.match(/[ns]a[^0-9]\\.xls/g)"
   ]
  }
 ],
 "metadata": {
  "kernelspec": {
   "display_name": "NodeJS",
   "language": "javascript",
   "name": "nodejs"
  },
  "language_info": {
   "codemirror_mode": "javascript",
   "file_extension": ".js",
   "mimetype": "text/javascript",
   "name": "nodejs",
   "pygments_lexer": "javascript",
   "version": "0.10"
  }
 },
 "nbformat": 4,
 "nbformat_minor": 2
}
