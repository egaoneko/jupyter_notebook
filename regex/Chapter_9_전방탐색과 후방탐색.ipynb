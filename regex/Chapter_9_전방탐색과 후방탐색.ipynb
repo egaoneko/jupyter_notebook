{
 "cells": [
  {
   "cell_type": "markdown",
   "metadata": {},
   "source": [
    "# 전방탐색과 후방탐색"
   ]
  },
  {
   "cell_type": "markdown",
   "metadata": {},
   "source": [
    "## 전후방탐색 살펴보기"
   ]
  },
  {
   "cell_type": "code",
   "execution_count": 1,
   "metadata": {},
   "outputs": [
    {
     "data": {
      "text/plain": [
       "[Array] [\"<title>Ben Forta's Homepage</title>\"]"
      ]
     },
     "execution_count": 1,
     "metadata": {},
     "output_type": "execute_result"
    }
   ],
   "source": [
    "str = \"<head>\\n\" +\n",
    "    \"<title>Ben Forta's Homepage</title>\\n\" +\n",
    "    \"</head>\";\n",
    "\n",
    "str.match(/<[tT][iI][tT][lL][eE]>.*<\\/[tT][iI][tT][lL][eE]>/g)"
   ]
  },
  {
   "cell_type": "markdown",
   "metadata": {},
   "source": [
    "* 전방탐색 : 모든 주요 정규 표현식 구현에서 지원\n",
    "* 후방탐색 : 일부 정규식 표현식 구현에서 지원\n",
    "    * Java, .Net, PHP, Perl 일부 지원\n",
    "    * JavaScript, ColdFusion 미지원"
   ]
  },
  {
   "cell_type": "markdown",
   "metadata": {},
   "source": [
    "## 전방탐색 - 앞으로 찾기"
   ]
  },
  {
   "cell_type": "code",
   "execution_count": 2,
   "metadata": {},
   "outputs": [
    {
     "data": {
      "text/plain": [
       "[Array] [\"http\",\"https\",\"ftp\"]"
      ]
     },
     "execution_count": 2,
     "metadata": {},
     "output_type": "execute_result"
    }
   ],
   "source": [
    "str = \"http://www.forta.com/\\n\" +\n",
    "    \"https://mail.forta.com/\\n\" +\n",
    "    \"ftp://ftp.forta.com/\";\n",
    "\n",
    "str.match(/.+(?=:)/g)"
   ]
  },
  {
   "cell_type": "code",
   "execution_count": 3,
   "metadata": {},
   "outputs": [
    {
     "data": {
      "text/plain": [
       "[Array] [\"http:\",\"https:\",\"ftp:\"]"
      ]
     },
     "execution_count": 3,
     "metadata": {},
     "output_type": "execute_result"
    }
   ],
   "source": [
    "str = \"http://www.forta.com/\\n\" +\n",
    "    \"https://mail.forta.com/\\n\" +\n",
    "    \"ftp://ftp.forta.com/\";\n",
    "\n",
    "str.match(/.+(:)/g)"
   ]
  },
  {
   "cell_type": "markdown",
   "metadata": {},
   "source": [
    "## 후방탐색 - 뒤로 찾기"
   ]
  },
  {
   "cell_type": "code",
   "execution_count": 4,
   "metadata": {},
   "outputs": [
    {
     "data": {
      "text/plain": [
       "[Array] [\"$23.45\",\"$5.31\",\"$899.00\",\"$69.96\"]"
      ]
     },
     "execution_count": 4,
     "metadata": {},
     "output_type": "execute_result"
    }
   ],
   "source": [
    "str = \"ABC01: $23.45\\n\" +\n",
    "    \"HGG42: $5.31\\n\" +\n",
    "    \"CFMX1: $899.00\\n\" +\n",
    "    \"XTC99: $69.96\\n\" +\n",
    "    \"Total items found: 4\";\n",
    "\n",
    "str.match(/\\$[0-9.]+/g)"
   ]
  },
  {
   "cell_type": "code",
   "execution_count": 5,
   "metadata": {},
   "outputs": [
    {
     "data": {
      "text/plain": [
       "[Array] [\"01\",\"23.45\",\"42\",\"5.31\",\"1\",\"899.00\",\"99\",\"69.96\",\"4\"]"
      ]
     },
     "execution_count": 5,
     "metadata": {},
     "output_type": "execute_result"
    }
   ],
   "source": [
    "str = \"ABC01: $23.45\\n\" +\n",
    "    \"HGG42: $5.31\\n\" +\n",
    "    \"CFMX1: $899.00\\n\" +\n",
    "    \"XTC99: $69.96\\n\" +\n",
    "    \"Total items found: 4\";\n",
    "\n",
    "str.match(/[0-9.]+/g)"
   ]
  },
  {
   "cell_type": "code",
   "execution_count": 6,
   "metadata": {},
   "outputs": [
    {
     "data": {
      "text/plain": [
       "\"ABC01: $23.45\\nHGG42: $5.31\\nCFMX1: $899.00\\nXTC99: $69.96\\nTotal items found: 4\""
      ]
     },
     "execution_count": 6,
     "metadata": {},
     "output_type": "execute_result"
    }
   ],
   "source": [
    "str = \"ABC01: $23.45\\n\" +\n",
    "    \"HGG42: $5.31\\n\" +\n",
    "    \"CFMX1: $899.00\\n\" +\n",
    "    \"XTC99: $69.96\\n\" +\n",
    "    \"Total items found: 4\";\n",
    "\n",
    "// str.match(/(?<=\\$)[0-9.]+/g) // 23.45, 5.31, 899.00, 69.96"
   ]
  },
  {
   "cell_type": "markdown",
   "metadata": {},
   "source": [
    "## 전방탐색과 후방탐색 함께 사용하기"
   ]
  },
  {
   "cell_type": "code",
   "execution_count": 7,
   "metadata": {},
   "outputs": [
    {
     "data": {
      "text/plain": [
       "\"<head>\\n<title>Ben Forta's Homepage</title>\\n</head>\""
      ]
     },
     "execution_count": 7,
     "metadata": {},
     "output_type": "execute_result"
    }
   ],
   "source": [
    "str = \"<head>\\n\" +\n",
    "    \"<title>Ben Forta's Homepage</title>\\n\" +\n",
    "    \"</head>\";\n",
    "\n",
    "// str.match(/(?<=<[tT][iI][tT][lL][eE]>).*(?=<\\/[tT][iI][tT][lL][eE]>)/g) // Ben Forta's Homepage"
   ]
  },
  {
   "cell_type": "markdown",
   "metadata": {},
   "source": [
    "## 부정형 전후방탐색"
   ]
  },
  {
   "cell_type": "code",
   "execution_count": 8,
   "metadata": {},
   "outputs": [
    {
     "data": {
      "text/plain": [
       "\"I paid $30 for 100 apples,\\n50 oranges, and 60 pears.\\nI saved $5 on this order\""
      ]
     },
     "execution_count": 8,
     "metadata": {},
     "output_type": "execute_result"
    }
   ],
   "source": [
    "str = \"I paid $30 for 100 apples,\\n\" +\n",
    "    \"50 oranges, and 60 pears.\\n\" +\n",
    "    \"I saved $5 on this order\";\n",
    "\n",
    "// str.match(/(?<=\\$)\\d+/g) // 30, 5"
   ]
  },
  {
   "cell_type": "code",
   "execution_count": 9,
   "metadata": {},
   "outputs": [
    {
     "data": {
      "text/plain": [
       "\"I paid $30 for 100 apples,\\n50 oranges, and 60 pears.\\nI saved $5 on this order\""
      ]
     },
     "execution_count": 9,
     "metadata": {},
     "output_type": "execute_result"
    }
   ],
   "source": [
    "str = \"I paid $30 for 100 apples,\\n\" +\n",
    "    \"50 oranges, and 60 pears.\\n\" +\n",
    "    \"I saved $5 on this order\";\n",
    "\n",
    "// str.match(/\\b(?<!\\$)\\d+\\b/g) // 100, 50, 60"
   ]
  },
  {
   "cell_type": "code",
   "execution_count": 10,
   "metadata": {},
   "outputs": [
    {
     "data": {
      "text/plain": [
       "\"I paid $30 for 100 apples,\\n50 oranges, and 60 pears.\\nI saved $5 on this order\""
      ]
     },
     "execution_count": 10,
     "metadata": {},
     "output_type": "execute_result"
    }
   ],
   "source": [
    "str = \"I paid $30 for 100 apples,\\n\" +\n",
    "    \"50 oranges, and 60 pears.\\n\" +\n",
    "    \"I saved $5 on this order\";\n",
    "\n",
    "// str.match(/(?<!\\$)\\d+/g) // ($3)0, 100, 50, 60"
   ]
  },
  {
   "cell_type": "code",
   "execution_count": 11,
   "metadata": {},
   "outputs": [
    {
     "data": {
      "text/plain": [
       "[Array] [\"cat\",\"cow\"]"
      ]
     },
     "execution_count": 11,
     "metadata": {},
     "output_type": "execute_result"
    }
   ],
   "source": [
    "str = \"cat. dog\\n\" +\n",
    "    \"cow. pig\\n\";\n",
    "\n",
    "str.match(/\\w+(?=\\.)/g)"
   ]
  },
  {
   "cell_type": "code",
   "execution_count": 12,
   "metadata": {},
   "outputs": [
    {
     "data": {
      "text/plain": [
       "[Array] [\"dog\",\"pig\"]"
      ]
     },
     "execution_count": 12,
     "metadata": {},
     "output_type": "execute_result"
    }
   ],
   "source": [
    "str = \"cat. dog\\n\" +\n",
    "    \"cow. pig\\n\";\n",
    "\n",
    "str.match(/\\b\\w+(?!\\.)\\b/g)"
   ]
  },
  {
   "cell_type": "code",
   "execution_count": 13,
   "metadata": {},
   "outputs": [
    {
     "data": {
      "text/plain": [
       "[Array] [\"ca\",\"dog\",\"co\",\"pig\"]"
      ]
     },
     "execution_count": 13,
     "metadata": {},
     "output_type": "execute_result"
    }
   ],
   "source": [
    "str = \"cat. dog\\n\" +\n",
    "    \"cow. pig\\n\";\n",
    "\n",
    "str.match(/\\w+(?!\\.)/g)"
   ]
  }
 ],
 "metadata": {
  "kernelspec": {
   "display_name": "NodeJS",
   "language": "javascript",
   "name": "nodejs"
  },
  "language_info": {
   "codemirror_mode": "javascript",
   "file_extension": ".js",
   "mimetype": "text/javascript",
   "name": "nodejs",
   "pygments_lexer": "javascript",
   "version": "0.10"
  }
 },
 "nbformat": 4,
 "nbformat_minor": 2
}
