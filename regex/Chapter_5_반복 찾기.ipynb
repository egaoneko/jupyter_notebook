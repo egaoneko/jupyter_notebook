{
 "cells": [
  {
   "cell_type": "markdown",
   "metadata": {},
   "source": [
    "# 반복 찾기"
   ]
  },
  {
   "cell_type": "markdown",
   "metadata": {},
   "source": [
    "## 몇 번 일치하는가?"
   ]
  },
  {
   "cell_type": "markdown",
   "metadata": {},
   "source": [
    "### 문자 하나 이상 찾기"
   ]
  },
  {
   "cell_type": "code",
   "execution_count": 1,
   "metadata": {
    "scrolled": true
   },
   "outputs": [
    {
     "data": {
      "text/plain": [
       "[Array] [\"ben@forta.com\",\"support@forta.com\",\"spam@forta.com\"]"
      ]
     },
     "execution_count": 1,
     "metadata": {},
     "output_type": "execute_result"
    }
   ],
   "source": [
    "str = \"Send personal email to ben@forta.com. For quesitons\\n\" +\n",
    "    \"about a book use support@forta.com. Feel free to send\\n\" +\n",
    "    \"unsolicited email to spam@forta.com (wouldn't it be\" +\n",
    "    \"nice if it were that simple, huh?).\";\n",
    "\n",
    "str.match(/\\w+@\\w+\\.\\w+/g)"
   ]
  },
  {
   "cell_type": "code",
   "execution_count": 2,
   "metadata": {},
   "outputs": [
    {
     "data": {
      "text/plain": [
       "[Array] [\"ben@forta.com\",\"forta@forta.com\",\"support@forta.com\",\"ben@urgent.forta\",\"spam@forta.com\"]"
      ]
     },
     "execution_count": 2,
     "metadata": {},
     "output_type": "execute_result"
    }
   ],
   "source": [
    "str = \"Send personal email to ben@forta.com or\\n\" +\n",
    "    \"ben.forta@forta.com. For quesitons about a\\n\" +\n",
    "    \"book use support@forta.com. If your message\\n\" +\n",
    "    \"is urgent try ben@urgent.forta.com. Feel\\n\" +\n",
    "    \"free to send unsolicatied email to\\n\" +\n",
    "    \"spam@forta.com (wouldn't it be nice if\\n\" + \n",
    "    \"it were that simple, huh?).\";\n",
    "\n",
    "str.match(/\\w+@\\w+\\.\\w+/g)"
   ]
  },
  {
   "cell_type": "code",
   "execution_count": 3,
   "metadata": {},
   "outputs": [
    {
     "data": {
      "text/plain": [
       "[Array] [\"ben@forta.com\",\"ben.forta@forta.com\",\"support@forta.com\",\"ben@urgent.forta.com\",\"spam@forta.com\"]"
      ]
     },
     "execution_count": 3,
     "metadata": {},
     "output_type": "execute_result"
    }
   ],
   "source": [
    "str = \"Send personal email to ben@forta.com or\\n\" +\n",
    "    \"ben.forta@forta.com. For quesitons about a\\n\" +\n",
    "    \"book use support@forta.com. If your message\\n\" +\n",
    "    \"is urgent try ben@urgent.forta.com. Feel\\n\" +\n",
    "    \"free to send unsolicatied email to\\n\" +\n",
    "    \"spam@forta.com (wouldn't it be nice if\\n\" + \n",
    "    \"it were that simple, huh?).\";\n",
    "\n",
    "str.match(/[\\w.]+@[\\w.]+\\.\\w+/g)"
   ]
  },
  {
   "cell_type": "code",
   "execution_count": 4,
   "metadata": {},
   "outputs": [
    {
     "data": {
      "text/plain": [
       "[Array] [\"ben@forta.com\",\"ben.forta@forta.com.\",\"support@forta.com.\",\"ben@urgent.forta.com.\",\"spam@forta.com\"]"
      ]
     },
     "execution_count": 4,
     "metadata": {},
     "output_type": "execute_result"
    }
   ],
   "source": [
    "str = \"Send personal email to ben@forta.com or\\n\" +\n",
    "    \"ben.forta@forta.com. For quesitons about a\\n\" +\n",
    "    \"book use support@forta.com. If your message\\n\" +\n",
    "    \"is urgent try ben@urgent.forta.com. Feel\\n\" +\n",
    "    \"free to send unsolicatied email to\\n\" +\n",
    "    \"spam@forta.com (wouldn't it be nice if\\n\" + \n",
    "    \"it were that simple, huh?).\";\n",
    "\n",
    "str.match(/[\\w.]+@[\\w.]+\\.[\\w.]+/g)"
   ]
  },
  {
   "cell_type": "code",
   "execution_count": 5,
   "metadata": {},
   "outputs": [
    {
     "data": {
      "text/plain": [
       "[Array] [\"ben@forta.com\",\"ben.forta@forta.com\",\"support@forta.com\",\"ben@urgent.forta.com\",\"spam@forta.com\"]"
      ]
     },
     "execution_count": 5,
     "metadata": {},
     "output_type": "execute_result"
    }
   ],
   "source": [
    "str = \"Send personal email to ben@forta.com or\\n\" +\n",
    "    \"ben.forta@forta.com. For quesitons about a\\n\" +\n",
    "    \"book use support@forta.com. If your message\\n\" +\n",
    "    \"is urgent try ben@urgent.forta.com. Feel\\n\" +\n",
    "    \"free to send unsolicatied email to\\n\" +\n",
    "    \"spam@forta.com (wouldn't it be nice if\\n\" + \n",
    "    \"it were that simple, huh?).\";\n",
    "\n",
    "str.match(/[\\w\\.]+@[\\w\\.]+\\.\\w+/g)"
   ]
  },
  {
   "cell_type": "markdown",
   "metadata": {},
   "source": [
    "### 문자가 없는 경우나 하나 이상 연속하는 문자 찾기"
   ]
  },
  {
   "cell_type": "code",
   "execution_count": 6,
   "metadata": {},
   "outputs": [
    {
     "data": {
      "text/plain": [
       "[Array] [\".ben@forta.com\"]"
      ]
     },
     "execution_count": 6,
     "metadata": {},
     "output_type": "execute_result"
    }
   ],
   "source": [
    "str = \"Hello .ben@forta.com is my email address.\";\n",
    "\n",
    "str.match(/[\\w\\.]+@[\\w\\.]+\\.\\w+/g)"
   ]
  },
  {
   "cell_type": "code",
   "execution_count": 7,
   "metadata": {},
   "outputs": [
    {
     "data": {
      "text/plain": [
       "[Array] [\"ben@forta.com\"]"
      ]
     },
     "execution_count": 7,
     "metadata": {},
     "output_type": "execute_result"
    }
   ],
   "source": [
    "str = \"Hello .ben@forta.com is my email address.\";\n",
    "\n",
    "str.match(/\\w+[\\w\\.]*@[\\w\\.]+\\.\\w+/g)"
   ]
  },
  {
   "cell_type": "code",
   "execution_count": 8,
   "metadata": {},
   "outputs": [
    {
     "data": {
      "text/plain": [
       "[Array] [\"ben@forta.com\"]"
      ]
     },
     "execution_count": 8,
     "metadata": {},
     "output_type": "execute_result"
    }
   ],
   "source": [
    "str = \"Hello .ben@forta.com is my email address.\";\n",
    "\n",
    "str.match(/\\w[\\w\\.]*@[\\w\\.]+\\.\\w+/g)"
   ]
  },
  {
   "cell_type": "markdown",
   "metadata": {},
   "source": [
    "### 문자가 없거나 하나인 문자 찾기"
   ]
  },
  {
   "cell_type": "code",
   "execution_count": 9,
   "metadata": {},
   "outputs": [
    {
     "data": {
      "text/plain": [
       "[Array] [\"http://www.forta.com/\"]"
      ]
     },
     "execution_count": 9,
     "metadata": {},
     "output_type": "execute_result"
    }
   ],
   "source": [
    "str = \"The URL is http://www.forta.com/,to connect\\n\" +\n",
    "    \"securely use https://www.forta.com/ instead\";\n",
    "\n",
    "str.match(/http:\\/\\/[\\w./]+/g)"
   ]
  },
  {
   "cell_type": "code",
   "execution_count": 10,
   "metadata": {},
   "outputs": [
    {
     "data": {
      "text/plain": [
       "[Array] [\"http://www.forta.com/\",\"httpssssss://www.forta.com/\"]"
      ]
     },
     "execution_count": 10,
     "metadata": {},
     "output_type": "execute_result"
    }
   ],
   "source": [
    "str = \"The URL is http://www.forta.com/,to connect\\n\" +\n",
    "    \"securely use httpssssss://www.forta.com/ instead\";\n",
    "\n",
    "str.match(/https*:\\/\\/[\\w./]+/g)"
   ]
  },
  {
   "cell_type": "code",
   "execution_count": 11,
   "metadata": {},
   "outputs": [
    {
     "data": {
      "text/plain": [
       "[Array] [\"http://www.forta.com/\",\"https://www.forta.com/\"]"
      ]
     },
     "execution_count": 11,
     "metadata": {},
     "output_type": "execute_result"
    }
   ],
   "source": [
    "str = \"The URL is http://www.forta.com/,to connect\\n\" +\n",
    "    \"securely use https://www.forta.com/ instead\";\n",
    "\n",
    "str.match(/https?:\\/\\/[\\w./]+/g)"
   ]
  },
  {
   "cell_type": "code",
   "execution_count": 12,
   "metadata": {},
   "outputs": [
    {
     "data": {
      "text/plain": [
       "[Array] [\"http://www.forta.com/\"]"
      ]
     },
     "execution_count": 12,
     "metadata": {},
     "output_type": "execute_result"
    }
   ],
   "source": [
    "str = \"The URL is http://www.forta.com/,to connect\\n\" +\n",
    "    \"securely use httpssssss://www.forta.com/ instead\";\n",
    "\n",
    "str.match(/https?:\\/\\/[\\w./]+/g)"
   ]
  },
  {
   "cell_type": "code",
   "execution_count": 13,
   "metadata": {},
   "outputs": [
    {
     "data": {
      "text/plain": [
       "[Array] [\"\\n\\n\"]"
      ]
     },
     "execution_count": 13,
     "metadata": {},
     "output_type": "execute_result"
    }
   ],
   "source": [
    "str = '\"101\",\"Ben\",\"Forta\\n\"' +\n",
    "    '\"102\",\"Jim\",\"James\"\\n' +\n",
    "    '\\n' +\n",
    "    '\"103\",\"Roberta\",\"Robertson\\n\"' +\n",
    "    '\"104\",\"Bob\",\"Bobson\"';\n",
    "\n",
    "str.match(/[\\r]?\\n[\\r]?\\n/g)"
   ]
  },
  {
   "cell_type": "markdown",
   "metadata": {
    "collapsed": true
   },
   "source": [
    "## 구간 지정하기"
   ]
  },
  {
   "cell_type": "code",
   "execution_count": 14,
   "metadata": {},
   "outputs": [
    {
     "data": {
      "text/plain": [
       "[Array] [\"#336633\",\"#ffffff\"]"
      ]
     },
     "execution_count": 14,
     "metadata": {},
     "output_type": "execute_result"
    }
   ],
   "source": [
    "str = '<body bgcolor=\"#336633\" text=\"#ffffff\"\\n' +\n",
    "    'marginwidth=\"0\" marginheight=\"0\"\\n' +\n",
    "    'topmargin=\"0\" leftmargin=\"0\"';\n",
    "\n",
    "str.match(/#[0-9A-Fa-f][0-9A-Fa-f][0-9A-Fa-f][0-9A-Fa-f][0-9A-Fa-f][0-9A-Fa-f]/g)"
   ]
  },
  {
   "cell_type": "code",
   "execution_count": 15,
   "metadata": {},
   "outputs": [
    {
     "data": {
      "text/plain": [
       "[Array] [\"#336633\",\"#ffffff\"]"
      ]
     },
     "execution_count": 15,
     "metadata": {},
     "output_type": "execute_result"
    }
   ],
   "source": [
    "str = '<body bgcolor=\"#336633\" text=\"#ffffff\"\\n' +\n",
    "    'marginwidth=\"0\" marginheight=\"0\"\\n' +\n",
    "    'topmargin=\"0\" leftmargin=\"0\"';\n",
    "\n",
    "str.match(/#[0-9A-Fa-f]{6}/g)"
   ]
  },
  {
   "cell_type": "markdown",
   "metadata": {},
   "source": [
    "### 범위 구간 찾기"
   ]
  },
  {
   "cell_type": "code",
   "execution_count": 16,
   "metadata": {},
   "outputs": [
    {
     "data": {
      "text/plain": [
       "[Array] [\"4/8/03\",\"10-6-2004\",\"01-01-01\"]"
      ]
     },
     "execution_count": 16,
     "metadata": {},
     "output_type": "execute_result"
    }
   ],
   "source": [
    "str = '4/8/03\\n' + \n",
    "    '10-6-2004\\n' +\n",
    "    '2/2/2\\n' + \n",
    "    '01-01-01';\n",
    "\n",
    "str.match(/\\d{1,2}[-\\/]\\d{1,2}[-\\/]\\d{2,4}/g)"
   ]
  },
  {
   "cell_type": "markdown",
   "metadata": {},
   "source": [
    "### 최소 구간 찾기"
   ]
  },
  {
   "cell_type": "code",
   "execution_count": 17,
   "metadata": {},
   "outputs": [
    {
     "data": {
      "text/plain": [
       "[Array] [\"1001: $496.80\",\"1002: $1290.69\",\"1004: $613.42\",\"1006: $414.90\"]"
      ]
     },
     "execution_count": 17,
     "metadata": {},
     "output_type": "execute_result"
    }
   ],
   "source": [
    "str = '1001: $496.80\\n' + \n",
    "    '1002: $1290.69\\n' + \n",
    "    '1003: $26.43\\n' + \n",
    "    '1004: $613.42\\n' + \n",
    "    '1005: $7.61\\n' + \n",
    "    '1006: $414.90\\n' + \n",
    "    '1007: $25.00';\n",
    "\n",
    "str.match(/\\d+: \\$\\d{3,}\\.\\d{2}/g)"
   ]
  },
  {
   "cell_type": "markdown",
   "metadata": {},
   "source": [
    "## 과하게 일치하는 상황 방지하기"
   ]
  },
  {
   "cell_type": "code",
   "execution_count": 18,
   "metadata": {},
   "outputs": [
    {
     "data": {
      "text/plain": [
       "[Array] [\"<B>AK</B> and <B>HI</B>\"]"
      ]
     },
     "execution_count": 18,
     "metadata": {},
     "output_type": "execute_result"
    }
   ],
   "source": [
    "str = 'This offer is not available to customers\\n' +\n",
    "    'living in <B>AK</B> and <B>HI</B>';\n",
    "\n",
    "str.match(/<[Bb]>.*<\\/[Bb]>/g)"
   ]
  },
  {
   "cell_type": "code",
   "execution_count": 19,
   "metadata": {},
   "outputs": [
    {
     "data": {
      "text/plain": [
       "[Array] [\"<B>AK</B>\",\"<B>HI</B>\"]"
      ]
     },
     "execution_count": 19,
     "metadata": {},
     "output_type": "execute_result"
    }
   ],
   "source": [
    "str = 'This offer is not available to customers\\n' +\n",
    "    'living in <B>AK</B> and <B>HI</B>';\n",
    "\n",
    "str.match(/<[Bb]>.*?<\\/[Bb]>/g)"
   ]
  },
  {
   "cell_type": "markdown",
   "metadata": {},
   "source": [
    "* 탐욕적 수량자 : 가장 큰 덩어리, 마지막부터 거꾸로\n",
    "    * *\n",
    "    * +\n",
    "    * {n,}\n",
    "* 게으른 수량자 : 최소로 일치\n",
    "    * *?\n",
    "    * +?\n",
    "    * {n,}?"
   ]
  }
 ],
 "metadata": {
  "kernelspec": {
   "display_name": "NodeJS",
   "language": "javascript",
   "name": "nodejs"
  },
  "language_info": {
   "codemirror_mode": "javascript",
   "file_extension": ".js",
   "mimetype": "text/javascript",
   "name": "nodejs",
   "pygments_lexer": "javascript",
   "version": "0.10"
  }
 },
 "nbformat": 4,
 "nbformat_minor": 2
}
