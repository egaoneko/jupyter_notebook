{
 "cells": [
  {
   "cell_type": "markdown",
   "metadata": {},
   "source": [
    "# 하위 표현식 사용하기"
   ]
  },
  {
   "cell_type": "markdown",
   "metadata": {},
   "source": [
    "## 하위 표현식 이해하기"
   ]
  },
  {
   "cell_type": "code",
   "execution_count": 1,
   "metadata": {},
   "outputs": [
    {
     "data": {
      "text/plain": [
       "null"
      ]
     },
     "execution_count": 1,
     "metadata": {},
     "output_type": "execute_result"
    }
   ],
   "source": [
    "str = \"Hello, my name is Ben&nbsp;Forta, and I am\\n\" +\n",
    "    \"the author of books on SQL, ColdFustion, WAP,\\n\" +\n",
    "    \"Windows&nbsp;&nbsp;2000, and other subjects.\";\n",
    "\n",
    "str.match(/&nbsp;{2,}/g)"
   ]
  },
  {
   "cell_type": "code",
   "execution_count": 2,
   "metadata": {},
   "outputs": [
    {
     "data": {
      "text/plain": [
       "[Array] [\"&nbsp;;;;;;;;\"]"
      ]
     },
     "execution_count": 2,
     "metadata": {},
     "output_type": "execute_result"
    }
   ],
   "source": [
    "str = \"Hello, my name is Ben&nbsp;Forta, and I am\\n\" +\n",
    "    \"the author of books on SQL, ColdFustion, WAP,\\n\" +\n",
    "    \"Windows&nbsp;&nbsp;;;;;;;;2000, and other subjects.\";\n",
    "\n",
    "str.match(/&nbsp;{2,}/g)"
   ]
  },
  {
   "cell_type": "markdown",
   "metadata": {},
   "source": [
    "## 하위 표현식으로 묶기"
   ]
  },
  {
   "cell_type": "code",
   "execution_count": 3,
   "metadata": {},
   "outputs": [
    {
     "data": {
      "text/plain": [
       "[Array] [\"&nbsp;&nbsp;\"]"
      ]
     },
     "execution_count": 3,
     "metadata": {},
     "output_type": "execute_result"
    }
   ],
   "source": [
    "str = \"Hello, my name is Ben&nbsp;Forta, and I am\\n\" +\n",
    "    \"the author of books on SQL, ColdFustion, WAP,\\n\" +\n",
    "    \"Windows&nbsp;&nbsp;2000, and other subjects.\";\n",
    "\n",
    "str.match(/(&nbsp;){2,}/g)"
   ]
  },
  {
   "cell_type": "code",
   "execution_count": 4,
   "metadata": {},
   "outputs": [
    {
     "data": {
      "text/plain": [
       "[Array] [\"12.159.46.200\"]"
      ]
     },
     "execution_count": 4,
     "metadata": {},
     "output_type": "execute_result"
    }
   ],
   "source": [
    "str = \"Pinging hog.forta.com [12.159.46.200]\\n\" +\n",
    "    \"with 32 bytes of data:\";\n",
    "\n",
    "str.match(/\\d{1,3}\\.\\d{1,3}\\.\\d{1,3}\\.\\d{1,3}/g)"
   ]
  },
  {
   "cell_type": "code",
   "execution_count": 5,
   "metadata": {},
   "outputs": [
    {
     "data": {
      "text/plain": [
       "[Array] [\"12.159.46.200\"]"
      ]
     },
     "execution_count": 5,
     "metadata": {},
     "output_type": "execute_result"
    }
   ],
   "source": [
    "str = \"Pinging hog.forta.com [12.159.46.200]\\n\" +\n",
    "    \"with 32 bytes of data:\";\n",
    "\n",
    "str.match(/(\\d{1,3}\\.){3}\\d{1,3}/g)"
   ]
  },
  {
   "cell_type": "code",
   "execution_count": 6,
   "metadata": {},
   "outputs": [
    {
     "data": {
      "text/plain": [
       "[Array] [\"19\"]"
      ]
     },
     "execution_count": 6,
     "metadata": {},
     "output_type": "execute_result"
    }
   ],
   "source": [
    "str = \"ID:042\\n\" +\n",
    "    \"SEX: M\\n\" +\n",
    "    \"DOB: 1967-08-17\\n\" +\n",
    "    \"Status: Active\";\n",
    "\n",
    "str.match(/19|20\\d{2}/g)"
   ]
  },
  {
   "cell_type": "markdown",
   "metadata": {},
   "source": [
    "* `19` or `20\\d{2}`"
   ]
  },
  {
   "cell_type": "code",
   "execution_count": 7,
   "metadata": {},
   "outputs": [
    {
     "data": {
      "text/plain": [
       "[Array] [\"1967\"]"
      ]
     },
     "execution_count": 7,
     "metadata": {},
     "output_type": "execute_result"
    }
   ],
   "source": [
    "str = \"ID:042\\n\" +\n",
    "    \"SEX: M\\n\" +\n",
    "    \"DOB: 1967-08-17\\n\" +\n",
    "    \"Status: Active\";\n",
    "\n",
    "str.match(/(19|20)\\d{2}/g)"
   ]
  },
  {
   "cell_type": "markdown",
   "metadata": {},
   "source": [
    "## 중첩된 하위 표현식"
   ]
  },
  {
   "cell_type": "code",
   "execution_count": 8,
   "metadata": {},
   "outputs": [
    {
     "data": {
      "text/plain": [
       "[Array] [\"300.300.300.300\"]"
      ]
     },
     "execution_count": 8,
     "metadata": {},
     "output_type": "execute_result"
    }
   ],
   "source": [
    "str = \"Pinging hog.forta.com [300.300.300.300]\\n\" +\n",
    "    \"with 32 bytes of data:\";\n",
    "\n",
    "str.match(/(\\d{1,3}\\.){3}\\d{1,3}/g)"
   ]
  },
  {
   "cell_type": "code",
   "execution_count": 9,
   "metadata": {},
   "outputs": [
    {
     "data": {
      "text/plain": [
       "[Array] [\"12.159.46.20\"]"
      ]
     },
     "execution_count": 9,
     "metadata": {},
     "output_type": "execute_result"
    }
   ],
   "source": [
    "str = \"Pinging hog.forta.com [12.159.46.200]\\n\" +\n",
    "    \"with 32 bytes of data:\";\n",
    "\n",
    "str.match(/(((\\d{1,2})|(1\\d{2})|(2[0-4]\\d)|(25[0-5]))\\.){3}((\\d{1,2})|(1|\\d{2})|(2[0-4]\\d)|(25[0-5]))/g)"
   ]
  },
  {
   "cell_type": "code",
   "execution_count": 10,
   "metadata": {},
   "outputs": [
    {
     "data": {
      "text/plain": [
       "null"
      ]
     },
     "execution_count": 10,
     "metadata": {},
     "output_type": "execute_result"
    }
   ],
   "source": [
    "str = \"Pinging hog.forta.com [300.300.300.300]\\n\" +\n",
    "    \"with 32 bytes of data:\";\n",
    "\n",
    "str.match(/(((\\d{1,2})|(1\\d{2})|(2[0-4]\\d)|(25[0-5]))\\.){3}((\\d{1,2})|(1|\\d{2})|(2[0-4]\\d)|(25[0-5]))/g)"
   ]
  }
 ],
 "metadata": {
  "kernelspec": {
   "display_name": "NodeJS",
   "language": "javascript",
   "name": "nodejs"
  },
  "language_info": {
   "codemirror_mode": "javascript",
   "file_extension": ".js",
   "mimetype": "text/javascript",
   "name": "nodejs",
   "pygments_lexer": "javascript",
   "version": "0.10"
  }
 },
 "nbformat": 4,
 "nbformat_minor": 2
}
