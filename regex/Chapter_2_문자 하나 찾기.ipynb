{
 "cells": [
  {
   "cell_type": "markdown",
   "metadata": {},
   "source": [
    "# 문자 하나 찾기"
   ]
  },
  {
   "cell_type": "markdown",
   "metadata": {},
   "source": [
    "## 문자 그대로 찾기"
   ]
  },
  {
   "cell_type": "code",
   "execution_count": 1,
   "metadata": {},
   "outputs": [
    {
     "data": {
      "text/plain": [
       "[Array] [\"Ben\"]"
      ]
     },
     "execution_count": 1,
     "metadata": {},
     "output_type": "execute_result"
    }
   ],
   "source": [
    "str = \"Hello, my name is Ben. Please visit my website at http://www.forta.com/.\";\n",
    "str.match(/Ben/)"
   ]
  },
  {
   "cell_type": "code",
   "execution_count": 2,
   "metadata": {},
   "outputs": [
    {
     "data": {
      "text/plain": [
       "[Array] [\"my\"]"
      ]
     },
     "execution_count": 2,
     "metadata": {},
     "output_type": "execute_result"
    }
   ],
   "source": [
    "str.match(/my/)"
   ]
  },
  {
   "cell_type": "markdown",
   "metadata": {},
   "source": [
    "### 전역"
   ]
  },
  {
   "cell_type": "code",
   "execution_count": 3,
   "metadata": {},
   "outputs": [
    {
     "data": {
      "text/plain": [
       "[Array] [\"my\",\"my\"]"
      ]
     },
     "execution_count": 3,
     "metadata": {},
     "output_type": "execute_result"
    }
   ],
   "source": [
    "str.match(/my/g)"
   ]
  },
  {
   "cell_type": "markdown",
   "metadata": {},
   "source": [
    "### 대소문자"
   ]
  },
  {
   "cell_type": "code",
   "execution_count": 4,
   "metadata": {},
   "outputs": [
    {
     "data": {
      "text/plain": [
       "[Array] [\"my\"]"
      ]
     },
     "execution_count": 4,
     "metadata": {},
     "output_type": "execute_result"
    }
   ],
   "source": [
    "str.match(/My/i)"
   ]
  },
  {
   "cell_type": "markdown",
   "metadata": {},
   "source": [
    "## 모든 문자 찾기"
   ]
  },
  {
   "cell_type": "code",
   "execution_count": 5,
   "metadata": {},
   "outputs": [
    {
     "data": {
      "text/plain": [
       "[Array] [\"sales.\",\"sales1\",\"sales2\",\"sales3\"]"
      ]
     },
     "execution_count": 5,
     "metadata": {},
     "output_type": "execute_result"
    }
   ],
   "source": [
    "str = \"sales.xls\\n\" + \n",
    "    \"sales1.xls\\n\" +\n",
    "    \"orders.xls\\n\" +\n",
    "    \"sales2.xls\\n\" +\n",
    "    \"sales3.xls\\n\" +\n",
    "    \"spac1.xls\\n\" +\n",
    "    \"europe2.xls\\n\" +\n",
    "    \"na1.xls\\n\" +\n",
    "    \"na2.xls\\n\" +\n",
    "    \"sa1.xls\\n\";\n",
    "\n",
    "str.match(/sales./g)"
   ]
  },
  {
   "cell_type": "code",
   "execution_count": 6,
   "metadata": {},
   "outputs": [
    {
     "data": {
      "text/plain": [
       "[Array] [\"sal\",\"sal\",\"sal\",\"sal\",\"pac\",\"na1\",\"na2\",\"sa1\"]"
      ]
     },
     "execution_count": 6,
     "metadata": {},
     "output_type": "execute_result"
    }
   ],
   "source": [
    "str = \"sales.xls\\n\" + \n",
    "    \"sales1.xls\\n\" +\n",
    "    \"orders.xls\\n\" +\n",
    "    \"sales2.xls\\n\" +\n",
    "    \"sales3.xls\\n\" +\n",
    "    \"spac1.xls\\n\" +\n",
    "    \"europe2.xls\\n\" +\n",
    "    \"na1.xls\\n\" +\n",
    "    \"na2.xls\\n\" +\n",
    "    \"sa1.xls\\n\";\n",
    "\n",
    "str.match(/.a./g)"
   ]
  },
  {
   "cell_type": "code",
   "execution_count": 7,
   "metadata": {},
   "outputs": [
    {
     "data": {
      "text/plain": [
       "[Array] [\"sale\",\"sale\",\"sale\",\"sale\",\"pac1\",\"na1.\",\"na2.\",\"sa1.\"]"
      ]
     },
     "execution_count": 7,
     "metadata": {},
     "output_type": "execute_result"
    }
   ],
   "source": [
    "str = \"sales.xls\\n\" + \n",
    "    \"sales1.xls\\n\" +\n",
    "    \"orders.xls\\n\" +\n",
    "    \"sales2.xls\\n\" +\n",
    "    \"sales3.xls\\n\" +\n",
    "    \"spac1.xls\\n\" +\n",
    "    \"europe2.xls\\n\" +\n",
    "    \"na1.xls\\n\" +\n",
    "    \"na2.xls\\n\" +\n",
    "    \"sa1.xls\\n\";\n",
    "\n",
    "str.match(/.a../g)"
   ]
  },
  {
   "cell_type": "markdown",
   "metadata": {},
   "source": [
    "## 특수문자 찾기"
   ]
  },
  {
   "cell_type": "code",
   "execution_count": 8,
   "metadata": {
    "scrolled": true
   },
   "outputs": [
    {
     "data": {
      "text/plain": [
       "[Array] [\"na1.xls\",\"na2.xls\",\"sa1.xls\"]"
      ]
     },
     "execution_count": 8,
     "metadata": {},
     "output_type": "execute_result"
    }
   ],
   "source": [
    "str = \"sales.xls\\n\" + \n",
    "    \"sales1.xls\\n\" +\n",
    "    \"orders.xls\\n\" +\n",
    "    \"sales2.xls\\n\" +\n",
    "    \"sales3.xls\\n\" +\n",
    "    \"spac1.xls\\n\" +\n",
    "    \"europe2.xls\\n\" +\n",
    "    \"na1.xls\\n\" +\n",
    "    \"na2.xls\\n\" +\n",
    "    \"sa1.xls\\n\";\n",
    "\n",
    "str.match(/.a.\\.xls/g)"
   ]
  }
 ],
 "metadata": {
  "kernelspec": {
   "display_name": "NodeJS",
   "language": "javascript",
   "name": "nodejs"
  },
  "language_info": {
   "codemirror_mode": "javascript",
   "file_extension": ".js",
   "mimetype": "text/javascript",
   "name": "nodejs",
   "pygments_lexer": "javascript",
   "version": "0.10"
  }
 },
 "nbformat": 4,
 "nbformat_minor": 2
}
