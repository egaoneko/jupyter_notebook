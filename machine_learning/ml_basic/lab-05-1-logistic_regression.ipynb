{
 "cells": [
  {
   "cell_type": "markdown",
   "metadata": {},
   "source": [
    "# ML lab 05: TensorFlow로 Logistic Classification의 구현하기 (new)"
   ]
  },
  {
   "cell_type": "markdown",
   "metadata": {},
   "source": [
    "## Logistic Regression"
   ]
  },
  {
   "cell_type": "markdown",
   "metadata": {},
   "source": [
    "### Hypothesis"
   ]
  },
  {
   "cell_type": "markdown",
   "metadata": {},
   "source": [
    "$$ H(X) = \\frac{1}{1 + e^{-W^{T}X}} $$"
   ]
  },
  {
   "cell_type": "markdown",
   "metadata": {},
   "source": [
    "### Cost"
   ]
  },
  {
   "cell_type": "markdown",
   "metadata": {},
   "source": [
    "$$ cost(W) = -\\frac{1}{m} \\sum ylog(H(x)) + (1-y)((log(1-H(x)) $$"
   ]
  },
  {
   "cell_type": "markdown",
   "metadata": {},
   "source": [
    "### Gradient descent"
   ]
  },
  {
   "cell_type": "markdown",
   "metadata": {},
   "source": [
    "$$ W := W - \\alpha \\frac{\\partial}{\\partial W}cost(W) $$"
   ]
  },
  {
   "cell_type": "code",
   "execution_count": 1,
   "metadata": {
    "collapsed": false
   },
   "outputs": [
    {
     "name": "stdout",
     "output_type": "stream",
     "text": [
      "0 1.73078\n",
      "200 0.571512\n",
      "400 0.507414\n",
      "600 0.471824\n",
      "800 0.447585\n",
      "1000 0.428571\n",
      "1200 0.412325\n",
      "1400 0.397755\n",
      "1600 0.384338\n",
      "1800 0.371801\n",
      "2000 0.359993\n",
      "2200 0.348822\n",
      "2400 0.338226\n",
      "2600 0.328161\n",
      "2800 0.318589\n",
      "3000 0.309481\n",
      "3200 0.300809\n",
      "3400 0.292547\n",
      "3600 0.284673\n",
      "3800 0.277164\n",
      "4000 0.27\n",
      "4200 0.263161\n",
      "4400 0.256628\n",
      "4600 0.250385\n",
      "4800 0.244415\n",
      "5000 0.238703\n",
      "5200 0.233234\n",
      "5400 0.227994\n",
      "5600 0.222972\n",
      "5800 0.218155\n",
      "6000 0.213532\n",
      "6200 0.209092\n",
      "6400 0.204826\n",
      "6600 0.200724\n",
      "6800 0.196778\n",
      "7000 0.192979\n",
      "7200 0.189321\n",
      "7400 0.185796\n",
      "7600 0.182396\n",
      "7800 0.179117\n",
      "8000 0.175952\n",
      "8200 0.172895\n",
      "8400 0.169941\n",
      "8600 0.167086\n",
      "8800 0.164325\n",
      "9000 0.161653\n",
      "9200 0.159066\n",
      "9400 0.15656\n",
      "9600 0.154132\n",
      "9800 0.151778\n",
      "10000 0.149496\n",
      "\n",
      "Hypothesis:  [[ 0.03074029]\n",
      " [ 0.15884677]\n",
      " [ 0.30486736]\n",
      " [ 0.78138196]\n",
      " [ 0.93957496]\n",
      " [ 0.98016882]] \n",
      "Correct (Y):  [[ 0.]\n",
      " [ 0.]\n",
      " [ 0.]\n",
      " [ 1.]\n",
      " [ 1.]\n",
      " [ 1.]] \n",
      "Accuracy:  1.0\n"
     ]
    }
   ],
   "source": [
    "import tensorflow as tf\n",
    "tf.set_random_seed(777)  # for reproducibility\n",
    "\n",
    "x_data = [[1, 2],\n",
    "          [2, 3],\n",
    "          [3, 1],\n",
    "          [4, 3],\n",
    "          [5, 3],\n",
    "          [6, 2]]\n",
    "y_data = [[0],\n",
    "          [0],\n",
    "          [0],\n",
    "          [1],\n",
    "          [1],\n",
    "          [1]]\n",
    "\n",
    "# placeholders for a tensor that will be always fed.\n",
    "X = tf.placeholder(tf.float32, shape=[None, 2])\n",
    "Y = tf.placeholder(tf.float32, shape=[None, 1])\n",
    "\n",
    "W = tf.Variable(tf.random_normal([2, 1]), name='weight')\n",
    "b = tf.Variable(tf.random_normal([1]), name='bias')\n",
    "\n",
    "# Hypothesis using sigmoid: tf.div(1., 1. + tf.exp(tf.matmul(X, W)))\n",
    "hypothesis = tf.sigmoid(tf.matmul(X, W) + b)\n",
    "\n",
    "# cost/loss function\n",
    "cost = -tf.reduce_mean(Y * tf.log(hypothesis) + (1 - Y) *\n",
    "                       tf.log(1 - hypothesis))\n",
    "\n",
    "train = tf.train.GradientDescentOptimizer(learning_rate=0.01).minimize(cost)\n",
    "\n",
    "# Accuracy computation\n",
    "# True if hypothesis>0.5 else False\n",
    "predicted = tf.cast(hypothesis > 0.5, dtype=tf.float32)\n",
    "accuracy = tf.reduce_mean(tf.cast(tf.equal(predicted, Y), dtype=tf.float32))\n",
    "\n",
    "# Launch graph\n",
    "with tf.Session() as sess:\n",
    "    # Initialize TensorFlow variables\n",
    "    sess.run(tf.global_variables_initializer())\n",
    "\n",
    "    for step in range(10001):\n",
    "        cost_val, _ = sess.run([cost, train], feed_dict={X: x_data, Y: y_data})\n",
    "        if step % 200 == 0:\n",
    "            print(step, cost_val)\n",
    "\n",
    "    # Accuracy report\n",
    "    h, c, a = sess.run([hypothesis, predicted, accuracy],\n",
    "                       feed_dict={X: x_data, Y: y_data})\n",
    "    print(\"\\nHypothesis: \", h, \"\\nCorrect (Y): \", c, \"\\nAccuracy: \", a)"
   ]
  },
  {
   "cell_type": "markdown",
   "metadata": {},
   "source": [
    "## Exercise"
   ]
  },
  {
   "cell_type": "markdown",
   "metadata": {},
   "source": [
    "* `tf.decode_csv`\n",
    "* [www.kaggle.com](https://www.kaggle.com)"
   ]
  }
 ],
 "metadata": {
  "kernelspec": {
   "display_name": "Python 3",
   "language": "python",
   "name": "python3"
  },
  "language_info": {
   "codemirror_mode": {
    "name": "ipython",
    "version": 3
   },
   "file_extension": ".py",
   "mimetype": "text/x-python",
   "name": "python",
   "nbconvert_exporter": "python",
   "pygments_lexer": "ipython3",
   "version": "3.6.0"
  }
 },
 "nbformat": 4,
 "nbformat_minor": 2
}
