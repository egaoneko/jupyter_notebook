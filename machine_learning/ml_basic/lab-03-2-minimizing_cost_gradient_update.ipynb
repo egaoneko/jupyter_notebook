{
 "cells": [
  {
   "cell_type": "markdown",
   "metadata": {},
   "source": [
    "# ML lab 03 - Linear Regression 의 cost 최소화의 TensorFlow 구현 (new)"
   ]
  },
  {
   "cell_type": "code",
   "execution_count": 1,
   "metadata": {
    "collapsed": true
   },
   "outputs": [],
   "source": [
    "import tensorflow as tf\n",
    "import matplotlib.pyplot as plt"
   ]
  },
  {
   "cell_type": "code",
   "execution_count": 2,
   "metadata": {
    "collapsed": false
   },
   "outputs": [],
   "source": [
    "x_data = [1, 2, 3]\n",
    "y_data = [1, 2, 3]\n",
    "\n",
    "W = tf.Variable(tf.random_normal([1]), name='weight')\n",
    "X = tf.placeholder(tf.float32)\n",
    "Y = tf.placeholder(tf.float32)\n",
    "\n",
    "# Our hypothesis for linear model X * W\n",
    "hypothesis = X * W\n",
    "\n",
    "# cost/loss function\n",
    "cost = tf.reduce_sum(tf.square(hypothesis - Y))"
   ]
  },
  {
   "cell_type": "markdown",
   "metadata": {},
   "source": [
    "## Gradient descent"
   ]
  },
  {
   "cell_type": "markdown",
   "metadata": {},
   "source": [
    "$$ W := W - \\alpha \\frac{1}{m} \\sum_{i=1}^{m} (W{x}^{(i)} - {y}^{(i)}) {x}^{(i)} $$"
   ]
  },
  {
   "cell_type": "code",
   "execution_count": 3,
   "metadata": {
    "collapsed": true
   },
   "outputs": [],
   "source": [
    "# Minimize: Gradient Descent using derivative: W -= learning_rate * derivative\n",
    "learning_rate = 0.1\n",
    "gradient = tf.reduce_mean((W * X - Y) * X)\n",
    "descent = W - learning_rate * gradient\n",
    "update = W.assign(descent)"
   ]
  },
  {
   "cell_type": "code",
   "execution_count": 4,
   "metadata": {
    "collapsed": false
   },
   "outputs": [
    {
     "name": "stdout",
     "output_type": "stream",
     "text": [
      "0 0.435259 [ 1.17632341]\n",
      "1 0.123807 [ 1.0940392]\n",
      "2 0.0352162 [ 1.05015421]\n",
      "3 0.010017 [ 1.0267489]\n",
      "4 0.00284933 [ 1.01426613]\n",
      "5 0.000810482 [ 1.00760865]\n",
      "6 0.000230546 [ 1.004058]\n",
      "7 6.55738e-05 [ 1.00216424]\n",
      "8 1.8653e-05 [ 1.0011543]\n",
      "9 5.30543e-06 [ 1.0006156]\n",
      "10 1.50895e-06 [ 1.0003283]\n",
      "11 4.29456e-07 [ 1.00017512]\n",
      "12 1.21909e-07 [ 1.00009334]\n",
      "13 3.47617e-08 [ 1.00004983]\n",
      "14 9.87468e-09 [ 1.00002658]\n",
      "15 2.80723e-09 [ 1.00001419]\n",
      "16 8.14907e-10 [ 1.00000763]\n",
      "17 2.29988e-10 [ 1.00000405]\n",
      "18 6.44604e-11 [ 1.00000215]\n",
      "19 1.98952e-11 [ 1.00000119]\n",
      "20 5.41434e-12 [ 1.0000006]\n"
     ]
    }
   ],
   "source": [
    "# Launch the graph in a session.\n",
    "sess = tf.Session()\n",
    "# Initializes global variables in the graph.\n",
    "sess.run(tf.global_variables_initializer())\n",
    "\n",
    "for step in range(21):\n",
    "    sess.run(update, feed_dict={X: x_data, Y: y_data})\n",
    "    print(step, sess.run(cost, feed_dict={X: x_data, Y: y_data}), sess.run(W))"
   ]
  }
 ],
 "metadata": {
  "kernelspec": {
   "display_name": "Python 3",
   "language": "python",
   "name": "python3"
  },
  "language_info": {
   "codemirror_mode": {
    "name": "ipython",
    "version": 3
   },
   "file_extension": ".py",
   "mimetype": "text/x-python",
   "name": "python",
   "nbconvert_exporter": "python",
   "pygments_lexer": "ipython3",
   "version": "3.6.0"
  }
 },
 "nbformat": 4,
 "nbformat_minor": 2
}
