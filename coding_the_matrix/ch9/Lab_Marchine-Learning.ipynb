{
 "cells": [
  {
   "cell_type": "code",
   "execution_count": 1,
   "metadata": {
    "collapsed": true,
    "deletable": true,
    "editable": true
   },
   "outputs": [],
   "source": [
    "import numpy as np"
   ]
  },
  {
   "cell_type": "code",
   "execution_count": 2,
   "metadata": {
    "collapsed": true,
    "deletable": true,
    "editable": true
   },
   "outputs": [],
   "source": [
    "def read_training_data(fname, D=None):\n",
    "    \"\"\"Given a file in appropriate format, and given a set D of features,\n",
    "    returns the pair (A, b) consisting of\n",
    "    a P-by-D matrix A and a P-vector b,\n",
    "    where P is a set of patient identification integers (IDs).\n",
    "\n",
    "    For each patient ID p,\n",
    "      - row p of A is the D-vector describing patient p's tissue sample,\n",
    "      - entry p of b is +1 if patient p's tissue is malignant, and -1 if it is benign.\n",
    "\n",
    "    The set D of features must be a subset of the features in the data (see text).\n",
    "    \"\"\"\n",
    "    file = open(fname)\n",
    "    params = [\"radius\", \"texture\", \"perimeter\",\"area\",\"smoothness\",\"compactness\",\"concavity\",\"concave points\",\"symmetry\",\"fractal dimension\"];\n",
    "    stats = [\"(mean)\", \"(stderr)\", \"(worst)\"]\n",
    "    feature_labels = set([y+x for x in stats for y in params])\n",
    "    feature_map = {params[i]+stats[j]:j*len(params)+i for i in range(len(params)) for j in range(len(stats))}\n",
    "    \n",
    "    patient_ids = []\n",
    "    feature_vectors = []\n",
    "    patient_diagnoses = []\n",
    "    for line in file:\n",
    "        row = line.split(\",\")\n",
    "        patient_ID = int(row[0])\n",
    "        patient_ids.append(patient_ID)\n",
    "        \n",
    "        patient_diagnoses.append(-1 if row[1]=='B' else +1)\n",
    "        feature_vectors.append([float(row[feature_map[key]+2]) for key in feature_labels])\n",
    "    return feature_labels, patient_ids, np.matrix(feature_vectors), np.array(patient_diagnoses) "
   ]
  },
  {
   "cell_type": "code",
   "execution_count": 3,
   "metadata": {
    "collapsed": false,
    "deletable": true,
    "editable": true
   },
   "outputs": [],
   "source": [
    "labels, ids, matrix, vectors = read_training_data('train.data')"
   ]
  },
  {
   "cell_type": "code",
   "execution_count": 4,
   "metadata": {
    "collapsed": false,
    "deletable": true,
    "editable": true
   },
   "outputs": [
    {
     "name": "stdout",
     "output_type": "stream",
     "text": [
      "{'compactness(worst)', 'concavity(worst)', 'radius(worst)', 'perimeter(mean)', 'radius(mean)', 'area(stderr)', 'texture(worst)', 'fractal dimension(stderr)', 'concave points(stderr)', 'smoothness(worst)', 'concave points(mean)', 'concavity(mean)', 'smoothness(mean)', 'texture(stderr)', 'concave points(worst)', 'radius(stderr)', 'perimeter(worst)', 'perimeter(stderr)', 'concavity(stderr)', 'area(mean)', 'compactness(stderr)', 'symmetry(mean)', 'compactness(mean)', 'area(worst)', 'symmetry(worst)', 'fractal dimension(worst)', 'fractal dimension(mean)', 'smoothness(stderr)', 'symmetry(stderr)', 'texture(mean)'}\n"
     ]
    }
   ],
   "source": [
    "print(labels)"
   ]
  },
  {
   "cell_type": "code",
   "execution_count": 5,
   "metadata": {
    "collapsed": false,
    "deletable": true,
    "editable": true
   },
   "outputs": [],
   "source": [
    "def signum(u):\n",
    "    return np.array([1 if v >= 0 else -1 for k, v in np.ndenumerate(u)])"
   ]
  },
  {
   "cell_type": "code",
   "execution_count": 6,
   "metadata": {
    "collapsed": false,
    "deletable": true,
    "editable": true
   },
   "outputs": [
    {
     "data": {
      "text/plain": [
       "array([ 1, -1,  1, -1,  1])"
      ]
     },
     "execution_count": 6,
     "metadata": {},
     "output_type": "execute_result"
    }
   ],
   "source": [
    "signum(np.array([10, -20, 5, -3, 6]))"
   ]
  },
  {
   "cell_type": "code",
   "execution_count": 7,
   "metadata": {
    "collapsed": false,
    "deletable": true,
    "editable": true
   },
   "outputs": [],
   "source": [
    "def fraction_wrong(A, b, w):\n",
    "    hypers_size = len(b)\n",
    "#     hypers = []\n",
    "#     for row in A:\n",
    "#         row = np.array(row)\n",
    "#         hypers.append(row.dot(w)[0])\n",
    "#     hypers = np.array(hypers)\n",
    "#     diff = signum(hypers).dot(b)\n",
    "\n",
    "#     print(hypers_size)\n",
    "#     print(signum(A.dot(w)).dot(b))\n",
    "    hypers = signum(A.dot(w))\n",
    "    diff = hypers.dot(b)\n",
    "    diff = (hypers_size - diff) * 0.5\n",
    "    ratio  = diff / hypers_size\n",
    "    \n",
    "    return ratio\n",
    "    "
   ]
  },
  {
   "cell_type": "code",
   "execution_count": 8,
   "metadata": {
    "collapsed": false,
    "deletable": true,
    "editable": true
   },
   "outputs": [
    {
     "name": "stdout",
     "output_type": "stream",
     "text": [
      "[array([ 0.84279347]), array([ 0.48365235]), array([ 0.69272041]), array([ 0.59582593]), array([ 0.51002136]), array([ 0.19013661]), array([ 0.35595869]), array([ 0.39070283]), array([ 0.71333961]), array([ 0.68382108]), array([ 0.16572063]), array([ 0.22781691]), array([ 0.5291366]), array([ 0.49040142]), array([ 0.13934652]), array([ 0.49695942]), array([ 0.98564049]), array([ 0.50295054]), array([ 0.37055127]), array([ 0.16036179]), array([ 0.31695341]), array([ 0.90839072]), array([ 0.90192716]), array([ 0.07379723]), array([ 0.4813886]), array([ 0.07421961]), array([ 0.40510735]), array([ 0.06278907]), array([ 0.63082736]), array([ 0.0980717])]\n"
     ]
    },
    {
     "data": {
      "text/plain": [
       "0.51333333333333331"
      ]
     },
     "execution_count": 8,
     "metadata": {},
     "output_type": "execute_result"
    }
   ],
   "source": [
    "w = [v for v in np.random.rand(30, 1)]\n",
    "print(w)\n",
    "# w = [1 for v in range(30)]\n",
    "fraction_wrong(matrix, vectors, w)"
   ]
  },
  {
   "cell_type": "code",
   "execution_count": 9,
   "metadata": {
    "collapsed": true,
    "deletable": true,
    "editable": true
   },
   "outputs": [],
   "source": [
    "def loss(A, b, w):\n",
    "    hypersis = np.squeeze(np.asarray(A.dot(w)))\n",
    "    error = hypersis - b\n",
    "    return error.dot(error)"
   ]
  },
  {
   "cell_type": "code",
   "execution_count": 10,
   "metadata": {
    "collapsed": false,
    "deletable": true,
    "editable": true
   },
   "outputs": [
    {
     "data": {
      "text/plain": [
       "18317690.434633065"
      ]
     },
     "execution_count": 10,
     "metadata": {},
     "output_type": "execute_result"
    }
   ],
   "source": [
    "w = [v for v in np.random.rand(30, 1)]\n",
    "loss(matrix, vectors, w)"
   ]
  },
  {
   "cell_type": "code",
   "execution_count": 11,
   "metadata": {
    "collapsed": false,
    "deletable": true,
    "editable": true
   },
   "outputs": [
    {
     "data": {
      "text/plain": [
       "590811920.96350086"
      ]
     },
     "execution_count": 11,
     "metadata": {},
     "output_type": "execute_result"
    }
   ],
   "source": [
    "w = [v for v in np.random.rand(30, 1)]\n",
    "loss(matrix, vectors, w)"
   ]
  },
  {
   "cell_type": "code",
   "execution_count": 12,
   "metadata": {
    "collapsed": false,
    "deletable": true,
    "editable": true
   },
   "outputs": [
    {
     "data": {
      "text/plain": [
       "521381048.17933881"
      ]
     },
     "execution_count": 12,
     "metadata": {},
     "output_type": "execute_result"
    }
   ],
   "source": [
    "w = [v for v in np.random.rand(30, 1)]\n",
    "loss(matrix, vectors, w)"
   ]
  },
  {
   "cell_type": "code",
   "execution_count": 13,
   "metadata": {
    "collapsed": true,
    "deletable": true,
    "editable": true
   },
   "outputs": [],
   "source": [
    "def find_grad(A, b, w):\n",
    "#     hypersis = np.squeeze(np.asarray(A.dot(w)))\n",
    "#     error = np.transpose(hypersis - b)\n",
    "#     grad = np.squeeze(np.asarray(error.dot(A)))\n",
    "#     return grad * 2\n",
    "    \n",
    "    hypersis = np.squeeze(np.squeeze(np.asarray(A.dot(w))).dot(A))\n",
    "    ba = b.dot(A)\n",
    "    error = np.transpose(hypersis - ba)\n",
    "    return np.squeeze(np.asarray(error)) * 2"
   ]
  },
  {
   "cell_type": "code",
   "execution_count": 14,
   "metadata": {
    "collapsed": false,
    "deletable": true,
    "editable": true
   },
   "outputs": [
    {
     "data": {
      "text/plain": [
       "array([  9.32209648e+04,   1.06226732e+05,   5.74612402e+06,\n",
       "         3.16351854e+07,   4.81864908e+06,   1.85529377e+07,\n",
       "         8.14290591e+06,   1.18150156e+03,   4.00185077e+03,\n",
       "         4.10865142e+04,   2.08793130e+04,   3.76956828e+04,\n",
       "         2.96079073e+04,   3.59483498e+05,   4.44488436e+04,\n",
       "         1.61442360e+05,   3.81470490e+07,   1.14367552e+06,\n",
       "         1.10528102e+04,   2.54981437e+08,   8.75535962e+03,\n",
       "         5.60243486e+04,   3.74025807e+04,   3.65225693e+08,\n",
       "         9.16167857e+04,   2.58582338e+04,   1.85545473e+04,\n",
       "         2.04991584e+03,   6.20669164e+03,   6.05756498e+06])"
      ]
     },
     "execution_count": 14,
     "metadata": {},
     "output_type": "execute_result"
    }
   ],
   "source": [
    "w = [v for v in np.random.rand(30, 1)]\n",
    "find_grad(matrix, vectors, w)"
   ]
  },
  {
   "cell_type": "code",
   "execution_count": 15,
   "metadata": {
    "collapsed": false,
    "deletable": true,
    "editable": true
   },
   "outputs": [],
   "source": [
    "def gradient_descent_step (A, b, w, sigma):\n",
    "    return w - find_grad(A, b, w) * sigma"
   ]
  },
  {
   "cell_type": "code",
   "execution_count": 16,
   "metadata": {
    "collapsed": true,
    "deletable": true,
    "editable": true
   },
   "outputs": [],
   "source": [
    "def gradient_descent (A, b, w, sigma, T):\n",
    "    for t in range(T):\n",
    "        w = gradient_descent_step(A, b, w, sigma)\n",
    "#         print(loss(A, b, w))\n",
    "    return w"
   ]
  },
  {
   "cell_type": "code",
   "execution_count": 17,
   "metadata": {
    "collapsed": false,
    "deletable": true,
    "editable": true
   },
   "outputs": [
    {
     "name": "stdout",
     "output_type": "stream",
     "text": [
      "3.18014007384e+13\n"
     ]
    }
   ],
   "source": [
    "w = [1 for v in range(30)]\n",
    "w = gradient_descent(matrix, vectors, w, 2 * 10 ** -9, 30)\n",
    "print(loss(matrix, vectors, w))"
   ]
  },
  {
   "cell_type": "code",
   "execution_count": 18,
   "metadata": {
    "collapsed": false,
    "deletable": true,
    "editable": true
   },
   "outputs": [
    {
     "name": "stdout",
     "output_type": "stream",
     "text": [
      "1867476.16499\n"
     ]
    }
   ],
   "source": [
    "w = [1 for v in range(30)]\n",
    "w = gradient_descent(matrix, vectors, w, 10 ** -9, 30)\n",
    "print(loss(matrix, vectors, w))"
   ]
  },
  {
   "cell_type": "code",
   "execution_count": 19,
   "metadata": {
    "collapsed": false,
    "deletable": true,
    "editable": true
   },
   "outputs": [
    {
     "name": "stdout",
     "output_type": "stream",
     "text": [
      "251.010760796\n"
     ]
    }
   ],
   "source": [
    "w = [0 for v in range(30)]\n",
    "w = gradient_descent(matrix, vectors, w, 10 ** -9, 30)\n",
    "print(loss(matrix, vectors, w))"
   ]
  },
  {
   "cell_type": "code",
   "execution_count": 20,
   "metadata": {
    "collapsed": false,
    "deletable": true,
    "editable": true
   },
   "outputs": [
    {
     "name": "stdout",
     "output_type": "stream",
     "text": [
      "239.281498848\n"
     ]
    }
   ],
   "source": [
    "w = [0 for v in range(30)]\n",
    "w = gradient_descent(matrix, vectors, w, 10 ** -9, 60)\n",
    "print(loss(matrix, vectors, w))"
   ]
  },
  {
   "cell_type": "code",
   "execution_count": 21,
   "metadata": {
    "collapsed": false,
    "deletable": true,
    "editable": true
   },
   "outputs": [
    {
     "name": "stdout",
     "output_type": "stream",
     "text": [
      "2104965.43511\n"
     ]
    }
   ],
   "source": [
    "import random\n",
    "\n",
    "w = [random.random() for v in range(30)]\n",
    "w = gradient_descent(matrix, vectors, w, 10 ** -9, 30)\n",
    "print(loss(matrix, vectors, w))"
   ]
  },
  {
   "cell_type": "code",
   "execution_count": 22,
   "metadata": {
    "collapsed": true
   },
   "outputs": [],
   "source": [
    "def MinMaxScaler(data):\n",
    "    numerator = data - np.min(data, 0)\n",
    "    denominator = np.max(data, 0) - np.min(data, 0)\n",
    "    # noise term prevents the zero division\n",
    "    return numerator / (denominator + 1e-7)"
   ]
  },
  {
   "cell_type": "code",
   "execution_count": 23,
   "metadata": {
    "collapsed": false
   },
   "outputs": [],
   "source": [
    "nomalized_matrix = np.matrix(MinMaxScaler(np.array(matrix)))"
   ]
  },
  {
   "cell_type": "code",
   "execution_count": 24,
   "metadata": {
    "collapsed": false
   },
   "outputs": [
    {
     "name": "stdout",
     "output_type": "stream",
     "text": [
      "405.561260277\n"
     ]
    }
   ],
   "source": [
    "w = [random.random() -0.5 for v in range(30)]\n",
    "w = gradient_descent(nomalized_matrix, vectors, w, 10 ** -9, 10000)\n",
    "print(loss(nomalized_matrix, vectors, w))"
   ]
  },
  {
   "cell_type": "code",
   "execution_count": 25,
   "metadata": {
    "collapsed": false
   },
   "outputs": [
    {
     "name": "stdout",
     "output_type": "stream",
     "text": [
      "220.5131476\n"
     ]
    }
   ],
   "source": [
    "w = [random.random() -0.5 for v in range(30)]\n",
    "w = gradient_descent(nomalized_matrix, vectors, w, 10 ** -6, 10000)\n",
    "print(loss(nomalized_matrix, vectors, w))"
   ]
  },
  {
   "cell_type": "code",
   "execution_count": 26,
   "metadata": {
    "collapsed": false
   },
   "outputs": [
    {
     "name": "stdout",
     "output_type": "stream",
     "text": [
      "151.537511188\n"
     ]
    }
   ],
   "source": [
    "w = [random.random() -0.5 for v in range(30)]\n",
    "w = gradient_descent(nomalized_matrix, vectors, w, 10 ** -6, 30000)\n",
    "print(loss(nomalized_matrix, vectors, w))"
   ]
  },
  {
   "cell_type": "code",
   "execution_count": 27,
   "metadata": {
    "collapsed": false
   },
   "outputs": [
    {
     "name": "stdout",
     "output_type": "stream",
     "text": [
      "92.6413208476\n"
     ]
    }
   ],
   "source": [
    "w = [random.random() -0.5 for v in range(30)]\n",
    "w = gradient_descent(nomalized_matrix, vectors, w, 10 ** -3, 30000)\n",
    "print(loss(nomalized_matrix, vectors, w))"
   ]
  },
  {
   "cell_type": "code",
   "execution_count": 28,
   "metadata": {
    "collapsed": false
   },
   "outputs": [
    {
     "name": "stdout",
     "output_type": "stream",
     "text": [
      "95.0693938159\n"
     ]
    }
   ],
   "source": [
    "w = [random.random() -0.5 for v in range(30)]\n",
    "w = gradient_descent(nomalized_matrix, vectors, w, 10 ** -3, 10000)\n",
    "print(loss(nomalized_matrix, vectors, w))"
   ]
  }
 ],
 "metadata": {
  "kernelspec": {
   "display_name": "Python 3",
   "language": "python",
   "name": "python3"
  },
  "language_info": {
   "codemirror_mode": {
    "name": "ipython",
    "version": 3
   },
   "file_extension": ".py",
   "mimetype": "text/x-python",
   "name": "python",
   "nbconvert_exporter": "python",
   "pygments_lexer": "ipython3",
   "version": "3.6.0"
  }
 },
 "nbformat": 4,
 "nbformat_minor": 2
}
