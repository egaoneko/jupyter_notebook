{
 "cells": [
  {
   "cell_type": "code",
   "execution_count": 1,
   "metadata": {
    "collapsed": true,
    "deletable": true,
    "editable": true
   },
   "outputs": [],
   "source": [
    "import numpy as np"
   ]
  },
  {
   "cell_type": "code",
   "execution_count": 2,
   "metadata": {
    "collapsed": true,
    "deletable": true,
    "editable": true
   },
   "outputs": [],
   "source": [
    "def read_training_data(fname, D=None):\n",
    "    \"\"\"Given a file in appropriate format, and given a set D of features,\n",
    "    returns the pair (A, b) consisting of\n",
    "    a P-by-D matrix A and a P-vector b,\n",
    "    where P is a set of patient identification integers (IDs).\n",
    "\n",
    "    For each patient ID p,\n",
    "      - row p of A is the D-vector describing patient p's tissue sample,\n",
    "      - entry p of b is +1 if patient p's tissue is malignant, and -1 if it is benign.\n",
    "\n",
    "    The set D of features must be a subset of the features in the data (see text).\n",
    "    \"\"\"\n",
    "    file = open(fname)\n",
    "    params = [\"radius\", \"texture\", \"perimeter\",\"area\",\"smoothness\",\"compactness\",\"concavity\",\"concave points\",\"symmetry\",\"fractal dimension\"];\n",
    "    stats = [\"(mean)\", \"(stderr)\", \"(worst)\"]\n",
    "    feature_labels = set([y+x for x in stats for y in params])\n",
    "    feature_map = {params[i]+stats[j]:j*len(params)+i for i in range(len(params)) for j in range(len(stats))}\n",
    "    \n",
    "    patient_ids = []\n",
    "    feature_vectors = []\n",
    "    patient_diagnoses = []\n",
    "    for line in file:\n",
    "        row = line.split(\",\")\n",
    "        patient_ID = int(row[0])\n",
    "        patient_ids.append(patient_ID)\n",
    "        \n",
    "        patient_diagnoses.append(-1 if row[1]=='B' else +1)\n",
    "        feature_vectors.append([float(row[feature_map[key]+2]) for key in feature_labels])\n",
    "    return feature_labels, patient_ids, np.matrix(feature_vectors), np.array(patient_diagnoses) "
   ]
  },
  {
   "cell_type": "code",
   "execution_count": 38,
   "metadata": {
    "collapsed": false,
    "deletable": true,
    "editable": true
   },
   "outputs": [],
   "source": [
    "labels, ids, matrix, vectors = read_training_data('train.data')"
   ]
  },
  {
   "cell_type": "code",
   "execution_count": 42,
   "metadata": {
    "collapsed": false
   },
   "outputs": [
    {
     "name": "stdout",
     "output_type": "stream",
     "text": [
      "{'concave points(mean)', 'area(mean)', 'concavity(worst)', 'concave points(worst)', 'concavity(mean)', 'fractal dimension(mean)', 'perimeter(mean)', 'symmetry(stderr)', 'texture(worst)', 'smoothness(stderr)', 'area(worst)', 'texture(mean)', 'symmetry(worst)', 'compactness(worst)', 'smoothness(worst)', 'texture(stderr)', 'radius(mean)', 'smoothness(mean)', 'fractal dimension(stderr)', 'perimeter(worst)', 'fractal dimension(worst)', 'area(stderr)', 'compactness(mean)', 'symmetry(mean)', 'radius(worst)', 'concavity(stderr)', 'concave points(stderr)', 'perimeter(stderr)', 'compactness(stderr)', 'radius(stderr)'}\n"
     ]
    }
   ],
   "source": [
    "print(labels)"
   ]
  },
  {
   "cell_type": "code",
   "execution_count": 101,
   "metadata": {
    "collapsed": false,
    "deletable": true,
    "editable": true
   },
   "outputs": [],
   "source": [
    "def signum(u):\n",
    "    return np.array([1 if v >= 0 else -1 for k, v in np.ndenumerate(u)])"
   ]
  },
  {
   "cell_type": "code",
   "execution_count": 102,
   "metadata": {
    "collapsed": false
   },
   "outputs": [
    {
     "data": {
      "text/plain": [
       "array([ 1, -1,  1, -1,  1])"
      ]
     },
     "execution_count": 102,
     "metadata": {},
     "output_type": "execute_result"
    }
   ],
   "source": [
    "signum(np.array([10, -20, 5, -3, 6]))"
   ]
  },
  {
   "cell_type": "code",
   "execution_count": 197,
   "metadata": {
    "collapsed": false
   },
   "outputs": [],
   "source": [
    "def fraction_wrong(A, b, w):\n",
    "    hypers_size = len(b)\n",
    "#     hypers = []\n",
    "#     for row in A:\n",
    "#         row = np.array(row)\n",
    "#         hypers.append(row.dot(w)[0])\n",
    "#     hypers = np.array(hypers)\n",
    "#     diff = signum(hypers).dot(b)\n",
    "\n",
    "#     print(hypers_size)\n",
    "#     print(signum(A.dot(w)).dot(b))\n",
    "    hypers = signum(A.dot(w))\n",
    "    diff = hypers.dot(b)\n",
    "    diff = (hypers_size - diff) * 0.5\n",
    "    ratio  = diff / hypers_size\n",
    "    \n",
    "    return ratio\n",
    "    "
   ]
  },
  {
   "cell_type": "code",
   "execution_count": 198,
   "metadata": {
    "collapsed": false
   },
   "outputs": [
    {
     "name": "stdout",
     "output_type": "stream",
     "text": [
      "[array([ 0.46911291]), array([ 0.60486061]), array([ 0.81597776]), array([ 0.34118145]), array([ 0.45119072]), array([ 0.96129867]), array([ 0.30786488]), array([ 0.70298255]), array([ 0.25242172]), array([ 0.46328544]), array([ 0.06505453]), array([ 0.326035]), array([ 0.76896294]), array([ 0.50223629]), array([ 0.15570007]), array([ 0.75132947]), array([ 0.52716082]), array([ 0.93762763]), array([ 0.35465296]), array([ 0.75453297]), array([ 0.5082789]), array([ 0.66293391]), array([ 0.70231719]), array([ 0.39615524]), array([ 0.1711996]), array([ 0.64834661]), array([ 0.08300025]), array([ 0.85899526]), array([ 0.01317044]), array([ 0.0270838])]\n"
     ]
    },
    {
     "data": {
      "text/plain": [
       "0.51333333333333331"
      ]
     },
     "execution_count": 198,
     "metadata": {},
     "output_type": "execute_result"
    }
   ],
   "source": [
    "w = [v for v in np.random.rand(30, 1)]\n",
    "print(w)\n",
    "# w = [1 for v in range(30)]\n",
    "fraction_wrong(matrix, vectors, w)"
   ]
  },
  {
   "cell_type": "code",
   "execution_count": 294,
   "metadata": {
    "collapsed": true
   },
   "outputs": [],
   "source": [
    "def loss(A, b, w):\n",
    "    hypersis = np.squeeze(np.asarray(A.dot(w)))\n",
    "    error = hypersis - b\n",
    "    return error.dot(error)"
   ]
  },
  {
   "cell_type": "code",
   "execution_count": 295,
   "metadata": {
    "collapsed": false
   },
   "outputs": [
    {
     "data": {
      "text/plain": [
       "165274300.22408837"
      ]
     },
     "execution_count": 295,
     "metadata": {},
     "output_type": "execute_result"
    }
   ],
   "source": [
    "w = [v for v in np.random.rand(30, 1)]\n",
    "loss(matrix, vectors, w)"
   ]
  },
  {
   "cell_type": "code",
   "execution_count": 296,
   "metadata": {
    "collapsed": false
   },
   "outputs": [
    {
     "data": {
      "text/plain": [
       "1154981887.8781612"
      ]
     },
     "execution_count": 296,
     "metadata": {},
     "output_type": "execute_result"
    }
   ],
   "source": [
    "w = [v for v in np.random.rand(30, 1)]\n",
    "loss(matrix, vectors, w)"
   ]
  },
  {
   "cell_type": "code",
   "execution_count": 297,
   "metadata": {
    "collapsed": false
   },
   "outputs": [
    {
     "data": {
      "text/plain": [
       "332459090.07432556"
      ]
     },
     "execution_count": 297,
     "metadata": {},
     "output_type": "execute_result"
    }
   ],
   "source": [
    "w = [v for v in np.random.rand(30, 1)]\n",
    "loss(matrix, vectors, w)"
   ]
  },
  {
   "cell_type": "code",
   "execution_count": 301,
   "metadata": {
    "collapsed": true
   },
   "outputs": [],
   "source": [
    "def find_grad(A, b, w):\n",
    "    hypersis = np.squeeze(np.asarray(A.dot(w)))\n",
    "    error = np.transpose(hypersis - b)\n",
    "    print(error.dot(A))\n",
    "    return error"
   ]
  },
  {
   "cell_type": "code",
   "execution_count": 302,
   "metadata": {
    "collapsed": false
   },
   "outputs": [
    {
     "name": "stdout",
     "output_type": "stream",
     "text": [
      "[[  1.56294990e+04   1.91874521e+08   7.86955962e+04   3.30483041e+04\n",
      "    2.82106243e+04   1.38540990e+04   2.37323817e+07   4.67446871e+03\n",
      "    6.05692232e+06   1.54272896e+03   2.71593310e+08   4.52049397e+06\n",
      "    6.81665853e+04   6.89546465e+04   3.05812068e+04   2.69795013e+05\n",
      "    3.61485122e+06   2.21166557e+04   8.85559958e+02   2.84724265e+07\n",
      "    1.92266481e+04   1.39691500e+07   2.78799062e+04   4.18489218e+04\n",
      "    4.28848910e+06   8.30611541e+03   3.00568364e+03   8.59542121e+05\n",
      "    6.56592621e+03   1.21049198e+05]]\n"
     ]
    },
    {
     "data": {
      "text/plain": [
       "array([ 1207.58417909,  1387.98215533,  1275.23175806,   465.29136366,\n",
       "        1314.61083001,   551.90285178,  1123.56409545,   668.00716729,\n",
       "         589.65337185,   554.7418403 ,   866.87751222,   883.44764606,\n",
       "        1180.33610101,   808.2854771 ,   625.9040868 ,   738.47897663,\n",
       "         782.42866777,   903.32843859,  1441.28066649,   607.38228819,\n",
       "         557.98975682,   313.81901504,   768.18402154,  1570.05896817,\n",
       "        1150.54574224,  1034.93445598,   709.89988873,  1145.94641795,\n",
       "         853.87879558,   996.39770047,  1201.52191027,   564.42373919,\n",
       "         988.4520909 ,  1258.54300757,   886.21228743,   935.09409009,\n",
       "         684.09594042,   545.36718926,   747.93630299,   613.30000903,\n",
       "         622.71307283,   436.02983818,  1219.67985997,   636.86737965,\n",
       "         592.66066237,  1148.41220265,   247.78540461,   597.69522434,\n",
       "         497.95847371,   609.87092605,   480.66544204,   599.82105794,\n",
       "         480.10207846,  1088.39809327,   778.61645857,   459.20964652,\n",
       "        1311.91515925,   736.23681643,   571.12094615,   264.59886578,\n",
       "         363.80040699,   280.12361864,   736.66245429,   310.2732766 ,\n",
       "         606.88864063,   735.44241215,   324.65981287,   438.70615   ,\n",
       "         306.36777448,   530.85911786,  1252.57914747,   293.32053791,\n",
       "        1067.94075044,   640.22136315,   519.87162081,   907.4892912 ,\n",
       "         583.00898326,  1131.39135025,  1318.54310841,   550.40179423,\n",
       "         463.40372278,   557.78431647,  1929.238367  ,  1153.90639875,\n",
       "         490.71512062,  1159.45399795,   699.76084156,  1159.96300355,\n",
       "         519.37856485,   697.8260543 ,   707.71318059,   755.40827563,\n",
       "         623.60501577,   602.64273439,   781.20672927,  1327.01339001,\n",
       "         488.18754969,   349.67621222,   453.31483581,   691.74566014,\n",
       "         672.43796947,   190.44349134,   502.43088003,   348.79582842,\n",
       "         388.31422169,   607.59258171,   466.51385718,   502.55306972,\n",
       "        1651.27361124,   453.42281451,   345.82733518,   519.92329135,\n",
       "         666.64156824,   381.63923085,   277.88379924,   498.75294268,\n",
       "         289.42506862,   771.50510925,   885.72690226,  1020.92688424,\n",
       "         441.7588806 ,  1152.67711091,  1807.09663413,   664.59855791,\n",
       "         581.27579905,   626.66894277,   647.77997963,  1193.10078209,\n",
       "         706.74760857,  1239.03508333,   493.85806958,   832.20749946,\n",
       "         882.17809737,   788.20827255,  1152.02029655,   558.4631311 ,\n",
       "         482.77298557,   436.90594226,   777.05775666,   424.17050594,\n",
       "         326.34035551,   902.41257228,   450.53714245,   555.87356333,\n",
       "         402.14565839,   475.64270311,   492.00814491,   728.06405754,\n",
       "         673.04706598,   624.520026  ,   567.73785777,   258.2047305 ,\n",
       "         367.14065896,   416.83997837,   582.38984859,   503.99804872,\n",
       "        1035.06924908,   908.15189728,   481.62251905,   412.65698477,\n",
       "         486.11132101,  1213.31000697,  1368.29995022,   513.44572698,\n",
       "        1738.62868169,   711.20328846,   387.95576959,   957.29226387,\n",
       "        1130.58019818,   711.80658472,   498.05048977,   670.57233265,\n",
       "         805.69828839,   405.3508141 ,   393.1790435 ,   267.61340556,\n",
       "         363.41649887,   860.30809133,   562.11946088,   535.96109624,\n",
       "        2292.90171802,  1421.66961093,   862.08931885,   442.58148769,\n",
       "         762.02057226,   377.22323085,  1075.43983028,   466.55162926,\n",
       "         465.85716347,   501.57278896,   665.29383025,   562.42525749,\n",
       "         332.07361411,   572.12295643,   712.72492645,   549.15534103,\n",
       "         665.58466131,  1057.15308523,  1222.7647227 ,   724.06938081,\n",
       "         525.62009063,   993.46614418,  1673.64994076,   734.86455288,\n",
       "         548.34863421,   766.61658702,   337.36682984,   963.70572471,\n",
       "         576.0496999 ,   757.27452205,  1342.46920374,   478.24730366,\n",
       "        2529.36605575,   964.46920622,   676.51390814,   627.12548702,\n",
       "         482.48470625,   376.6666844 ,  1361.49252917,  1434.53125896,\n",
       "         603.92702628,   598.95817753,   360.71180496,   826.51112523,\n",
       "         595.81762164,   700.69887673,   372.14871775,   713.3902593 ,\n",
       "         548.6540162 ,   572.94240136,   938.23716922,   442.92234538,\n",
       "         450.04645489,  1383.12288023,   323.46206128,   642.21662883,\n",
       "        1849.23617132,  1354.1549381 ,   678.66844815,  1023.45023835,\n",
       "         609.73190812,   503.44529616,   441.2738712 ,   640.39913013,\n",
       "        1182.80193377,   391.56449869,   567.89201686,   556.61031296,\n",
       "         410.45087411,   448.93324642,  1463.29460706,   460.52990518,\n",
       "        1312.16477625,   964.23624729,  1281.21400014,   661.54829918,\n",
       "        1337.15017961,   775.04935099,   918.64196524,   818.81988647,\n",
       "        1348.00323282,   977.35219094,  1024.73305886,   798.67662566,\n",
       "        1010.74944621,  1768.78875181,   402.74315002,   606.52273526,\n",
       "         546.69817279,   397.61725067,   644.5872935 ,   423.71064104,\n",
       "        1630.13877504,   337.27847189,  1045.7163153 ,   483.47497202,\n",
       "         433.00916385,  1093.41618263,   619.15050187,   615.41582644,\n",
       "        1229.83518427,   479.98393168,  1201.28617058,   845.93119431,\n",
       "         552.48310189,   526.79414701,   495.89168669,   537.57388995,\n",
       "         443.79901047,   440.31062629,   709.64862076,   720.24206463,\n",
       "         544.45088309,   474.48799706,   519.39277304,   604.73066745,\n",
       "         391.58360869,   494.32796498,   677.24195653,   380.96415072])"
      ]
     },
     "execution_count": 302,
     "metadata": {},
     "output_type": "execute_result"
    }
   ],
   "source": [
    "w = [v for v in np.random.rand(30, 1)]\n",
    "find_grad(matrix, vectors, w)"
   ]
  }
 ],
 "metadata": {
  "kernelspec": {
   "display_name": "Python 3",
   "language": "python",
   "name": "python3"
  },
  "language_info": {
   "codemirror_mode": {
    "name": "ipython",
    "version": 3
   },
   "file_extension": ".py",
   "mimetype": "text/x-python",
   "name": "python",
   "nbconvert_exporter": "python",
   "pygments_lexer": "ipython3",
   "version": "3.6.0"
  }
 },
 "nbformat": 4,
 "nbformat_minor": 2
}
