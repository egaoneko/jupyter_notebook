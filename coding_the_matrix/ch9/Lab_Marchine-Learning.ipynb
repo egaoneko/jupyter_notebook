{
 "cells": [
  {
   "cell_type": "code",
   "execution_count": 1,
   "metadata": {
    "collapsed": true,
    "deletable": true,
    "editable": true
   },
   "outputs": [],
   "source": [
    "import numpy as np"
   ]
  },
  {
   "cell_type": "code",
   "execution_count": 2,
   "metadata": {
    "collapsed": true,
    "deletable": true,
    "editable": true
   },
   "outputs": [],
   "source": [
    "def read_training_data(fname, D=None):\n",
    "    \"\"\"Given a file in appropriate format, and given a set D of features,\n",
    "    returns the pair (A, b) consisting of\n",
    "    a P-by-D matrix A and a P-vector b,\n",
    "    where P is a set of patient identification integers (IDs).\n",
    "\n",
    "    For each patient ID p,\n",
    "      - row p of A is the D-vector describing patient p's tissue sample,\n",
    "      - entry p of b is +1 if patient p's tissue is malignant, and -1 if it is benign.\n",
    "\n",
    "    The set D of features must be a subset of the features in the data (see text).\n",
    "    \"\"\"\n",
    "    file = open(fname)\n",
    "    params = [\"radius\", \"texture\", \"perimeter\",\"area\",\"smoothness\",\"compactness\",\"concavity\",\"concave points\",\"symmetry\",\"fractal dimension\"];\n",
    "    stats = [\"(mean)\", \"(stderr)\", \"(worst)\"]\n",
    "    feature_labels = set([y+x for x in stats for y in params])\n",
    "    feature_map = {params[i]+stats[j]:j*len(params)+i for i in range(len(params)) for j in range(len(stats))}\n",
    "    \n",
    "    patient_ids = []\n",
    "    feature_vectors = []\n",
    "    patient_diagnoses = []\n",
    "    for line in file:\n",
    "        row = line.split(\",\")\n",
    "        patient_ID = int(row[0])\n",
    "        patient_ids.append(patient_ID)\n",
    "        \n",
    "        patient_diagnoses.append(-1 if row[1]=='B' else +1)\n",
    "        feature_vectors.append([float(row[feature_map[key]+2]) for key in feature_labels])\n",
    "    return feature_labels, patient_ids, np.matrix(feature_vectors), np.array(patient_diagnoses) "
   ]
  },
  {
   "cell_type": "code",
   "execution_count": 3,
   "metadata": {
    "collapsed": false,
    "deletable": true,
    "editable": true
   },
   "outputs": [],
   "source": [
    "labels, ids, matrix, vectors = read_training_data('train.data')"
   ]
  },
  {
   "cell_type": "code",
   "execution_count": 4,
   "metadata": {
    "collapsed": false,
    "deletable": true,
    "editable": true
   },
   "outputs": [
    {
     "name": "stdout",
     "output_type": "stream",
     "text": [
      "{'smoothness(stderr)', 'texture(mean)', 'concavity(worst)', 'texture(worst)', 'concave points(stderr)', 'area(worst)', 'perimeter(mean)', 'compactness(worst)', 'symmetry(stderr)', 'perimeter(stderr)', 'fractal dimension(stderr)', 'area(stderr)', 'area(mean)', 'fractal dimension(worst)', 'radius(stderr)', 'concave points(worst)', 'fractal dimension(mean)', 'smoothness(worst)', 'texture(stderr)', 'symmetry(worst)', 'radius(mean)', 'concavity(mean)', 'perimeter(worst)', 'radius(worst)', 'compactness(stderr)', 'smoothness(mean)', 'concave points(mean)', 'concavity(stderr)', 'symmetry(mean)', 'compactness(mean)'}\n"
     ]
    }
   ],
   "source": [
    "print(labels)"
   ]
  },
  {
   "cell_type": "code",
   "execution_count": 5,
   "metadata": {
    "collapsed": false,
    "deletable": true,
    "editable": true
   },
   "outputs": [],
   "source": [
    "def signum(u):\n",
    "    return np.array([1 if v >= 0 else -1 for k, v in np.ndenumerate(u)])"
   ]
  },
  {
   "cell_type": "code",
   "execution_count": 6,
   "metadata": {
    "collapsed": false,
    "deletable": true,
    "editable": true
   },
   "outputs": [
    {
     "data": {
      "text/plain": [
       "array([ 1, -1,  1, -1,  1])"
      ]
     },
     "execution_count": 6,
     "metadata": {},
     "output_type": "execute_result"
    }
   ],
   "source": [
    "signum(np.array([10, -20, 5, -3, 6]))"
   ]
  },
  {
   "cell_type": "code",
   "execution_count": 7,
   "metadata": {
    "collapsed": false,
    "deletable": true,
    "editable": true
   },
   "outputs": [],
   "source": [
    "def fraction_wrong(A, b, w):\n",
    "    hypers_size = len(b)\n",
    "#     hypers = []\n",
    "#     for row in A:\n",
    "#         row = np.array(row)\n",
    "#         hypers.append(row.dot(w)[0])\n",
    "#     hypers = np.array(hypers)\n",
    "#     diff = signum(hypers).dot(b)\n",
    "\n",
    "#     print(hypers_size)\n",
    "#     print(signum(A.dot(w)).dot(b))\n",
    "    hypers = signum(A.dot(w))\n",
    "    diff = hypers.dot(b)\n",
    "    diff = (hypers_size - diff) * 0.5\n",
    "    ratio  = diff / hypers_size\n",
    "    \n",
    "    return ratio\n",
    "    "
   ]
  },
  {
   "cell_type": "code",
   "execution_count": 8,
   "metadata": {
    "collapsed": false,
    "deletable": true,
    "editable": true
   },
   "outputs": [
    {
     "name": "stdout",
     "output_type": "stream",
     "text": [
      "[array([ 0.54425458]), array([ 0.12380031]), array([ 0.72951551]), array([ 0.85752237]), array([ 0.33779874]), array([ 0.76311652]), array([ 0.95045641]), array([ 0.92689646]), array([ 0.20778802]), array([ 0.60370603]), array([ 0.05121226]), array([ 0.80982389]), array([ 0.39198015]), array([ 0.99373178]), array([ 0.42771841]), array([ 0.26688645]), array([ 0.18703499]), array([ 0.21834495]), array([ 0.70857123]), array([ 0.89021576]), array([ 0.89174386]), array([ 0.49977356]), array([ 0.19065938]), array([ 0.9954612]), array([ 0.16659588]), array([ 0.08776235]), array([ 0.62683709]), array([ 0.94786931]), array([ 0.66234334]), array([ 0.39400408])]\n"
     ]
    },
    {
     "data": {
      "text/plain": [
       "0.51333333333333331"
      ]
     },
     "execution_count": 8,
     "metadata": {},
     "output_type": "execute_result"
    }
   ],
   "source": [
    "w = [v for v in np.random.rand(30, 1)]\n",
    "print(w)\n",
    "# w = [1 for v in range(30)]\n",
    "fraction_wrong(matrix, vectors, w)"
   ]
  },
  {
   "cell_type": "code",
   "execution_count": 9,
   "metadata": {
    "collapsed": true,
    "deletable": true,
    "editable": true
   },
   "outputs": [],
   "source": [
    "def loss(A, b, w):\n",
    "    hypersis = np.squeeze(np.asarray(A.dot(w)))\n",
    "    error = hypersis - b\n",
    "    return error.dot(error)"
   ]
  },
  {
   "cell_type": "code",
   "execution_count": 10,
   "metadata": {
    "collapsed": false,
    "deletable": true,
    "editable": true
   },
   "outputs": [
    {
     "data": {
      "text/plain": [
       "314937680.05090284"
      ]
     },
     "execution_count": 10,
     "metadata": {},
     "output_type": "execute_result"
    }
   ],
   "source": [
    "w = [v for v in np.random.rand(30, 1)]\n",
    "loss(matrix, vectors, w)"
   ]
  },
  {
   "cell_type": "code",
   "execution_count": 11,
   "metadata": {
    "collapsed": false,
    "deletable": true,
    "editable": true
   },
   "outputs": [
    {
     "data": {
      "text/plain": [
       "534139284.63835913"
      ]
     },
     "execution_count": 11,
     "metadata": {},
     "output_type": "execute_result"
    }
   ],
   "source": [
    "w = [v for v in np.random.rand(30, 1)]\n",
    "loss(matrix, vectors, w)"
   ]
  },
  {
   "cell_type": "code",
   "execution_count": 12,
   "metadata": {
    "collapsed": false,
    "deletable": true,
    "editable": true
   },
   "outputs": [
    {
     "data": {
      "text/plain": [
       "22226897.337725833"
      ]
     },
     "execution_count": 12,
     "metadata": {},
     "output_type": "execute_result"
    }
   ],
   "source": [
    "w = [v for v in np.random.rand(30, 1)]\n",
    "loss(matrix, vectors, w)"
   ]
  },
  {
   "cell_type": "code",
   "execution_count": 13,
   "metadata": {
    "collapsed": true,
    "deletable": true,
    "editable": true
   },
   "outputs": [],
   "source": [
    "def find_grad(A, b, w):\n",
    "#     hypersis = np.squeeze(np.asarray(A.dot(w)))\n",
    "#     error = np.transpose(hypersis - b)\n",
    "#     grad = np.squeeze(np.asarray(error.dot(A)))\n",
    "#     return grad * 2\n",
    "    \n",
    "    hypersis = np.squeeze(np.squeeze(np.asarray(A.dot(w))).dot(A))\n",
    "    ba = b.dot(A)\n",
    "    error = np.transpose(hypersis - ba)\n",
    "    return np.squeeze(np.asarray(error)) * 2"
   ]
  },
  {
   "cell_type": "code",
   "execution_count": 14,
   "metadata": {
    "collapsed": false,
    "deletable": true,
    "editable": true
   },
   "outputs": [
    {
     "data": {
      "text/plain": [
       "array([  3.43177423e+03,   1.01633085e+07,   1.79108275e+05,\n",
       "         1.36562641e+07,   6.73047702e+03,   6.19196282e+08,\n",
       "         5.33147516e+07,   1.56797504e+05,   1.03966894e+04,\n",
       "         1.93837043e+06,   1.97887635e+03,   3.16201858e+07,\n",
       "         4.31944893e+08,   4.32998343e+04,   2.73530146e+05,\n",
       "         7.50193606e+04,   3.10543410e+04,   6.88442994e+04,\n",
       "         6.01631784e+05,   1.53518409e+05,   8.11870735e+06,\n",
       "         6.38305535e+04,   6.43290352e+07,   9.68770630e+06,\n",
       "         1.47156042e+04,   4.96226587e+04,   3.53835449e+04,\n",
       "         1.85895785e+04,   9.38977024e+04,   6.29838466e+04])"
      ]
     },
     "execution_count": 14,
     "metadata": {},
     "output_type": "execute_result"
    }
   ],
   "source": [
    "w = [v for v in np.random.rand(30, 1)]\n",
    "find_grad(matrix, vectors, w)"
   ]
  },
  {
   "cell_type": "code",
   "execution_count": 15,
   "metadata": {
    "collapsed": false
   },
   "outputs": [],
   "source": [
    "def gradient_descent_step (A, b, w, sigma):\n",
    "    return w - find_grad(A, b, w) * sigma"
   ]
  },
  {
   "cell_type": "code",
   "execution_count": 16,
   "metadata": {
    "collapsed": true
   },
   "outputs": [],
   "source": [
    "def gradient_descent (A, b, w, sigma, T):\n",
    "    for t in range(T):\n",
    "        w = gradient_descent_step(A, b, w, sigma)\n",
    "#         print(loss(A, b, w))\n",
    "    return w"
   ]
  },
  {
   "cell_type": "code",
   "execution_count": 17,
   "metadata": {
    "collapsed": false
   },
   "outputs": [
    {
     "name": "stdout",
     "output_type": "stream",
     "text": [
      "3.18014007384e+13\n"
     ]
    }
   ],
   "source": [
    "w = [1 for v in range(30)]\n",
    "w = gradient_descent(matrix, vectors, w, 2 * 10 ** -9, 30)\n",
    "print(loss(matrix, vectors, w))"
   ]
  },
  {
   "cell_type": "code",
   "execution_count": 18,
   "metadata": {
    "collapsed": false
   },
   "outputs": [
    {
     "name": "stdout",
     "output_type": "stream",
     "text": [
      "1867476.16499\n"
     ]
    }
   ],
   "source": [
    "w = [1 for v in range(30)]\n",
    "w = gradient_descent(matrix, vectors, w, 10 ** -9, 30)\n",
    "print(loss(matrix, vectors, w))"
   ]
  },
  {
   "cell_type": "code",
   "execution_count": 19,
   "metadata": {
    "collapsed": false
   },
   "outputs": [
    {
     "name": "stdout",
     "output_type": "stream",
     "text": [
      "251.010760796\n"
     ]
    }
   ],
   "source": [
    "w = [0 for v in range(30)]\n",
    "w = gradient_descent(matrix, vectors, w, 10 ** -9, 30)\n",
    "print(loss(matrix, vectors, w))"
   ]
  },
  {
   "cell_type": "code",
   "execution_count": 20,
   "metadata": {
    "collapsed": false
   },
   "outputs": [
    {
     "name": "stdout",
     "output_type": "stream",
     "text": [
      "239.281498848\n"
     ]
    }
   ],
   "source": [
    "w = [0 for v in range(30)]\n",
    "w = gradient_descent(matrix, vectors, w, 10 ** -9, 60)\n",
    "print(loss(matrix, vectors, w))"
   ]
  },
  {
   "cell_type": "code",
   "execution_count": 21,
   "metadata": {
    "collapsed": false
   },
   "outputs": [
    {
     "name": "stdout",
     "output_type": "stream",
     "text": [
      "249556.293138\n"
     ]
    }
   ],
   "source": [
    "import random\n",
    "\n",
    "w = [random.random() for v in range(30)]\n",
    "w = gradient_descent(matrix, vectors, w, 10 ** -9, 30)\n",
    "print(loss(matrix, vectors, w))"
   ]
  }
 ],
 "metadata": {
  "kernelspec": {
   "display_name": "Python 3",
   "language": "python",
   "name": "python3"
  },
  "language_info": {
   "codemirror_mode": {
    "name": "ipython",
    "version": 3
   },
   "file_extension": ".py",
   "mimetype": "text/x-python",
   "name": "python",
   "nbconvert_exporter": "python",
   "pygments_lexer": "ipython3",
   "version": "3.6.0"
  }
 },
 "nbformat": 4,
 "nbformat_minor": 2
}
