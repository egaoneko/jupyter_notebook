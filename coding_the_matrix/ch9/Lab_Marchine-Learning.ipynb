{
 "cells": [
  {
   "cell_type": "code",
   "execution_count": 1,
   "metadata": {
    "collapsed": true,
    "deletable": true,
    "editable": true
   },
   "outputs": [],
   "source": [
    "import numpy as np"
   ]
  },
  {
   "cell_type": "code",
   "execution_count": 2,
   "metadata": {
    "collapsed": true,
    "deletable": true,
    "editable": true
   },
   "outputs": [],
   "source": [
    "def read_training_data(fname, D=None):\n",
    "    \"\"\"Given a file in appropriate format, and given a set D of features,\n",
    "    returns the pair (A, b) consisting of\n",
    "    a P-by-D matrix A and a P-vector b,\n",
    "    where P is a set of patient identification integers (IDs).\n",
    "\n",
    "    For each patient ID p,\n",
    "      - row p of A is the D-vector describing patient p's tissue sample,\n",
    "      - entry p of b is +1 if patient p's tissue is malignant, and -1 if it is benign.\n",
    "\n",
    "    The set D of features must be a subset of the features in the data (see text).\n",
    "    \"\"\"\n",
    "    file = open(fname)\n",
    "    params = [\"radius\", \"texture\", \"perimeter\",\"area\",\"smoothness\",\"compactness\",\"concavity\",\"concave points\",\"symmetry\",\"fractal dimension\"];\n",
    "    stats = [\"(mean)\", \"(stderr)\", \"(worst)\"]\n",
    "    feature_labels = set([y+x for x in stats for y in params])\n",
    "    feature_map = {params[i]+stats[j]:j*len(params)+i for i in range(len(params)) for j in range(len(stats))}\n",
    "    \n",
    "    patient_ids = []\n",
    "    feature_vectors = []\n",
    "    patient_diagnoses = []\n",
    "    for line in file:\n",
    "        row = line.split(\",\")\n",
    "        patient_ID = int(row[0])\n",
    "        patient_ids.append(patient_ID)\n",
    "        \n",
    "        patient_diagnoses.append(-1 if row[1]=='B' else +1)\n",
    "        feature_vectors.append([float(row[feature_map[key]+2]) for key in feature_labels])\n",
    "    return feature_labels, patient_ids, np.matrix(feature_vectors), np.array(patient_diagnoses) "
   ]
  },
  {
   "cell_type": "code",
   "execution_count": 3,
   "metadata": {
    "collapsed": false,
    "deletable": true,
    "editable": true
   },
   "outputs": [],
   "source": [
    "labels, ids, matrix, vectors = read_training_data('train.data')"
   ]
  },
  {
   "cell_type": "code",
   "execution_count": 4,
   "metadata": {
    "collapsed": false,
    "deletable": true,
    "editable": true
   },
   "outputs": [
    {
     "name": "stdout",
     "output_type": "stream",
     "text": [
      "{'area(worst)', 'texture(mean)', 'texture(worst)', 'smoothness(worst)', 'perimeter(mean)', 'concavity(stderr)', 'area(mean)', 'concavity(mean)', 'compactness(mean)', 'radius(worst)', 'radius(stderr)', 'fractal dimension(worst)', 'fractal dimension(stderr)', 'texture(stderr)', 'compactness(stderr)', 'concave points(mean)', 'smoothness(stderr)', 'perimeter(stderr)', 'symmetry(mean)', 'smoothness(mean)', 'concave points(stderr)', 'fractal dimension(mean)', 'area(stderr)', 'perimeter(worst)', 'symmetry(stderr)', 'symmetry(worst)', 'compactness(worst)', 'concave points(worst)', 'concavity(worst)', 'radius(mean)'}\n"
     ]
    }
   ],
   "source": [
    "print(labels)"
   ]
  },
  {
   "cell_type": "code",
   "execution_count": 5,
   "metadata": {
    "collapsed": false,
    "deletable": true,
    "editable": true
   },
   "outputs": [],
   "source": [
    "def signum(u):\n",
    "    return np.array([1 if v >= 0 else -1 for k, v in np.ndenumerate(u)])"
   ]
  },
  {
   "cell_type": "code",
   "execution_count": 6,
   "metadata": {
    "collapsed": false,
    "deletable": true,
    "editable": true
   },
   "outputs": [
    {
     "data": {
      "text/plain": [
       "array([ 1, -1,  1, -1,  1])"
      ]
     },
     "execution_count": 6,
     "metadata": {},
     "output_type": "execute_result"
    }
   ],
   "source": [
    "signum(np.array([10, -20, 5, -3, 6]))"
   ]
  },
  {
   "cell_type": "code",
   "execution_count": 7,
   "metadata": {
    "collapsed": false,
    "deletable": true,
    "editable": true
   },
   "outputs": [],
   "source": [
    "def fraction_wrong(A, b, w):\n",
    "    hypers_size = len(b)\n",
    "#     hypers = []\n",
    "#     for row in A:\n",
    "#         row = np.array(row)\n",
    "#         hypers.append(row.dot(w)[0])\n",
    "#     hypers = np.array(hypers)\n",
    "#     diff = signum(hypers).dot(b)\n",
    "\n",
    "#     print(hypers_size)\n",
    "#     print(signum(A.dot(w)).dot(b))\n",
    "    hypers = signum(A.dot(w))\n",
    "    diff = hypers.dot(b)\n",
    "    diff = (hypers_size - diff) * 0.5\n",
    "    ratio  = diff / hypers_size\n",
    "    \n",
    "    return ratio\n",
    "    "
   ]
  },
  {
   "cell_type": "code",
   "execution_count": 8,
   "metadata": {
    "collapsed": false,
    "deletable": true,
    "editable": true
   },
   "outputs": [
    {
     "name": "stdout",
     "output_type": "stream",
     "text": [
      "[array([ 0.57403485]), array([ 0.05954288]), array([ 0.60268446]), array([ 0.31165047]), array([ 0.38284123]), array([ 0.42890859]), array([ 0.08663268]), array([ 0.02679945]), array([ 0.16893255]), array([ 0.04541315]), array([ 0.64565223]), array([ 0.96468283]), array([ 0.84961533]), array([ 0.52311106]), array([ 0.60688703]), array([ 0.88388626]), array([ 0.73639869]), array([ 0.9467534]), array([ 0.13561554]), array([ 0.13146509]), array([ 0.508663]), array([ 0.65752444]), array([ 0.33211096]), array([ 0.21561649]), array([ 0.95230612]), array([ 0.65418449]), array([ 0.86757825]), array([ 0.64151012]), array([ 0.93600711]), array([ 0.49694614])]\n"
     ]
    },
    {
     "data": {
      "text/plain": [
       "0.51333333333333331"
      ]
     },
     "execution_count": 8,
     "metadata": {},
     "output_type": "execute_result"
    }
   ],
   "source": [
    "w = [v for v in np.random.rand(30, 1)]\n",
    "print(w)\n",
    "# w = [1 for v in range(30)]\n",
    "fraction_wrong(matrix, vectors, w)"
   ]
  },
  {
   "cell_type": "code",
   "execution_count": 9,
   "metadata": {
    "collapsed": true,
    "deletable": true,
    "editable": true
   },
   "outputs": [],
   "source": [
    "def loss(A, b, w):\n",
    "    hypersis = np.squeeze(np.asarray(A.dot(w)))\n",
    "    error = hypersis - b\n",
    "    return error.dot(error)"
   ]
  },
  {
   "cell_type": "code",
   "execution_count": 10,
   "metadata": {
    "collapsed": false,
    "deletable": true,
    "editable": true
   },
   "outputs": [
    {
     "data": {
      "text/plain": [
       "576691675.86760688"
      ]
     },
     "execution_count": 10,
     "metadata": {},
     "output_type": "execute_result"
    }
   ],
   "source": [
    "w = [v for v in np.random.rand(30, 1)]\n",
    "loss(matrix, vectors, w)"
   ]
  },
  {
   "cell_type": "code",
   "execution_count": 11,
   "metadata": {
    "collapsed": false,
    "deletable": true,
    "editable": true
   },
   "outputs": [
    {
     "data": {
      "text/plain": [
       "415756459.6047259"
      ]
     },
     "execution_count": 11,
     "metadata": {},
     "output_type": "execute_result"
    }
   ],
   "source": [
    "w = [v for v in np.random.rand(30, 1)]\n",
    "loss(matrix, vectors, w)"
   ]
  },
  {
   "cell_type": "code",
   "execution_count": 12,
   "metadata": {
    "collapsed": false,
    "deletable": true,
    "editable": true
   },
   "outputs": [
    {
     "data": {
      "text/plain": [
       "232299724.45958215"
      ]
     },
     "execution_count": 12,
     "metadata": {},
     "output_type": "execute_result"
    }
   ],
   "source": [
    "w = [v for v in np.random.rand(30, 1)]\n",
    "loss(matrix, vectors, w)"
   ]
  },
  {
   "cell_type": "code",
   "execution_count": 13,
   "metadata": {
    "collapsed": true,
    "deletable": true,
    "editable": true
   },
   "outputs": [],
   "source": [
    "def find_grad(A, b, w):\n",
    "    hypersis = np.squeeze(np.asarray(A.dot(w)))\n",
    "    error = np.transpose(hypersis - b)\n",
    "    grad = np.squeeze(np.asarray(error.dot(A)))\n",
    "    return grad"
   ]
  },
  {
   "cell_type": "code",
   "execution_count": 14,
   "metadata": {
    "collapsed": false,
    "deletable": true,
    "editable": true
   },
   "outputs": [
    {
     "data": {
      "text/plain": [
       "array([  2.73918078e+08,   4.54415932e+06,   6.10168390e+06,\n",
       "         3.07765066e+04,   2.37988659e+07,   8.29364082e+03,\n",
       "         1.92187824e+08,   2.83012990e+04,   2.80275301e+04,\n",
       "         4.31359685e+06,   1.20955669e+05,   1.93596424e+04,\n",
       "         8.85090237e+02,   2.69672987e+05,   6.56808200e+03,\n",
       "         1.56899049e+04,   1.53903264e+03,   8.57704314e+05,\n",
       "         4.20137911e+04,   2.22030488e+04,   3.00576650e+03,\n",
       "         1.39093972e+04,   1.39200822e+07,   2.86375160e+07,\n",
       "         4.66116348e+03,   6.86350668e+04,   6.97084078e+04,\n",
       "         3.33284679e+04,   7.95026307e+04,   3.62505634e+06])"
      ]
     },
     "execution_count": 14,
     "metadata": {},
     "output_type": "execute_result"
    }
   ],
   "source": [
    "w = [v for v in np.random.rand(30, 1)]\n",
    "find_grad(matrix, vectors, w)"
   ]
  }
 ],
 "metadata": {
  "kernelspec": {
   "display_name": "Python 3",
   "language": "python",
   "name": "python3"
  },
  "language_info": {
   "codemirror_mode": {
    "name": "ipython",
    "version": 3
   },
   "file_extension": ".py",
   "mimetype": "text/x-python",
   "name": "python",
   "nbconvert_exporter": "python",
   "pygments_lexer": "ipython3",
   "version": "3.6.0"
  }
 },
 "nbformat": 4,
 "nbformat_minor": 2
}
