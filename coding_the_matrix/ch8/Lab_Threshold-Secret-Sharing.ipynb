{
 "cells": [
  {
   "cell_type": "code",
   "execution_count": 1,
   "metadata": {
    "collapsed": false,
    "deletable": true,
    "editable": true
   },
   "outputs": [],
   "source": [
    "import source as sc\n",
    "import numpy as np\n",
    "from itertools import combinations"
   ]
  },
  {
   "cell_type": "code",
   "execution_count": 2,
   "metadata": {
    "collapsed": true,
    "deletable": true,
    "editable": true
   },
   "outputs": [],
   "source": [
    "def generate_rand_vector(length):\n",
    "    if(length < 1):\n",
    "        return None\n",
    "    \n",
    "    return sc.GF2Utils.getVector([sc.GF2Utils.randGF2() for x in range(length)])"
   ]
  },
  {
   "cell_type": "code",
   "execution_count": 3,
   "metadata": {
    "collapsed": false,
    "deletable": true,
    "editable": true
   },
   "outputs": [
    {
     "name": "stdout",
     "output_type": "stream",
     "text": [
      "[GF2(1) GF2(1) GF2(0) GF2(1) GF2(0) GF2(1)]\n",
      "[GF2(1) GF2(1) GF2(0) GF2(0) GF2(0) GF2(1)]\n"
     ]
    }
   ],
   "source": [
    "a0 = sc.GF2Utils.getVector([1,1,0,1,0,1])\n",
    "b0 = sc.GF2Utils.getVector([1,1,0,0,0,1])\n",
    "\n",
    "print(a0)\n",
    "print(b0)"
   ]
  },
  {
   "cell_type": "code",
   "execution_count": 4,
   "metadata": {
    "collapsed": false,
    "deletable": true,
    "editable": true
   },
   "outputs": [],
   "source": [
    "def choose_secret_vector(s, t):\n",
    "    cnt = 0\n",
    "    gf2_s = sc.GF2(s)\n",
    "    gf2_t = sc.GF2(t)\n",
    "    while True:\n",
    "#         print(cnt)\n",
    "        cnt += 1\n",
    "        if cnt == 1000:\n",
    "            return None\n",
    "        \n",
    "        u = generate_rand_vector(6)\n",
    "        is_eqaul_s = np.dot(a0, u) == gf2_s\n",
    "        is_eqaul_t = np.dot(b0, u) == gf2_t\n",
    "        \n",
    "#         print(is_eqaul_s, np.dot(a0, u), gf2_s)\n",
    "#         print(is_eqaul_t, np.dot(b0, u), gf2_t)\n",
    "        \n",
    "        if is_eqaul_s and is_eqaul_t:\n",
    "            break\n",
    "        \n",
    "    return u"
   ]
  },
  {
   "cell_type": "code",
   "execution_count": 5,
   "metadata": {
    "collapsed": false,
    "deletable": true,
    "editable": true
   },
   "outputs": [
    {
     "name": "stdout",
     "output_type": "stream",
     "text": [
      "[GF2(1) GF2(1) GF2(0) GF2(0) GF2(0) GF2(1)]\n"
     ]
    }
   ],
   "source": [
    "print(choose_secret_vector(1,1))"
   ]
  },
  {
   "cell_type": "code",
   "execution_count": 6,
   "metadata": {
    "collapsed": false,
    "deletable": true,
    "editable": true
   },
   "outputs": [
    {
     "data": {
      "text/plain": [
       "False"
      ]
     },
     "execution_count": 6,
     "metadata": {},
     "output_type": "execute_result"
    }
   ],
   "source": [
    "gf = sc.GF2Utils.getVector([[1,0,0,0],[0,1,0,0],[0,0,1,0],[1,0,1,0]])\n",
    "sc.is_independent(gf)"
   ]
  },
  {
   "cell_type": "code",
   "execution_count": 7,
   "metadata": {
    "collapsed": false,
    "deletable": true,
    "editable": true
   },
   "outputs": [],
   "source": [
    "def generate_secret_vectors():\n",
    "    while True:\n",
    "        vectors = [(a0, b0)]\n",
    "        for r in range(4):\n",
    "            a = generate_rand_vector(6)\n",
    "            b = generate_rand_vector(6)\n",
    "            vectors.append((a, b))\n",
    "        \n",
    "        vector_combinations = combinations(vectors, 3)\n",
    "        if is_cobinations_independent(vector_combinations):\n",
    "            break\n",
    "    return vectors\n",
    "\n",
    "def is_cobinations_independent(vector_combinations):\n",
    "    return all([is_cobination_independent(combination) for combination in vector_combinations])\n",
    "\n",
    "def is_cobination_independent(combination):\n",
    "    vectors = get_vectos_in_combination(combination)\n",
    "    return sc.is_independent(vectors)\n",
    "\n",
    "def get_vectos_in_combination(combination):\n",
    "    vectors = []\n",
    "    for a, b in combination:\n",
    "        vectors.append(a)\n",
    "        vectors.append(b)\n",
    "    return vectors"
   ]
  },
  {
   "cell_type": "code",
   "execution_count": 8,
   "metadata": {
    "collapsed": false,
    "deletable": true,
    "editable": true
   },
   "outputs": [
    {
     "name": "stdout",
     "output_type": "stream",
     "text": [
      "[(array([GF2(1), GF2(1), GF2(0), GF2(1), GF2(0), GF2(1)], dtype=object), array([GF2(1), GF2(1), GF2(0), GF2(0), GF2(0), GF2(1)], dtype=object)), (array([GF2(1), GF2(0), GF2(0), GF2(0), GF2(1), GF2(0)], dtype=object), array([GF2(0), GF2(0), GF2(1), GF2(0), GF2(1), GF2(0)], dtype=object)), (array([GF2(1), GF2(0), GF2(0), GF2(0), GF2(0), GF2(0)], dtype=object), array([GF2(0), GF2(0), GF2(0), GF2(0), GF2(1), GF2(1)], dtype=object)), (array([GF2(0), GF2(0), GF2(0), GF2(0), GF2(1), GF2(1)], dtype=object), array([GF2(0), GF2(1), GF2(1), GF2(1), GF2(1), GF2(0)], dtype=object)), (array([GF2(0), GF2(1), GF2(1), GF2(1), GF2(0), GF2(1)], dtype=object), array([GF2(1), GF2(1), GF2(1), GF2(0), GF2(1), GF2(0)], dtype=object))]\n"
     ]
    }
   ],
   "source": [
    "print(generate_secret_vectors())"
   ]
  }
 ],
 "metadata": {
  "kernelspec": {
   "display_name": "Python 3",
   "language": "python",
   "name": "python3"
  },
  "language_info": {
   "codemirror_mode": {
    "name": "ipython",
    "version": 3
   },
   "file_extension": ".py",
   "mimetype": "text/x-python",
   "name": "python",
   "nbconvert_exporter": "python",
   "pygments_lexer": "ipython3",
   "version": "3.6.0"
  }
 },
 "nbformat": 4,
 "nbformat_minor": 2
}
