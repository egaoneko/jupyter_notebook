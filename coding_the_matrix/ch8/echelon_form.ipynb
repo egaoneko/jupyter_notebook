{
 "cells": [
  {
   "cell_type": "code",
   "execution_count": 1,
   "metadata": {
    "collapsed": false
   },
   "outputs": [
    {
     "name": "stdout",
     "output_type": "stream",
     "text": [
      "Echelon form:  [[ 1.  2.  3.  4.  5.]\n",
      " [ 0.  2.  3.  4.  5.]\n",
      " [ 0.  0.  0.  3.  2.]\n",
      " [ 0.  0.  0.  0.  3.]]\n"
     ]
    }
   ],
   "source": [
    "import numpy as np\n",
    "\n",
    "def generate_echelon_form(M):\n",
    "    m = np.array(M, dtype=\"float64\")\n",
    "#     print(\"M: \", m)\n",
    "\n",
    "    row, col = m.shape\n",
    "#     print(\"row, col: \", row, col)\n",
    "\n",
    "    new_rowlist = []\n",
    "    rows_left = set(range(row))\n",
    "#     print(\"rows_loft: \", rows_left)\n",
    "    \n",
    "    for c in range(col):\n",
    "        rows_with_nonzero = [r for r in rows_left if m[r][c] != 0]\n",
    "#         print(\"rows_with_nonzero: \", rows_with_nonzero)\n",
    "        \n",
    "        if rows_with_nonzero != []:\n",
    "            pivot = rows_with_nonzero[0]\n",
    "#             print(\"pivot\", pivot)\n",
    "            \n",
    "            new_rowlist.append(m[pivot])\n",
    "#             print(\"new_rowlist: \", new_rowlist)\n",
    "\n",
    "            rows_left.remove(pivot)\n",
    "#             print(\"rows_left: \", rows_left)\n",
    "\n",
    "            for r in rows_with_nonzero[1:]:\n",
    "                multiplier = m[r][c] / m[pivot][c]\n",
    "#                 print(\"multiplier: \", multiplier)\n",
    "\n",
    "                m[r] -= multiplier * m[pivot]\n",
    "\n",
    "#             print(\"rows_left: \", rows_left)\n",
    "    \n",
    "    return np.matrix(new_rowlist)\n",
    "\n",
    "M = [[0, 2, 3, 4, 5], [0, 0, 0, 3, 2], [1, 2, 3, 4, 5], [0, 0, 0, 6, 7], [0, 0, 0, 9, 9]]\n",
    "    \n",
    "print(\"Echelon form: \", generate_echelon_form(M))"
   ]
  },
  {
   "cell_type": "code",
   "execution_count": null,
   "metadata": {
    "collapsed": true
   },
   "outputs": [],
   "source": []
  }
 ],
 "metadata": {
  "kernelspec": {
   "display_name": "Python 3",
   "language": "python",
   "name": "python3"
  },
  "language_info": {
   "codemirror_mode": {
    "name": "ipython",
    "version": 3
   },
   "file_extension": ".py",
   "mimetype": "text/x-python",
   "name": "python",
   "nbconvert_exporter": "python",
   "pygments_lexer": "ipython3",
   "version": "3.6.0"
  }
 },
 "nbformat": 4,
 "nbformat_minor": 2
}
