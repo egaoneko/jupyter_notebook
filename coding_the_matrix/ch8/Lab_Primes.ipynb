{
 "cells": [
  {
   "cell_type": "code",
   "execution_count": 1,
   "metadata": {
    "collapsed": false,
    "deletable": true,
    "editable": true
   },
   "outputs": [],
   "source": [
    "from factoring_support import *\n",
    "from math import *\n",
    "import numpy as np\n",
    "import source as sc"
   ]
  },
  {
   "cell_type": "code",
   "execution_count": 2,
   "metadata": {
    "collapsed": false,
    "deletable": true,
    "editable": true
   },
   "outputs": [
    {
     "data": {
      "text/plain": [
       "5"
      ]
     },
     "execution_count": 2,
     "metadata": {},
     "output_type": "execute_result"
    }
   ],
   "source": [
    "intsqrt(20)"
   ]
  },
  {
   "cell_type": "code",
   "execution_count": 3,
   "metadata": {
    "collapsed": false,
    "deletable": true,
    "editable": true
   },
   "outputs": [],
   "source": [
    "def root_method(N):\n",
    "    a = ceil(sqrt(N))\n",
    "    cnt = 0\n",
    "    while not sqrt(a ** 2 - N) % 1 == 0:\n",
    "        a += 1\n",
    "        \n",
    "        if cnt == 1000:\n",
    "            return -1\n",
    "        else :\n",
    "            cnt += 1\n",
    "    b = sqrt(a ** 2 - N)\n",
    "    print(a, b)\n",
    "    return a-b"
   ]
  },
  {
   "cell_type": "code",
   "execution_count": 4,
   "metadata": {
    "collapsed": false,
    "deletable": true,
    "editable": true
   },
   "outputs": [
    {
     "name": "stdout",
     "output_type": "stream",
     "text": [
      "8 3.0\n"
     ]
    },
    {
     "data": {
      "text/plain": [
       "5.0"
      ]
     },
     "execution_count": 4,
     "metadata": {},
     "output_type": "execute_result"
    }
   ],
   "source": [
    "root_method(55)"
   ]
  },
  {
   "cell_type": "code",
   "execution_count": 5,
   "metadata": {
    "collapsed": false,
    "deletable": true,
    "editable": true
   },
   "outputs": [
    {
     "name": "stdout",
     "output_type": "stream",
     "text": [
      "9 2.0\n"
     ]
    },
    {
     "data": {
      "text/plain": [
       "7.0"
      ]
     },
     "execution_count": 5,
     "metadata": {},
     "output_type": "execute_result"
    }
   ],
   "source": [
    "root_method(77)"
   ]
  },
  {
   "cell_type": "code",
   "execution_count": 6,
   "metadata": {
    "collapsed": false,
    "deletable": true,
    "editable": true
   },
   "outputs": [
    {
     "name": "stdout",
     "output_type": "stream",
     "text": [
      "390 73.0\n"
     ]
    },
    {
     "data": {
      "text/plain": [
       "317.0"
      ]
     },
     "execution_count": 6,
     "metadata": {},
     "output_type": "execute_result"
    }
   ],
   "source": [
    "root_method(146771)"
   ]
  },
  {
   "cell_type": "code",
   "execution_count": 7,
   "metadata": {
    "collapsed": false,
    "deletable": true,
    "editable": true
   },
   "outputs": [
    {
     "data": {
      "text/plain": [
       "-1"
      ]
     },
     "execution_count": 7,
     "metadata": {},
     "output_type": "execute_result"
    }
   ],
   "source": [
    "root_method(118)"
   ]
  },
  {
   "cell_type": "code",
   "execution_count": 8,
   "metadata": {
    "collapsed": true,
    "deletable": true,
    "editable": true
   },
   "outputs": [],
   "source": [
    "a = 112314123 * 123123123\n",
    "b = 123123123 * 342352625"
   ]
  },
  {
   "cell_type": "code",
   "execution_count": 9,
   "metadata": {
    "collapsed": true,
    "deletable": true,
    "editable": true
   },
   "outputs": [],
   "source": [
    "d = gcd(a, b)"
   ]
  },
  {
   "cell_type": "code",
   "execution_count": 10,
   "metadata": {
    "collapsed": false,
    "deletable": true,
    "editable": true
   },
   "outputs": [
    {
     "data": {
      "text/plain": [
       "112314123.0"
      ]
     },
     "execution_count": 10,
     "metadata": {},
     "output_type": "execute_result"
    }
   ],
   "source": [
    "a/d"
   ]
  },
  {
   "cell_type": "code",
   "execution_count": 11,
   "metadata": {
    "collapsed": false,
    "deletable": true,
    "editable": true
   },
   "outputs": [
    {
     "data": {
      "text/plain": [
       "342352625.0"
      ]
     },
     "execution_count": 11,
     "metadata": {},
     "output_type": "execute_result"
    }
   ],
   "source": [
    "b/d"
   ]
  },
  {
   "cell_type": "code",
   "execution_count": 12,
   "metadata": {
    "collapsed": true,
    "deletable": true,
    "editable": true
   },
   "outputs": [],
   "source": [
    "N = 367160330145890434494322103\n",
    "a = 67469780066325164\n",
    "b = 9429601150488992"
   ]
  },
  {
   "cell_type": "code",
   "execution_count": 13,
   "metadata": {
    "collapsed": false,
    "deletable": true,
    "editable": true
   },
   "outputs": [
    {
     "data": {
      "text/plain": [
       "0"
      ]
     },
     "execution_count": 13,
     "metadata": {},
     "output_type": "execute_result"
    }
   ],
   "source": [
    "(a ** 2 - b ** 2) % N"
   ]
  },
  {
   "cell_type": "code",
   "execution_count": 14,
   "metadata": {
    "collapsed": false,
    "deletable": true,
    "editable": true
   },
   "outputs": [
    {
     "data": {
      "text/plain": [
       "19117318483477"
      ]
     },
     "execution_count": 14,
     "metadata": {},
     "output_type": "execute_result"
    }
   ],
   "source": [
    "gcd(a-b, N)"
   ]
  },
  {
   "cell_type": "code",
   "execution_count": 15,
   "metadata": {
    "collapsed": true,
    "deletable": true,
    "editable": true
   },
   "outputs": [],
   "source": [
    "primeset = {2,3,5,7,11,13}"
   ]
  },
  {
   "cell_type": "code",
   "execution_count": 16,
   "metadata": {
    "collapsed": false,
    "deletable": true,
    "editable": true
   },
   "outputs": [
    {
     "data": {
      "text/plain": [
       "[(2, 2), (3, 1)]"
      ]
     },
     "execution_count": 16,
     "metadata": {},
     "output_type": "execute_result"
    }
   ],
   "source": [
    "dumb_factor(12,primeset)"
   ]
  },
  {
   "cell_type": "code",
   "execution_count": 17,
   "metadata": {
    "collapsed": false,
    "deletable": true,
    "editable": true
   },
   "outputs": [
    {
     "data": {
      "text/plain": [
       "[(2, 1), (7, 1), (11, 1)]"
      ]
     },
     "execution_count": 17,
     "metadata": {},
     "output_type": "execute_result"
    }
   ],
   "source": [
    "dumb_factor(154,primeset)"
   ]
  },
  {
   "cell_type": "code",
   "execution_count": 18,
   "metadata": {
    "collapsed": false,
    "deletable": true,
    "editable": true
   },
   "outputs": [
    {
     "data": {
      "text/plain": [
       "[(2, 1), (3, 3), (11, 2), (13, 1)]"
      ]
     },
     "execution_count": 18,
     "metadata": {},
     "output_type": "execute_result"
    }
   ],
   "source": [
    "dumb_factor(2*3*3*3*11*11*13,primeset)"
   ]
  },
  {
   "cell_type": "code",
   "execution_count": 19,
   "metadata": {
    "collapsed": false,
    "deletable": true,
    "editable": true
   },
   "outputs": [
    {
     "data": {
      "text/plain": [
       "[]"
      ]
     },
     "execution_count": 19,
     "metadata": {},
     "output_type": "execute_result"
    }
   ],
   "source": [
    "dumb_factor(2*17,primeset)"
   ]
  },
  {
   "cell_type": "code",
   "execution_count": 20,
   "metadata": {
    "collapsed": false,
    "deletable": true,
    "editable": true
   },
   "outputs": [
    {
     "data": {
      "text/plain": [
       "[]"
      ]
     },
     "execution_count": 20,
     "metadata": {},
     "output_type": "execute_result"
    }
   ],
   "source": [
    "dumb_factor(2*3*5*7*19,primeset)"
   ]
  },
  {
   "cell_type": "code",
   "execution_count": 21,
   "metadata": {
    "collapsed": true,
    "deletable": true,
    "editable": true
   },
   "outputs": [],
   "source": [
    "def int2GF2(i):\n",
    "    if i%2 == 0:\n",
    "        return sc.GF2(0)\n",
    "    else:\n",
    "        return sc.GF2(1)"
   ]
  },
  {
   "cell_type": "code",
   "execution_count": 22,
   "metadata": {
    "collapsed": false,
    "deletable": true,
    "editable": true
   },
   "outputs": [
    {
     "data": {
      "text/plain": [
       "GF2(1)"
      ]
     },
     "execution_count": 22,
     "metadata": {},
     "output_type": "execute_result"
    }
   ],
   "source": [
    "int2GF2(3)"
   ]
  },
  {
   "cell_type": "code",
   "execution_count": 23,
   "metadata": {
    "collapsed": false,
    "deletable": true,
    "editable": true
   },
   "outputs": [
    {
     "data": {
      "text/plain": [
       "GF2(0)"
      ]
     },
     "execution_count": 23,
     "metadata": {},
     "output_type": "execute_result"
    }
   ],
   "source": [
    "int2GF2(4)"
   ]
  },
  {
   "cell_type": "code",
   "execution_count": 24,
   "metadata": {
    "collapsed": true,
    "deletable": true,
    "editable": true
   },
   "outputs": [],
   "source": [
    "def make_Vec(primeset, factors):\n",
    "    primeset_list = list(primeset)\n",
    "    vec = np.zeros(len(primeset_list))\n",
    "    for p, e in factors:\n",
    "        idx = primeset_list.index(p)\n",
    "        vec[idx] = int2GF2(e)\n",
    "    return (primeset_list, sc.GF2Utils.getVector(vec))\n",
    "        "
   ]
  },
  {
   "cell_type": "code",
   "execution_count": 25,
   "metadata": {
    "collapsed": false,
    "deletable": true,
    "editable": true
   },
   "outputs": [
    {
     "data": {
      "text/plain": [
       "([2, 3, 5, 7, 11],\n",
       " array([GF2(0), GF2(1), GF2(0), GF2(0), GF2(0)], dtype=object))"
      ]
     },
     "execution_count": 25,
     "metadata": {},
     "output_type": "execute_result"
    }
   ],
   "source": [
    "make_Vec({2,3,5,7,11}, [(3,1)])"
   ]
  },
  {
   "cell_type": "code",
   "execution_count": 26,
   "metadata": {
    "collapsed": false,
    "deletable": true,
    "editable": true
   },
   "outputs": [
    {
     "data": {
      "text/plain": [
       "([2, 3, 5, 7, 11],\n",
       " array([GF2(1), GF2(0), GF2(1), GF2(0), GF2(1)], dtype=object))"
      ]
     },
     "execution_count": 26,
     "metadata": {},
     "output_type": "execute_result"
    }
   ],
   "source": [
    "make_Vec({2,3,5,7,11}, [(2,17), (3,0), (5,1), (11,3)])"
   ]
  },
  {
   "cell_type": "code",
   "execution_count": 27,
   "metadata": {
    "collapsed": true,
    "deletable": true,
    "editable": true
   },
   "outputs": [],
   "source": [
    "def find_candidates(N, primeset):\n",
    "    roots = []\n",
    "    rowlist = []\n",
    "    \n",
    "    x = intsqrt(N) + 1\n",
    "    \n",
    "#     print(primeset)\n",
    "    while len(primeset) + 1 != len(roots):\n",
    "        x += 1\n",
    "        b2 = x ** 2 - N\n",
    "        \n",
    "        factor = dumb_factor(b2, primeset)\n",
    "        \n",
    "        if len(factor) == 0:\n",
    "            continue\n",
    "        \n",
    "        roots.append(x)\n",
    "        rowlist.append(make_Vec(primeset, factor))\n",
    "    return roots, rowlist"
   ]
  },
  {
   "cell_type": "code",
   "execution_count": 28,
   "metadata": {
    "collapsed": true,
    "deletable": true,
    "editable": true
   },
   "outputs": [],
   "source": [
    "N = 2419"
   ]
  },
  {
   "cell_type": "code",
   "execution_count": 29,
   "metadata": {
    "collapsed": false,
    "deletable": true,
    "editable": true
   },
   "outputs": [
    {
     "name": "stdout",
     "output_type": "stream",
     "text": [
      "[51, 52, 53, 58, 61, 62, 63, 67, 68, 71, 77, 79] [([2, 3, 5, 7, 11, 13, 17, 19, 23, 29, 31], array([GF2(1), GF2(0), GF2(0), GF2(1), GF2(0), GF2(1), GF2(0), GF2(0),\n",
      "       GF2(0), GF2(0), GF2(0)], dtype=object)), ([2, 3, 5, 7, 11, 13, 17, 19, 23, 29, 31], array([GF2(0), GF2(1), GF2(1), GF2(0), GF2(0), GF2(0), GF2(0), GF2(1),\n",
      "       GF2(0), GF2(0), GF2(0)], dtype=object)), ([2, 3, 5, 7, 11, 13, 17, 19, 23, 29, 31], array([GF2(1), GF2(1), GF2(1), GF2(0), GF2(0), GF2(1), GF2(0), GF2(0),\n",
      "       GF2(0), GF2(0), GF2(0)], dtype=object)), ([2, 3, 5, 7, 11, 13, 17, 19, 23, 29, 31], array([GF2(0), GF2(1), GF2(1), GF2(1), GF2(0), GF2(0), GF2(0), GF2(0),\n",
      "       GF2(0), GF2(0), GF2(0)], dtype=object)), ([2, 3, 5, 7, 11, 13, 17, 19, 23, 29, 31], array([GF2(1), GF2(1), GF2(0), GF2(1), GF2(0), GF2(0), GF2(0), GF2(0),\n",
      "       GF2(0), GF2(0), GF2(1)], dtype=object)), ([2, 3, 5, 7, 11, 13, 17, 19, 23, 29, 31], array([GF2(0), GF2(1), GF2(0), GF2(0), GF2(0), GF2(0), GF2(0), GF2(1),\n",
      "       GF2(0), GF2(0), GF2(0)], dtype=object)), ([2, 3, 5, 7, 11, 13, 17, 19, 23, 29, 31], array([GF2(1), GF2(0), GF2(0), GF2(0), GF2(0), GF2(0), GF2(0), GF2(0),\n",
      "       GF2(0), GF2(0), GF2(1)], dtype=object)), ([2, 3, 5, 7, 11, 13, 17, 19, 23, 29, 31], array([GF2(1), GF2(0), GF2(1), GF2(0), GF2(0), GF2(0), GF2(0), GF2(0),\n",
      "       GF2(1), GF2(0), GF2(0)], dtype=object)), ([2, 3, 5, 7, 11, 13, 17, 19, 23, 29, 31], array([GF2(0), GF2(0), GF2(1), GF2(0), GF2(0), GF2(0), GF2(0), GF2(0),\n",
      "       GF2(0), GF2(0), GF2(0)], dtype=object)), ([2, 3, 5, 7, 11, 13, 17, 19, 23, 29, 31], array([GF2(1), GF2(1), GF2(0), GF2(0), GF2(0), GF2(0), GF2(0), GF2(1),\n",
      "       GF2(1), GF2(0), GF2(0)], dtype=object)), ([2, 3, 5, 7, 11, 13, 17, 19, 23, 29, 31], array([GF2(1), GF2(1), GF2(1), GF2(0), GF2(0), GF2(1), GF2(0), GF2(0),\n",
      "       GF2(0), GF2(0), GF2(0)], dtype=object)), ([2, 3, 5, 7, 11, 13, 17, 19, 23, 29, 31], array([GF2(1), GF2(1), GF2(0), GF2(0), GF2(0), GF2(1), GF2(0), GF2(0),\n",
      "       GF2(0), GF2(0), GF2(0)], dtype=object))]\n"
     ]
    }
   ],
   "source": [
    "roots, rowlist = find_candidates(N, primes(32))\n",
    "print(roots, rowlist)"
   ]
  },
  {
   "cell_type": "code",
   "execution_count": 30,
   "metadata": {
    "collapsed": true,
    "deletable": true,
    "editable": true
   },
   "outputs": [],
   "source": [
    "a = 53 * 77\n",
    "b = 2 * 3**2 * 5 * 13"
   ]
  },
  {
   "cell_type": "code",
   "execution_count": 31,
   "metadata": {
    "collapsed": false,
    "deletable": true,
    "editable": true
   },
   "outputs": [
    {
     "data": {
      "text/plain": [
       "41"
      ]
     },
     "execution_count": 31,
     "metadata": {},
     "output_type": "execute_result"
    }
   ],
   "source": [
    "gcd(a-b, N)"
   ]
  },
  {
   "cell_type": "code",
   "execution_count": 32,
   "metadata": {
    "collapsed": true,
    "deletable": true,
    "editable": true
   },
   "outputs": [],
   "source": [
    "a = 52 * 67 * 71\n",
    "b = 2 * 3**2 * 5 * 19 * 23"
   ]
  },
  {
   "cell_type": "code",
   "execution_count": 33,
   "metadata": {
    "collapsed": false,
    "deletable": true,
    "editable": true
   },
   "outputs": [
    {
     "data": {
      "text/plain": [
       "2419"
      ]
     },
     "execution_count": 33,
     "metadata": {},
     "output_type": "execute_result"
    }
   ],
   "source": [
    "gcd(a-b, N)"
   ]
  },
  {
   "cell_type": "code",
   "execution_count": 145,
   "metadata": {
    "collapsed": false,
    "deletable": true,
    "editable": true
   },
   "outputs": [],
   "source": [
    "def generate_echelon_form_for_gf2(M):\n",
    "    m = sc.GF2Utils.getVector(M)\n",
    "    row, col = m.shape\n",
    "    \n",
    "    i = sc.GF2Utils.getVector(np.identity(row))\n",
    "    \n",
    "    new_rowlist = []\n",
    "    new_m_rowlist = []\n",
    "    rows_left = set(range(row))\n",
    "    \n",
    "    for c in range(col):\n",
    "        rows_with_nonzero = [r for r in rows_left if m[r][c] == sc.GF2(1)]\n",
    "        \n",
    "        if rows_with_nonzero != []:\n",
    "            pivot = rows_with_nonzero[0]\n",
    "            \n",
    "            new_rowlist.append(m[pivot])\n",
    "            rows_left.remove(pivot)\n",
    "            new_m_rowlist.append(i[pivot])\n",
    "            \n",
    "            for r in rows_with_nonzero[1:]:\n",
    "                m[r] -= m[pivot]\n",
    "                i[r] -= i[pivot]\n",
    "                \n",
    "    for r in rows_left:\n",
    "        new_rowlist.append(m[r])\n",
    "        \n",
    "    for r in rows_left:\n",
    "        new_m_rowlist.append(i[r])\n",
    "    \n",
    "    return new_rowlist, new_m_rowlist"
   ]
  },
  {
   "cell_type": "code",
   "execution_count": 146,
   "metadata": {
    "collapsed": false,
    "deletable": true,
    "editable": true
   },
   "outputs": [
    {
     "name": "stdout",
     "output_type": "stream",
     "text": [
      "[array([GF2(1), GF2(0), GF2(0), GF2(1), GF2(0), GF2(1), GF2(0), GF2(0),\n",
      "       GF2(0), GF2(0), GF2(0)], dtype=object), array([GF2(0), GF2(1), GF2(1), GF2(0), GF2(0), GF2(0), GF2(0), GF2(1),\n",
      "       GF2(0), GF2(0), GF2(0)], dtype=object), array([GF2(1), GF2(1), GF2(1), GF2(0), GF2(0), GF2(1), GF2(0), GF2(0),\n",
      "       GF2(0), GF2(0), GF2(0)], dtype=object), array([GF2(0), GF2(1), GF2(1), GF2(1), GF2(0), GF2(0), GF2(0), GF2(0),\n",
      "       GF2(0), GF2(0), GF2(0)], dtype=object), array([GF2(1), GF2(1), GF2(0), GF2(1), GF2(0), GF2(0), GF2(0), GF2(0),\n",
      "       GF2(0), GF2(0), GF2(1)], dtype=object), array([GF2(0), GF2(1), GF2(0), GF2(0), GF2(0), GF2(0), GF2(0), GF2(1),\n",
      "       GF2(0), GF2(0), GF2(0)], dtype=object), array([GF2(1), GF2(0), GF2(0), GF2(0), GF2(0), GF2(0), GF2(0), GF2(0),\n",
      "       GF2(0), GF2(0), GF2(1)], dtype=object), array([GF2(1), GF2(0), GF2(1), GF2(0), GF2(0), GF2(0), GF2(0), GF2(0),\n",
      "       GF2(1), GF2(0), GF2(0)], dtype=object), array([GF2(0), GF2(0), GF2(1), GF2(0), GF2(0), GF2(0), GF2(0), GF2(0),\n",
      "       GF2(0), GF2(0), GF2(0)], dtype=object), array([GF2(1), GF2(1), GF2(0), GF2(0), GF2(0), GF2(0), GF2(0), GF2(1),\n",
      "       GF2(1), GF2(0), GF2(0)], dtype=object), array([GF2(1), GF2(1), GF2(1), GF2(0), GF2(0), GF2(1), GF2(0), GF2(0),\n",
      "       GF2(0), GF2(0), GF2(0)], dtype=object), array([GF2(1), GF2(1), GF2(0), GF2(0), GF2(0), GF2(1), GF2(0), GF2(0),\n",
      "       GF2(0), GF2(0), GF2(0)], dtype=object)]\n"
     ]
    }
   ],
   "source": [
    "rl = []\n",
    "factor = rowlist[0][0]\n",
    "for factors, row in rowlist:\n",
    "    rl.append(row)\n",
    "print(rl)"
   ]
  },
  {
   "cell_type": "code",
   "execution_count": 147,
   "metadata": {
    "collapsed": false
   },
   "outputs": [
    {
     "name": "stdout",
     "output_type": "stream",
     "text": [
      "    2 3 5 711131719232931\n",
      " 0  1 0 0 1 0 1 0 0 0 0 0 \n",
      " 1  0 1 1 0 0 0 0 1 0 0 0 \n",
      " 2  1 1 1 0 0 1 0 0 0 0 0 \n",
      " 3  0 1 1 1 0 0 0 0 0 0 0 \n",
      " 4  1 1 0 1 0 0 0 0 0 0 1 \n",
      " 5  0 1 0 0 0 0 0 1 0 0 0 \n",
      " 6  1 0 0 0 0 0 0 0 0 0 1 \n",
      " 7  1 0 1 0 0 0 0 0 1 0 0 \n",
      " 8  0 0 1 0 0 0 0 0 0 0 0 \n",
      " 9  1 1 0 0 0 0 0 1 1 0 0 \n",
      "10  1 1 1 0 0 1 0 0 0 0 0 \n",
      "11  1 1 0 0 0 1 0 0 0 0 0 \n"
     ]
    }
   ],
   "source": [
    "print('   ', end='')\n",
    "for fac in factor:\n",
    "    print('%2d' % fac, end='')\n",
    "print('')\n",
    "\n",
    "for idx, row in enumerate(rl):\n",
    "    print('%2d' % idx, end='  ')\n",
    "    for col in row:\n",
    "        print(0 if col == sc.GF2(0) else 1, end=' ')\n",
    "    print('')"
   ]
  },
  {
   "cell_type": "code",
   "execution_count": 148,
   "metadata": {
    "collapsed": false,
    "deletable": true,
    "editable": true
   },
   "outputs": [],
   "source": [
    "m, i = generate_echelon_form_for_gf2(rl)"
   ]
  },
  {
   "cell_type": "code",
   "execution_count": 149,
   "metadata": {
    "collapsed": false,
    "deletable": true,
    "editable": true
   },
   "outputs": [
    {
     "name": "stdout",
     "output_type": "stream",
     "text": [
      "    2 3 5 711131719232931\n",
      " 0  1 0 0 1 0 1 0 0 0 0 0 \n",
      " 1  0 1 1 0 0 0 0 1 0 0 0 \n",
      " 2  0 0 1 0 0 1 0 1 0 0 1 \n",
      " 3  0 0 0 1 0 0 0 1 0 0 0 \n",
      " 4  0 0 0 0 0 1 0 1 0 0 1 \n",
      " 5  0 0 0 0 0 0 0 0 1 0 1 \n",
      " 6  0 0 0 0 0 0 0 0 0 0 0 \n",
      " 7  0 0 0 0 0 0 0 0 0 0 0 \n",
      " 8  0 0 0 0 0 0 0 0 0 0 0 \n",
      " 9  0 0 0 0 0 0 0 0 0 0 0 \n",
      "10  0 0 0 0 0 0 0 0 0 0 0 \n",
      "11  0 0 0 0 0 0 0 0 0 0 0 \n"
     ]
    }
   ],
   "source": [
    "print('   ', end='')\n",
    "for fac in factor:\n",
    "    print('%2d' % fac, end='')\n",
    "print('')\n",
    "for idx, row in enumerate(m):\n",
    "    print('%2d' % idx, end='  ')\n",
    "    for col in row:\n",
    "        print(0 if col == sc.GF2(0) else 1, end=' ')\n",
    "    print('')"
   ]
  },
  {
   "cell_type": "code",
   "execution_count": 154,
   "metadata": {
    "collapsed": false,
    "deletable": true,
    "editable": true
   },
   "outputs": [
    {
     "name": "stdout",
     "output_type": "stream",
     "text": [
      "    0 1 2 3 4 5 6 7 8 91011\n",
      " 0  1 0 0 0 0 0 0 0 0 0 0 0 \n",
      " 1  0 1 0 0 0 0 0 0 0 0 0 0 \n",
      " 2  1 1 0 0 1 0 0 0 0 0 0 0 \n",
      " 3  1 1 1 0 0 0 0 0 0 0 0 0 \n",
      " 4  1 0 0 0 1 1 0 0 0 0 0 0 \n",
      " 5  1 0 1 0 1 0 0 1 0 0 0 0 \n",
      " 6  1 0 1 1 0 0 0 0 0 0 0 0 \n",
      " 7  1 1 1 0 1 1 1 0 0 0 0 0 \n",
      " 8  0 1 0 0 0 1 0 0 1 0 0 0 \n",
      " 9  0 1 0 0 0 0 0 1 0 1 0 0 \n",
      "10  0 0 1 0 0 0 0 0 0 0 1 0 \n",
      "11  0 1 1 0 0 1 0 0 0 0 0 1 \n"
     ]
    }
   ],
   "source": [
    "print('   ', end='')\n",
    "for col in range(0, len(row)):\n",
    "    print('%2d' % col, end='')\n",
    "print('')\n",
    "for idx, row in enumerate(i):\n",
    "    print('%2d' % idx, end='  ')\n",
    "    for col in row:\n",
    "        print(0 if col == sc.GF2(0) else 1, end=' ')\n",
    "    print('')"
   ]
  },
  {
   "cell_type": "code",
   "execution_count": 155,
   "metadata": {
    "collapsed": false,
    "deletable": true,
    "editable": true
   },
   "outputs": [
    {
     "name": "stdout",
     "output_type": "stream",
     "text": [
      "    0 1 2 3 4 5 6 7 8 91011\n",
      " 0  1 1 0 0 1 0 0 0 0 0 0 0 \n",
      " 1  0 0 1 0 0 0 0 0 0 0 1 0 \n"
     ]
    }
   ],
   "source": [
    "print('   ', end='')\n",
    "for col in range(0, len(row)):\n",
    "    print('%2d' % col, end='')\n",
    "print('')\n",
    "for idx, row in enumerate([i[2], i[10]]):\n",
    "    print('%2d' % idx, end='  ')\n",
    "    for col in row:\n",
    "        print(0 if col == sc.GF2(0) else 1, end=' ')\n",
    "    print('')"
   ]
  },
  {
   "cell_type": "code",
   "execution_count": 175,
   "metadata": {
    "collapsed": true
   },
   "outputs": [],
   "source": [
    "def find_a_and_b(v, roots, N):\n",
    "    alist = [ roots[k] for k, v in enumerate(v) if v != sc.GF2(0)]\n",
    "    a = prod(alist)\n",
    "    c = prod({x**2 - N for x in alist})\n",
    "    b = intsqrt(c)\n",
    "    return a, b"
   ]
  },
  {
   "cell_type": "code",
   "execution_count": 176,
   "metadata": {
    "collapsed": false
   },
   "outputs": [
    {
     "data": {
      "text/plain": [
       "(4081, 1170)"
      ]
     },
     "execution_count": 176,
     "metadata": {},
     "output_type": "execute_result"
    }
   ],
   "source": [
    "find_a_and_b(i[10], roots, N)"
   ]
  },
  {
   "cell_type": "code",
   "execution_count": 170,
   "metadata": {
    "collapsed": false
   },
   "outputs": [
    {
     "name": "stdout",
     "output_type": "stream",
     "text": [
      "4081 1170\n"
     ]
    }
   ],
   "source": [
    "print(53 * 77,2 * 3**2 * 5*13)"
   ]
  }
 ],
 "metadata": {
  "kernelspec": {
   "display_name": "Python 3",
   "language": "python",
   "name": "python3"
  },
  "language_info": {
   "codemirror_mode": {
    "name": "ipython",
    "version": 3
   },
   "file_extension": ".py",
   "mimetype": "text/x-python",
   "name": "python",
   "nbconvert_exporter": "python",
   "pygments_lexer": "ipython3",
   "version": "3.6.0"
  }
 },
 "nbformat": 4,
 "nbformat_minor": 2
}
