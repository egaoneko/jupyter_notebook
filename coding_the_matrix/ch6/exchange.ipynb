{
 "cells": [
  {
   "cell_type": "code",
   "execution_count": 1,
   "metadata": {
    "collapsed": true,
    "deletable": true,
    "editable": true
   },
   "outputs": [],
   "source": [
    "import source as sc"
   ]
  },
  {
   "cell_type": "code",
   "execution_count": 2,
   "metadata": {
    "collapsed": true,
    "deletable": true,
    "editable": true
   },
   "outputs": [],
   "source": [
    "def convertListInList2TupleInSet(l) :\n",
    "    s = set()\n",
    "    \n",
    "    for item in l:\n",
    "        s.add(tuple(item))\n",
    "        \n",
    "    return s\n",
    "\n",
    "def exchange(S, A, z):\n",
    "    w = []\n",
    "    \n",
    "    S_set = convertListInList2TupleInSet(S)\n",
    "    A_set = convertListInList2TupleInSet(A)\n",
    "    S_int_A = list(A_set)\n",
    "    S_sub_A = list(S_set - A_set)\n",
    "    S_uni_Z = S_int_A + [tuple(z)] + S_sub_A\n",
    "    prev_idx = len(S_uni_Z) - len(S_sub_A)\n",
    "    print(\"S union z: \", S_uni_Z)\n",
    "    print(\"S sub z: \", S_sub_A)\n",
    "    \n",
    "    for i, v in enumerate(S_sub_A):\n",
    "        idx = prev_idx + i\n",
    "        print(\"w: \", S_uni_Z[idx], sc.is_superfluous(S_uni_Z, idx))\n",
    "        if sc.is_superfluous(S_uni_Z, idx):\n",
    "            w.append(S_uni_Z[idx])\n",
    "    return w\n",
    "\n",
    "def exchange_another(S, A, z):\n",
    "    n_S = S[:]\n",
    "    n_S.append(z)\n",
    "    \n",
    "    print(\"S union z: \", n_S)\n",
    "    \n",
    "    for i in range(len(n_S)):            \n",
    "        if sc.is_superfluous(n_S, i) and n_S[i] not in A and n_S[i] != z:\n",
    "            print(\"w: \", n_S[i])\n",
    "            return n_S[i]"
   ]
  },
  {
   "cell_type": "code",
   "execution_count": 3,
   "metadata": {
    "collapsed": true
   },
   "outputs": [],
   "source": [
    "S = [[0,0,5,3],[2,0,1,3],[0,0,1,0],[1,2,3,4]]\n",
    "A = [[0,0,5,3],[2,0,1,3]]\n",
    "z = [0,2,1,1]"
   ]
  },
  {
   "cell_type": "code",
   "execution_count": 4,
   "metadata": {
    "collapsed": false
   },
   "outputs": [
    {
     "name": "stdout",
     "output_type": "stream",
     "text": [
      "S union z:  [(0, 0, 5, 3), (2, 0, 1, 3), (0, 2, 1, 1), (1, 2, 3, 4), (0, 0, 1, 0)]\n",
      "S sub z:  [(1, 2, 3, 4), (0, 0, 1, 0)]\n",
      "w:  (1, 2, 3, 4) True\n",
      "w:  (0, 0, 1, 0) True\n",
      "[(1, 2, 3, 4), (0, 0, 1, 0)]\n"
     ]
    }
   ],
   "source": [
    "print(exchange(S, A, z))"
   ]
  },
  {
   "cell_type": "code",
   "execution_count": 5,
   "metadata": {
    "collapsed": false
   },
   "outputs": [
    {
     "name": "stdout",
     "output_type": "stream",
     "text": [
      "S union z:  [[0, 0, 5, 3], [2, 0, 1, 3], [0, 0, 1, 0], [1, 2, 3, 4], [0, 2, 1, 1]]\n",
      "w:  [0, 0, 1, 0]\n",
      "[0, 0, 1, 0]\n"
     ]
    }
   ],
   "source": [
    "print(exchange_another(S, A, z))"
   ]
  },
  {
   "cell_type": "code",
   "execution_count": 6,
   "metadata": {
    "collapsed": true
   },
   "outputs": [],
   "source": [
    "S = [[1,0,0,0,0],[0,1,0,0,0],[0,0,1,0,0],[0,0,0,1,0],[0,0,0,0,1]]\n",
    "A = [[1,0,0,0,0],[0,1,0,0,0]]\n",
    "z = [0,0,1,0,1]"
   ]
  },
  {
   "cell_type": "code",
   "execution_count": 7,
   "metadata": {
    "collapsed": false
   },
   "outputs": [
    {
     "name": "stdout",
     "output_type": "stream",
     "text": [
      "S union z:  [(0, 1, 0, 0, 0), (1, 0, 0, 0, 0), (0, 0, 1, 0, 1), (0, 0, 1, 0, 0), (0, 0, 0, 0, 1), (0, 0, 0, 1, 0)]\n",
      "S sub z:  [(0, 0, 1, 0, 0), (0, 0, 0, 0, 1), (0, 0, 0, 1, 0)]\n",
      "w:  (0, 0, 1, 0, 0) True\n",
      "w:  (0, 0, 0, 0, 1) True\n",
      "w:  (0, 0, 0, 1, 0) False\n",
      "[(0, 0, 1, 0, 0), (0, 0, 0, 0, 1)]\n"
     ]
    }
   ],
   "source": [
    "print(exchange(S, A, z))"
   ]
  },
  {
   "cell_type": "code",
   "execution_count": 8,
   "metadata": {
    "collapsed": false
   },
   "outputs": [
    {
     "name": "stdout",
     "output_type": "stream",
     "text": [
      "S union z:  [[1, 0, 0, 0, 0], [0, 1, 0, 0, 0], [0, 0, 1, 0, 0], [0, 0, 0, 1, 0], [0, 0, 0, 0, 1], [0, 0, 1, 0, 1]]\n",
      "w:  [0, 0, 1, 0, 0]\n",
      "[0, 0, 1, 0, 0]\n"
     ]
    }
   ],
   "source": [
    "print(exchange_another(S, A, z))"
   ]
  },
  {
   "cell_type": "code",
   "execution_count": 9,
   "metadata": {
    "collapsed": false
   },
   "outputs": [
    {
     "name": "stdout",
     "output_type": "stream",
     "text": [
      "w : True [0, 0, 5, 3]\n",
      "w : True [2, 0, 1, 3]\n",
      "w : True [0, 0, 1, 0]\n",
      "w : True [1, 2, 3, 4]\n",
      "w : True [0, 2, 1, 1]\n"
     ]
    }
   ],
   "source": [
    "S_union_z = [[0,0,5,3],[2,0,1,3],[0,0,1,0],[1,2,3,4],[0,2,1,1]]\n",
    "\n",
    "for i, v in enumerate(S_union_z):\n",
    "    print(\"w :\", sc.is_superfluous(S_union_z,i), v)"
   ]
  },
  {
   "cell_type": "code",
   "execution_count": 10,
   "metadata": {
    "collapsed": false
   },
   "outputs": [
    {
     "name": "stdout",
     "output_type": "stream",
     "text": [
      "w : True [0, 0, 5, 3]\n",
      "w : True [2, 0, 1, 3]\n",
      "w : True [0, 2, 1, 1]\n",
      "w : True [0, 0, 1, 0]\n",
      "w : True [1, 2, 3, 4]\n"
     ]
    }
   ],
   "source": [
    "S_union_z = [[0,0,5,3],[2,0,1,3],[0,2,1,1],[0,0,1,0],[1,2,3,4]]\n",
    "\n",
    "for i, v in enumerate(S_union_z):\n",
    "    print(\"w :\", sc.is_superfluous(S_union_z,i), v)"
   ]
  },
  {
   "cell_type": "code",
   "execution_count": 11,
   "metadata": {
    "collapsed": false
   },
   "outputs": [
    {
     "name": "stdout",
     "output_type": "stream",
     "text": [
      "w : True [0, 0, 5, 3]\n",
      "w : True [2, 0, 1, 3]\n",
      "w : True [0, 2, 1, 1]\n",
      "w : True [1, 2, 3, 4]\n",
      "w : True [0, 0, 1, 0]\n"
     ]
    }
   ],
   "source": [
    "S_union_z = [[0,0,5,3],[2,0,1,3],[0,2,1,1],[1,2,3,4],[0,0,1,0]]\n",
    "\n",
    "for i, v in enumerate(S_union_z):\n",
    "    print(\"w :\", sc.is_superfluous(S_union_z,i), v)"
   ]
  },
  {
   "cell_type": "code",
   "execution_count": null,
   "metadata": {
    "collapsed": true
   },
   "outputs": [],
   "source": []
  }
 ],
 "metadata": {
  "kernelspec": {
   "display_name": "Python 3",
   "language": "python",
   "name": "python3"
  },
  "language_info": {
   "codemirror_mode": {
    "name": "ipython",
    "version": 3
   },
   "file_extension": ".py",
   "mimetype": "text/x-python",
   "name": "python",
   "nbconvert_exporter": "python",
   "pygments_lexer": "ipython3",
   "version": "3.6.0"
  }
 },
 "nbformat": 4,
 "nbformat_minor": 2
}
