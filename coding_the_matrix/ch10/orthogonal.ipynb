{
 "cells": [
  {
   "cell_type": "code",
   "execution_count": 1,
   "metadata": {
    "collapsed": true,
    "deletable": true,
    "editable": true
   },
   "outputs": [],
   "source": [
    "import numpy as np"
   ]
  },
  {
   "cell_type": "code",
   "execution_count": 2,
   "metadata": {
    "collapsed": true,
    "deletable": true,
    "editable": true
   },
   "outputs": [],
   "source": [
    "def project_along(b, v):\n",
    "    b_vec = np.array(b, dtype=np.float64)\n",
    "    v_vec = np.array(v, dtype=np.float64)\n",
    "    sigma = (np.dot(b,v)/np.dot(v,v)) if np.dot(v,v) > 1e-20 else 0\n",
    "    return sigma * v_vec"
   ]
  },
  {
   "cell_type": "code",
   "execution_count": 3,
   "metadata": {
    "collapsed": true,
    "deletable": true,
    "editable": true
   },
   "outputs": [],
   "source": [
    "b = [1,2,2]\n",
    "v1 = [1,2,1]\n",
    "v2 = [-1,0,1]\n",
    "vlist = [v1, v2]"
   ]
  },
  {
   "cell_type": "code",
   "execution_count": 4,
   "metadata": {
    "collapsed": false,
    "deletable": true,
    "editable": true
   },
   "outputs": [
    {
     "data": {
      "text/plain": [
       "array([ 1.16666667,  2.33333333,  1.16666667])"
      ]
     },
     "execution_count": 4,
     "metadata": {},
     "output_type": "execute_result"
    }
   ],
   "source": [
    "project_along(b, v1)"
   ]
  },
  {
   "cell_type": "code",
   "execution_count": 5,
   "metadata": {
    "collapsed": true,
    "deletable": true,
    "editable": true
   },
   "outputs": [],
   "source": [
    "def project_orthogonal(b, vlist):\n",
    "    for v in vlist:\n",
    "        b = b - project_along(b, v)\n",
    "    return np.array(b)"
   ]
  },
  {
   "cell_type": "code",
   "execution_count": 6,
   "metadata": {
    "collapsed": false,
    "deletable": true,
    "editable": true
   },
   "outputs": [
    {
     "data": {
      "text/plain": [
       "array([ 0.33333333, -0.33333333,  0.33333333])"
      ]
     },
     "execution_count": 6,
     "metadata": {},
     "output_type": "execute_result"
    }
   ],
   "source": [
    "project_orthogonal(b, vlist)"
   ]
  },
  {
   "cell_type": "code",
   "execution_count": 7,
   "metadata": {
    "collapsed": false,
    "deletable": true,
    "editable": true
   },
   "outputs": [],
   "source": [
    "def aug_project_othogonal(b, vlist):\n",
    "#     sigmadict = {len(vlist) : 1} # bk => k:1\n",
    "    sigma_vec = [1 if i == len(vlist) else 0 for i in range(len(vlist) + 1)]\n",
    "    b_vec = np.array(b, dtype=np.float64)\n",
    "    \n",
    "    for i,v in enumerate(vlist):\n",
    "        v_vec = np.array(v, dtype=np.float64)\n",
    "        sigma = (np.dot(b,v)/np.dot(v,v)) if np.dot(v,v) > 1e-20 else 0\n",
    "#         sigmadict[i] = sigma\n",
    "        sigma_vec[i] = sigma\n",
    "        b_vec = b_vec - sigma * v_vec\n",
    "    return (b_vec, sigma_vec)"
   ]
  },
  {
   "cell_type": "code",
   "execution_count": 8,
   "metadata": {
    "collapsed": false,
    "deletable": true,
    "editable": true
   },
   "outputs": [
    {
     "data": {
      "text/plain": [
       "(array([ 0.33333333, -0.33333333,  0.33333333]), [1.1666666666666667, 0.5, 1])"
      ]
     },
     "execution_count": 8,
     "metadata": {},
     "output_type": "execute_result"
    }
   ],
   "source": [
    "aug_project_othogonal(b, vlist)"
   ]
  },
  {
   "cell_type": "code",
   "execution_count": 9,
   "metadata": {
    "collapsed": true,
    "deletable": true,
    "editable": true
   },
   "outputs": [],
   "source": [
    "def orthogonalize(vlist):\n",
    "    vstarlist = []\n",
    "    for v in vlist:\n",
    "        vstarlist.append(project_orthogonal(v, vstarlist))\n",
    "    return vstarlist"
   ]
  },
  {
   "cell_type": "code",
   "execution_count": 10,
   "metadata": {
    "collapsed": true,
    "deletable": true,
    "editable": true
   },
   "outputs": [],
   "source": [
    "vlist = [[2,0,0], [1,2,2], [1,0,2]]"
   ]
  },
  {
   "cell_type": "code",
   "execution_count": 11,
   "metadata": {
    "collapsed": false,
    "deletable": true,
    "editable": true
   },
   "outputs": [
    {
     "data": {
      "text/plain": [
       "[array([2, 0, 0]), array([ 0.,  2.,  2.]), array([ 0., -1.,  1.])]"
      ]
     },
     "execution_count": 11,
     "metadata": {},
     "output_type": "execute_result"
    }
   ],
   "source": [
    "orthogonalize(vlist)"
   ]
  },
  {
   "cell_type": "code",
   "execution_count": 12,
   "metadata": {
    "collapsed": true,
    "deletable": true,
    "editable": true
   },
   "outputs": [],
   "source": [
    "vlist = [[1,0,2], [1,0,2], [2,0,0]]"
   ]
  },
  {
   "cell_type": "code",
   "execution_count": 13,
   "metadata": {
    "collapsed": false,
    "deletable": true,
    "editable": true
   },
   "outputs": [
    {
     "data": {
      "text/plain": [
       "[array([1, 0, 2]), array([ 0.,  0.,  0.]), array([ 1.6,  0. , -0.8])]"
      ]
     },
     "execution_count": 13,
     "metadata": {},
     "output_type": "execute_result"
    }
   ],
   "source": [
    "orthogonalize(vlist)"
   ]
  },
  {
   "cell_type": "code",
   "execution_count": 14,
   "metadata": {
    "collapsed": true,
    "deletable": true,
    "editable": true
   },
   "outputs": [],
   "source": [
    "vlist = [[2,0,0], [1,2,2], [1,0,2]]"
   ]
  },
  {
   "cell_type": "code",
   "execution_count": 15,
   "metadata": {
    "collapsed": false,
    "deletable": true,
    "editable": true
   },
   "outputs": [
    {
     "data": {
      "text/plain": [
       "[array([2, 0, 0]), array([ 0.,  2.,  2.]), array([ 0., -1.,  1.])]"
      ]
     },
     "execution_count": 15,
     "metadata": {},
     "output_type": "execute_result"
    }
   ],
   "source": [
    "orthogonalize(vlist)"
   ]
  },
  {
   "cell_type": "code",
   "execution_count": 16,
   "metadata": {
    "collapsed": true,
    "deletable": true,
    "editable": true
   },
   "outputs": [],
   "source": [
    "# method 1\n",
    "vlist = [[8,-2,2], [4,2,4]]\n",
    "b = [5,-5,2]"
   ]
  },
  {
   "cell_type": "code",
   "execution_count": 17,
   "metadata": {
    "collapsed": false,
    "deletable": true,
    "editable": true
   },
   "outputs": [
    {
     "data": {
      "text/plain": [
       "[array([ 8, -2,  2]), array([ 0.,  3.,  3.])]"
      ]
     },
     "execution_count": 17,
     "metadata": {},
     "output_type": "execute_result"
    }
   ],
   "source": [
    "orthogonalize(vlist)"
   ]
  },
  {
   "cell_type": "code",
   "execution_count": 18,
   "metadata": {
    "collapsed": false,
    "deletable": true,
    "editable": true
   },
   "outputs": [
    {
     "data": {
      "text/plain": [
       "array([-1., -2.,  2.])"
      ]
     },
     "execution_count": 18,
     "metadata": {},
     "output_type": "execute_result"
    }
   ],
   "source": [
    "project_orthogonal(b, orthogonalize(vlist))"
   ]
  },
  {
   "cell_type": "code",
   "execution_count": 19,
   "metadata": {
    "collapsed": true,
    "deletable": true,
    "editable": true
   },
   "outputs": [],
   "source": [
    "# method 2\n",
    "vlist = [[8,-2,2], [4,2,4], [5,-5,2]]"
   ]
  },
  {
   "cell_type": "code",
   "execution_count": 20,
   "metadata": {
    "collapsed": false,
    "deletable": true,
    "editable": true
   },
   "outputs": [
    {
     "data": {
      "text/plain": [
       "[array([ 8, -2,  2]), array([ 0.,  3.,  3.]), array([-1., -2.,  2.])]"
      ]
     },
     "execution_count": 20,
     "metadata": {},
     "output_type": "execute_result"
    }
   ],
   "source": [
    "orthogonalize(vlist)"
   ]
  },
  {
   "cell_type": "code",
   "execution_count": 21,
   "metadata": {
    "collapsed": true,
    "deletable": true,
    "editable": true
   },
   "outputs": [],
   "source": [
    "def aug_orthogonalize(vlist):\n",
    "    vstarlist = []\n",
    "    sigma_vecs = []\n",
    "    for v in vlist:\n",
    "        (vstar, sigma_vec) = aug_project_othogonal(v, vstarlist)\n",
    "        vstarlist.append(vstar)\n",
    "        sigma_vecs.append(np.array([sigma_vec[i] if i < len(sigma_vec) else 0 for i in range(len(vlist))]))\n",
    "    return vstarlist, sigma_vecs"
   ]
  },
  {
   "cell_type": "code",
   "execution_count": 22,
   "metadata": {
    "collapsed": false,
    "deletable": true,
    "editable": true
   },
   "outputs": [
    {
     "data": {
      "text/plain": [
       "([array([ 2.,  0.,  0.]), array([ 0.,  2.,  2.]), array([ 0., -1.,  1.])],\n",
       " [array([1, 0, 0]), array([ 0.5,  1. ,  0. ]), array([ 0.5,  0.5,  1. ])])"
      ]
     },
     "execution_count": 22,
     "metadata": {},
     "output_type": "execute_result"
    }
   ],
   "source": [
    "vlist = [[2,0,0], [1,2,2], [1,0,2]]\n",
    "aug_orthogonalize(vlist)"
   ]
  },
  {
   "cell_type": "code",
   "execution_count": 24,
   "metadata": {
    "collapsed": false
   },
   "outputs": [],
   "source": [
    "L = [[8,-2,2], [0,3,3], [1,0,0], [0,1,0], [0,0,1]]"
   ]
  },
  {
   "cell_type": "code",
   "execution_count": 29,
   "metadata": {
    "collapsed": false
   },
   "outputs": [
    {
     "name": "stdout",
     "output_type": "stream",
     "text": [
      "[array([ 8, -2,  2]), array([ 0.,  3.,  3.]), array([ 0.11111111,  0.22222222, -0.22222222]), array([ -8.32667268e-17,   1.66533454e-16,   5.55111512e-17]), array([  8.32667268e-17,   5.55111512e-17,   1.66533454e-16])]\n"
     ]
    }
   ],
   "source": [
    "Lstar = orthogonalize(L)\n",
    "print(Lstar)"
   ]
  },
  {
   "cell_type": "code",
   "execution_count": 30,
   "metadata": {
    "collapsed": false
   },
   "outputs": [
    {
     "name": "stdout",
     "output_type": "stream",
     "text": [
      "[ 0.11111111  0.22222222 -0.22222222]\n",
      "[ -8.32667268e-17   1.66533454e-16   5.55111512e-17]\n",
      "[  8.32667268e-17   5.55111512e-17   1.66533454e-16]\n"
     ]
    }
   ],
   "source": [
    "print(Lstar[2])\n",
    "print(Lstar[3])\n",
    "print(Lstar[4])"
   ]
  }
 ],
 "metadata": {
  "kernelspec": {
   "display_name": "Python 3",
   "language": "python",
   "name": "python3"
  },
  "language_info": {
   "codemirror_mode": {
    "name": "ipython",
    "version": 3
   },
   "file_extension": ".py",
   "mimetype": "text/x-python",
   "name": "python",
   "nbconvert_exporter": "python",
   "pygments_lexer": "ipython3",
   "version": "3.6.0"
  }
 },
 "nbformat": 4,
 "nbformat_minor": 2
}
