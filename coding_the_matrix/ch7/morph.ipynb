{
 "cells": [
  {
   "cell_type": "code",
   "execution_count": 1,
   "metadata": {
    "collapsed": false,
    "deletable": true,
    "editable": true
   },
   "outputs": [],
   "source": [
    "import source as sc\n",
    "\n",
    "def morph(S, B):\n",
    "    T = S[:]\n",
    "    k = []\n",
    "    for z in B:\n",
    "        T_B = sc.exchange(T,B,z)\n",
    "        print(\"exchange :\", T_B)\n",
    "        if T_B:\n",
    "            k.append((z, T_B[0]))\n",
    "            T.append(z)\n",
    "            T.remove(T_B[0])\n",
    "        print(\"T :\", T)\n",
    "        print(\"k :\", k)\n",
    "    return k"
   ]
  },
  {
   "cell_type": "code",
   "execution_count": 2,
   "metadata": {
    "collapsed": true,
    "deletable": true,
    "editable": true
   },
   "outputs": [],
   "source": [
    "S = [[2,4,0],[1,0,3],[0,4,4],[1,1,1]]\n",
    "B = [[1,0,0],[0,1,0],[0,0,1]]"
   ]
  },
  {
   "cell_type": "code",
   "execution_count": 3,
   "metadata": {
    "collapsed": false,
    "deletable": true,
    "editable": true
   },
   "outputs": [
    {
     "name": "stdout",
     "output_type": "stream",
     "text": [
      "exchange : [[2, 4, 0], [1, 0, 3], [0, 4, 4], [1, 1, 1]]\n",
      "T : [[1, 0, 3], [0, 4, 4], [1, 1, 1], [1, 0, 0]]\n",
      "k : [([1, 0, 0], [2, 4, 0])]\n",
      "exchange : [[1, 0, 3], [0, 4, 4], [1, 1, 1]]\n",
      "T : [[0, 4, 4], [1, 1, 1], [1, 0, 0], [0, 1, 0]]\n",
      "k : [([1, 0, 0], [2, 4, 0]), ([0, 1, 0], [1, 0, 3])]\n",
      "exchange : [[0, 4, 4], [1, 1, 1]]\n",
      "T : [[1, 1, 1], [1, 0, 0], [0, 1, 0], [0, 0, 1]]\n",
      "k : [([1, 0, 0], [2, 4, 0]), ([0, 1, 0], [1, 0, 3]), ([0, 0, 1], [0, 4, 4])]\n",
      "injecting  [1, 0, 0]\n",
      "ejecting  [2, 4, 0]\n",
      "\n",
      "injecting  [0, 1, 0]\n",
      "ejecting  [1, 0, 3]\n",
      "\n",
      "injecting  [0, 0, 1]\n",
      "ejecting  [0, 4, 4]\n",
      "\n"
     ]
    }
   ],
   "source": [
    "for (z,w) in morph(S, B):\n",
    "    print(\"injecting \", z)\n",
    "    print(\"ejecting \", w)\n",
    "    print()"
   ]
  }
 ],
 "metadata": {
  "kernelspec": {
   "display_name": "Python 3",
   "language": "python",
   "name": "python3"
  },
  "language_info": {
   "codemirror_mode": {
    "name": "ipython",
    "version": 3
   },
   "file_extension": ".py",
   "mimetype": "text/x-python",
   "name": "python",
   "nbconvert_exporter": "python",
   "pygments_lexer": "ipython3",
   "version": "3.6.0"
  }
 },
 "nbformat": 4,
 "nbformat_minor": 2
}
