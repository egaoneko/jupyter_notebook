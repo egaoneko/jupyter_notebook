{
 "cells": [
  {
   "cell_type": "code",
   "execution_count": 1,
   "metadata": {
    "collapsed": true
   },
   "outputs": [],
   "source": [
    "import source as sc\n",
    "import numpy as np\n",
    "\n",
    "def is_invertible(M):\n",
    "    m = np.matrix(M)\n",
    "    t_m = np.transpose(m)\n",
    "    \n",
    "    r_rank = sc.rank(m.tolist())\n",
    "    # print(r_rank)\n",
    "    \n",
    "    c_rank = sc.rank(t_m.tolist())\n",
    "    # print(c_rank)\n",
    "    \n",
    "    return (r_rank == c_rank) and sc.is_independent(t_m.tolist())"
   ]
  },
  {
   "cell_type": "code",
   "execution_count": 2,
   "metadata": {
    "collapsed": false
   },
   "outputs": [
    {
     "name": "stdout",
     "output_type": "stream",
     "text": [
      "False\n"
     ]
    }
   ],
   "source": [
    "print(is_invertible([[1,2,3],\n",
    "                     [3,1,1]]))"
   ]
  },
  {
   "cell_type": "code",
   "execution_count": 3,
   "metadata": {
    "collapsed": false
   },
   "outputs": [
    {
     "name": "stdout",
     "output_type": "stream",
     "text": [
      "True\n"
     ]
    }
   ],
   "source": [
    "print(is_invertible([[1,0,1,0],\n",
    "                     [0,2,1,0],\n",
    "                     [0,0,3,1],\n",
    "                     [0,0,0,4]]))"
   ]
  },
  {
   "cell_type": "code",
   "execution_count": 4,
   "metadata": {
    "collapsed": false
   },
   "outputs": [
    {
     "name": "stdout",
     "output_type": "stream",
     "text": [
      "True\n"
     ]
    }
   ],
   "source": [
    "print(is_invertible([[1,0],\n",
    "                     [0,1],\n",
    "                     [2,1]]))"
   ]
  }
 ],
 "metadata": {
  "kernelspec": {
   "display_name": "Python 3",
   "language": "python",
   "name": "python3"
  },
  "language_info": {
   "codemirror_mode": {
    "name": "ipython",
    "version": 3
   },
   "file_extension": ".py",
   "mimetype": "text/x-python",
   "name": "python",
   "nbconvert_exporter": "python",
   "pygments_lexer": "ipython3",
   "version": "3.6.0"
  }
 },
 "nbformat": 4,
 "nbformat_minor": 2
}
