{
 "cells": [
  {
   "cell_type": "code",
   "execution_count": 1,
   "metadata": {
    "collapsed": false
   },
   "outputs": [],
   "source": [
    "import source as sc\n",
    "import numpy as np\n",
    "\n",
    "def find_triangular_matrix_invese(A):\n",
    "    I = np.identity(sc.rank(A)).tolist()\n",
    "#     print(I)\n",
    "    \n",
    "    B_vec = None\n",
    "    \n",
    "    for idx in range(len(A)) :\n",
    "#         print(triangular_solve(A, I[idx]))\n",
    "\n",
    "        t_solve = triangular_solve(A, I[idx])\n",
    "        if idx != 0:\n",
    "            B_vec = np.vstack((B_vec, t_solve))\n",
    "        else:\n",
    "            B_vec = t_solve\n",
    "\n",
    "    return np.transpose(np.asmatrix(B_vec))\n",
    "\n",
    "def triangular_solve(rowlist, b):\n",
    "    rows = np.array(rowlist)\n",
    "    x = np.zeros(rows[0].shape)\n",
    "#     print(rows, x)\n",
    "    \n",
    "    for j in reversed(range(len(rows))):\n",
    "        row = rowlist[j]\n",
    "#         print(b[j], np.dot(x, row), row[j])\n",
    "        x[j] = (b[j] - np.dot(x, row)) / row[j]\n",
    "    return x"
   ]
  },
  {
   "cell_type": "code",
   "execution_count": 2,
   "metadata": {
    "collapsed": false
   },
   "outputs": [
    {
     "data": {
      "text/plain": [
       "array([-67.,  18., -19.,   3.])"
      ]
     },
     "execution_count": 2,
     "metadata": {},
     "output_type": "execute_result"
    }
   ],
   "source": [
    "triangular_solve([[1,0.5,-2,4],[0,3,3,2],[0,0,1,5],[0,0,0,2]],[-8,3,-4,6])"
   ]
  },
  {
   "cell_type": "code",
   "execution_count": 3,
   "metadata": {
    "collapsed": false
   },
   "outputs": [],
   "source": [
    "A = [[1,0.5,-2,4],[0,3,3,2],[0,0,1,5],[0,0,0,2]]\n",
    "B = find_triangular_matrix_invese(A)"
   ]
  },
  {
   "cell_type": "code",
   "execution_count": 4,
   "metadata": {
    "collapsed": false
   },
   "outputs": [
    {
     "name": "stdout",
     "output_type": "stream",
     "text": [
      "[[  1.00000000e+00   0.00000000e+00   0.00000000e+00   8.88178420e-16]\n",
      " [  0.00000000e+00   1.00000000e+00   0.00000000e+00   0.00000000e+00]\n",
      " [  0.00000000e+00   0.00000000e+00   1.00000000e+00   0.00000000e+00]\n",
      " [  0.00000000e+00   0.00000000e+00   0.00000000e+00   1.00000000e+00]]\n"
     ]
    }
   ],
   "source": [
    "print(np.matrix(A) * B)"
   ]
  },
  {
   "cell_type": "code",
   "execution_count": null,
   "metadata": {
    "collapsed": true
   },
   "outputs": [],
   "source": []
  }
 ],
 "metadata": {
  "kernelspec": {
   "display_name": "Python 3",
   "language": "python",
   "name": "python3"
  },
  "language_info": {
   "codemirror_mode": {
    "name": "ipython",
    "version": 3
   },
   "file_extension": ".py",
   "mimetype": "text/x-python",
   "name": "python",
   "nbconvert_exporter": "python",
   "pygments_lexer": "ipython3",
   "version": "3.6.0"
  }
 },
 "nbformat": 4,
 "nbformat_minor": 2
}
