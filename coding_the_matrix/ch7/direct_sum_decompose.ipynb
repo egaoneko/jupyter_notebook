{
 "cells": [
  {
   "cell_type": "code",
   "execution_count": 1,
   "metadata": {
    "collapsed": false,
    "deletable": true,
    "editable": true
   },
   "outputs": [],
   "source": [
    "import source as sc\n",
    "import numpy as np\n",
    "\n",
    "def direct_sum_decompose(U_basis, V_basis, w):\n",
    "    U_basis_vec = np.array(U_basis)\n",
    "    V_basis_vec = np.array(V_basis)\n",
    "    joined_list = np.vstack((U_basis_vec, V_basis_vec))\n",
    "    u_vec = np.zeros(U_basis_vec[0].shape)\n",
    "    v_vec = np.zeros(V_basis_vec[0].shape)\n",
    "#     print(joined_list)\n",
    "    \n",
    "    A = np.transpose(np.array(joined_list))\n",
    "    b = np.array(w)\n",
    "    vec = sc.solve(A, b)[0]\n",
    "#     print(vec)\n",
    "    \n",
    "    for (idx, a) in enumerate(vec):\n",
    "#         print(idx, a)\n",
    "        if (joined_list[idx].tolist() in U_basis):\n",
    "#             print(u_vec)\n",
    "            u_vec = u_vec + (a * joined_list[idx])\n",
    "#             print(u_vec)\n",
    "        elif (joined_list[idx].tolist() in V_basis):\n",
    "#             print(v_vec)\n",
    "            v_vec = v_vec + (a * joined_list[idx])\n",
    "#             print(v_vec)\n",
    "#     print(u_vec, v_vec)\n",
    "    return u_vec, v_vec\n"
   ]
  },
  {
   "cell_type": "code",
   "execution_count": 2,
   "metadata": {
    "collapsed": false,
    "deletable": true,
    "editable": true
   },
   "outputs": [],
   "source": [
    "U_basis = [[2,1,0,0,6,0],[11,5,0,0,1,0],[3,1.5,0,0,7.5,0]]\n",
    "V_basis = [[0,0,7,0,0,1],[0,0,15,0,0,2]]"
   ]
  },
  {
   "cell_type": "code",
   "execution_count": 3,
   "metadata": {
    "collapsed": false,
    "deletable": true,
    "editable": true
   },
   "outputs": [
    {
     "name": "stdout",
     "output_type": "stream",
     "text": [
      "(array([ 2.,  5.,  0.,  0.,  1.,  0.]), array([ 0.,  0.,  0.,  0.,  0.,  0.]))\n"
     ]
    }
   ],
   "source": [
    "w = [2,5,0,0,1,0]\n",
    "print(direct_sum_decompose(U_basis, V_basis, w))"
   ]
  },
  {
   "cell_type": "code",
   "execution_count": 4,
   "metadata": {
    "collapsed": false,
    "deletable": true,
    "editable": true
   },
   "outputs": [
    {
     "name": "stdout",
     "output_type": "stream",
     "text": [
      "(array([ 0.,  0.,  0.,  0.,  0.,  0.]), array([ 0.,  0.,  3.,  0.,  0., -4.]))\n"
     ]
    }
   ],
   "source": [
    "w = [0,0,3,0,0,-4]\n",
    "print(direct_sum_decompose(U_basis, V_basis, w))"
   ]
  },
  {
   "cell_type": "code",
   "execution_count": 5,
   "metadata": {
    "collapsed": false,
    "deletable": true,
    "editable": true
   },
   "outputs": [
    {
     "name": "stdout",
     "output_type": "stream",
     "text": [
      "(array([ 1.,  2.,  0.,  0.,  2.,  0.]), array([  0.00000000e+00,   0.00000000e+00,  -2.84217094e-14,\n",
      "         0.00000000e+00,   0.00000000e+00,   1.00000000e+00]))\n"
     ]
    }
   ],
   "source": [
    "w = [1,2,0,0,2,1]\n",
    "print(direct_sum_decompose(U_basis, V_basis, w))"
   ]
  },
  {
   "cell_type": "code",
   "execution_count": 6,
   "metadata": {
    "collapsed": false
   },
   "outputs": [
    {
     "name": "stdout",
     "output_type": "stream",
     "text": [
      "(array([-6.,  2.,  0.,  0.,  4.,  0.]), array([ 0.,  0.,  4.,  0.,  0.,  5.]))\n"
     ]
    }
   ],
   "source": [
    "w = [-6,2,4,0,4,5]\n",
    "print(direct_sum_decompose(U_basis, V_basis, w))"
   ]
  },
  {
   "cell_type": "code",
   "execution_count": null,
   "metadata": {
    "collapsed": true
   },
   "outputs": [],
   "source": []
  }
 ],
 "metadata": {
  "kernelspec": {
   "display_name": "Python 3",
   "language": "python",
   "name": "python3"
  },
  "language_info": {
   "codemirror_mode": {
    "name": "ipython",
    "version": 3
   },
   "file_extension": ".py",
   "mimetype": "text/x-python",
   "name": "python",
   "nbconvert_exporter": "python",
   "pygments_lexer": "ipython3",
   "version": "3.6.0"
  }
 },
 "nbformat": 4,
 "nbformat_minor": 2
}
