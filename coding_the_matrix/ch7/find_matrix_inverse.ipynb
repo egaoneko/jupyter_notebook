{
 "cells": [
  {
   "cell_type": "code",
   "execution_count": 1,
   "metadata": {
    "collapsed": false
   },
   "outputs": [],
   "source": [
    "import source as sc\n",
    "import numpy as np\n",
    "\n",
    "def find_matrix_inverse(A):\n",
    "    if not sc.is_invertible(A):\n",
    "        return None\n",
    "    A_m = np.matrix(A)\n",
    "    # print(A)\n",
    "    I = np.identity(sc.rank(A_m.tolist()))\n",
    "    # print(b)\n",
    "    mat = sc.solve(A_m, I)[0]\n",
    "    # print(vec)\n",
    "    return mat.tolist()"
   ]
  },
  {
   "cell_type": "code",
   "execution_count": 2,
   "metadata": {
    "collapsed": false
   },
   "outputs": [],
   "source": [
    "A = [[1,2],[3,4]]\n",
    "B = find_matrix_inverse(A)"
   ]
  },
  {
   "cell_type": "code",
   "execution_count": 3,
   "metadata": {
    "collapsed": false
   },
   "outputs": [
    {
     "name": "stdout",
     "output_type": "stream",
     "text": [
      "[[  1.00000000e+00  -2.22044605e-16]\n",
      " [ -2.66453526e-15   1.00000000e+00]]\n"
     ]
    }
   ],
   "source": [
    "print(np.matrix(A) * np.matrix(B))"
   ]
  },
  {
   "cell_type": "code",
   "execution_count": null,
   "metadata": {
    "collapsed": true
   },
   "outputs": [],
   "source": []
  }
 ],
 "metadata": {
  "kernelspec": {
   "display_name": "Python 3",
   "language": "python",
   "name": "python3"
  },
  "language_info": {
   "codemirror_mode": {
    "name": "ipython",
    "version": 3
   },
   "file_extension": ".py",
   "mimetype": "text/x-python",
   "name": "python",
   "nbconvert_exporter": "python",
   "pygments_lexer": "ipython3",
   "version": "3.6.0"
  }
 },
 "nbformat": 4,
 "nbformat_minor": 2
}
