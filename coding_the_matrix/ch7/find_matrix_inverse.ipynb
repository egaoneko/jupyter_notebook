{
 "cells": [
  {
   "cell_type": "code",
   "execution_count": 1,
   "metadata": {
    "collapsed": false,
    "deletable": true,
    "editable": true
   },
   "outputs": [],
   "source": [
    "import source as sc\n",
    "import numpy as np\n",
    "\n",
    "def find_matrix_inverse(A):\n",
    "    if not sc.is_invertible(A):\n",
    "        return None\n",
    "    A_m = np.matrix(A)\n",
    "    # print(A)\n",
    "    I = np.identity(sc.rank(A_m.tolist()))\n",
    "    # print(I)\n",
    "    mat = sc.solve(A_m, I)[0]\n",
    "    # print(mat)\n",
    "    return mat.tolist()"
   ]
  },
  {
   "cell_type": "code",
   "execution_count": 2,
   "metadata": {
    "collapsed": false,
    "deletable": true,
    "editable": true
   },
   "outputs": [],
   "source": [
    "A = [[1,2],[3,4]]\n",
    "B = find_matrix_inverse(A)"
   ]
  },
  {
   "cell_type": "code",
   "execution_count": 3,
   "metadata": {
    "collapsed": false,
    "deletable": true,
    "editable": true
   },
   "outputs": [
    {
     "name": "stdout",
     "output_type": "stream",
     "text": [
      "[[  1.00000000e+00  -2.22044605e-16]\n",
      " [ -2.66453526e-15   1.00000000e+00]]\n"
     ]
    }
   ],
   "source": [
    "print(np.matrix(A) * np.matrix(B))"
   ]
  },
  {
   "cell_type": "code",
   "execution_count": 4,
   "metadata": {
    "collapsed": false,
    "deletable": true,
    "editable": true
   },
   "outputs": [],
   "source": [
    "def find_matrix_inverse_for_fg2(A):\n",
    "    row, col = A.shape\n",
    "    if row != col:\n",
    "        return None\n",
    "    \n",
    "    I = sc.GF2Utils.getMatrix(np.identity(row))\n",
    "    mat = sc.solve(A, I)[0]\n",
    "    return sc.GF2Utils.getMatrix(mat)"
   ]
  },
  {
   "cell_type": "code",
   "execution_count": 5,
   "metadata": {
    "collapsed": false,
    "deletable": true,
    "editable": true
   },
   "outputs": [],
   "source": [
    "A = sc.GF2Utils.getMatrix([[0,1,0],[1,0,0],[0,0,1]])\n",
    "B = find_matrix_inverse_for_fg2(A)"
   ]
  },
  {
   "cell_type": "code",
   "execution_count": 6,
   "metadata": {
    "collapsed": false,
    "deletable": true,
    "editable": true
   },
   "outputs": [
    {
     "name": "stdout",
     "output_type": "stream",
     "text": [
      "[[GF2(1) GF2(0) GF2(0)]\n",
      " [GF2(0) GF2(1) GF2(0)]\n",
      " [GF2(0) GF2(0) GF2(1)]]\n"
     ]
    }
   ],
   "source": [
    "print(A * B)"
   ]
  },
  {
   "cell_type": "code",
   "execution_count": null,
   "metadata": {
    "collapsed": true,
    "deletable": true,
    "editable": true
   },
   "outputs": [],
   "source": []
  }
 ],
 "metadata": {
  "kernelspec": {
   "display_name": "Python 3",
   "language": "python",
   "name": "python3"
  },
  "language_info": {
   "codemirror_mode": {
    "name": "ipython",
    "version": 3
   },
   "file_extension": ".py",
   "mimetype": "text/x-python",
   "name": "python",
   "nbconvert_exporter": "python",
   "pygments_lexer": "ipython3",
   "version": "3.6.0"
  }
 },
 "nbformat": 4,
 "nbformat_minor": 2
}
